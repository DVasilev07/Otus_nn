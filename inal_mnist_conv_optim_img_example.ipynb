{
 "cells": [
  {
   "cell_type": "code",
   "execution_count": 35,
   "metadata": {},
   "outputs": [],
   "source": [
    "import torch\n",
    "import torch.nn as nn\n",
    "import torch.nn.functional as F\n",
    "import torch.optim as optim\n",
    "import torchvision\n",
    "from torchvision import datasets, transforms\n",
    "\n",
    "from utils import mnist, plot_graphs, plot_mnist, mnist_transform\n",
    "import numpy as np\n",
    "\n",
    "%matplotlib inline"
   ]
  },
  {
   "cell_type": "code",
   "execution_count": 36,
   "metadata": {},
   "outputs": [],
   "source": [
    "import matplotlib\n",
    "import matplotlib.pyplot as plt\n",
    "import numpy as np\n",
    "%matplotlib inline"
   ]
  },
  {
   "cell_type": "code",
   "execution_count": 37,
   "metadata": {},
   "outputs": [],
   "source": [
    "train_loader, valid_loader, test_loader = mnist(valid=10000, transform=transforms.ToTensor())"
   ]
  },
  {
   "cell_type": "code",
   "execution_count": 38,
   "metadata": {},
   "outputs": [],
   "source": [
    "class ConvLayer(nn.Module):\n",
    "    def __init__(self, size, padding=1, pool_layer=nn.MaxPool2d(2, stride=2),\n",
    "                 bn=False, dropout=False, activation_fn=nn.ReLU()):\n",
    "        super(ConvLayer, self).__init__()\n",
    "        layers = []\n",
    "        layers.append(nn.Conv2d(size[0], size[1], size[2], padding=padding))\n",
    "        if pool_layer is not None:\n",
    "            layers.append(pool_layer)\n",
    "        if bn:\n",
    "            layers.append(nn.BatchNorm2d(size[1]))\n",
    "        if dropout:\n",
    "            layers.append(nn.Dropout2d())\n",
    "        layers.append(activation_fn)\n",
    "        \n",
    "        self.model = nn.Sequential(*layers)\n",
    "    \n",
    "    def forward(self, x):\n",
    "        return self.model(x)"
   ]
  },
  {
   "cell_type": "code",
   "execution_count": 39,
   "metadata": {},
   "outputs": [],
   "source": [
    "class FullyConnected(nn.Module):\n",
    "    def __init__(self, sizes, dropout=False, activation_fn=nn.Tanh):\n",
    "        super(FullyConnected, self).__init__()\n",
    "        layers = []\n",
    "        \n",
    "        for i in range(len(sizes) - 2):\n",
    "            layers.append(nn.Linear(sizes[i], sizes[i+1]))\n",
    "            if dropout:\n",
    "                layers.append(nn.Dropout())\n",
    "            layers.append(activation_fn())\n",
    "        else: # нам не нужен дропаут и фнкция активации в последнем слое\n",
    "            layers.append(nn.Linear(sizes[-2], sizes[-1]))\n",
    "        \n",
    "        self.model = nn.Sequential(*layers)\n",
    "        \n",
    "    def forward(self, x):\n",
    "        return self.model(x)"
   ]
  },
  {
   "cell_type": "code",
   "execution_count": 40,
   "metadata": {},
   "outputs": [],
   "source": [
    "class Net(nn.Module):\n",
    "    def __init__(self, batchnorm=False, dropout=False, lr=1e-4, l2=0.):\n",
    "        super(Net, self).__init__()\n",
    "        \n",
    "        \n",
    "        self._conv1 = ConvLayer([1, 16, 3], bn=batchnorm)\n",
    "        self._conv2 = ConvLayer([16, 32, 3], bn=batchnorm, activation_fn=nn.Sigmoid())\n",
    "        \n",
    "        self.fc = FullyConnected([32*7*7, 10], dropout=dropout, activation_fn =nn.Sigmoid() )\n",
    "        \n",
    "        self._loss = None\n",
    "        self.optim = optim.Adam(self.parameters(), lr=lr, weight_decay=l2)\n",
    "    \n",
    "    def conv(self, x):\n",
    "        x = self._conv1(x)\n",
    "        x = self._conv2(x)\n",
    "        return x\n",
    "    \n",
    "\n",
    "        \n",
    "    def forward(self, x):\n",
    "        x = self.conv(x)\n",
    "        x = x.view(-1, 32*7*7)\n",
    "        x = self.fc(x)\n",
    "        return x\n",
    "    \n",
    "    def loss(self, output, target, **kwargs):\n",
    "        self._loss = F.cross_entropy(output, target, **kwargs)\n",
    "        self._correct = output.data.max(1, keepdim=True)[1]\n",
    "        self._correct = self._correct.eq(target.data.view_as(self._correct)).to(torch.float).cpu().mean()\n",
    "        return self._loss"
   ]
  },
  {
   "cell_type": "code",
   "execution_count": 41,
   "metadata": {},
   "outputs": [],
   "source": [
    "#models = {'bn': Net(True), 'drop': Net(False, True), 'plain': Net()}\n",
    "models = {'bn': Net(True)}\n",
    "train_log = {k: [] for k in models}\n",
    "test_log = {k: [] for k in models}"
   ]
  },
  {
   "cell_type": "code",
   "execution_count": 42,
   "metadata": {},
   "outputs": [],
   "source": [
    "def train(epoch, models, log=None):\n",
    "    train_size = len(train_loader.sampler)\n",
    "    for batch_idx, (data, target) in enumerate(train_loader):\n",
    "        for model in models.values():\n",
    "            model.optim.zero_grad()\n",
    "            output = model(data)\n",
    "            loss = model.loss(output, target)\n",
    "            loss.backward()\n",
    "            model.optim.step()\n",
    "            \n",
    "        if batch_idx % 200 == 0:\n",
    "            line = 'Train Epoch: {} [{}/{} ({:.0f}%)]\\tLosses '.format(\n",
    "                epoch, batch_idx * len(data), train_size, 100. * batch_idx / len(train_loader))\n",
    "            losses = ' '.join(['{}: {:.6f}'.format(k, m._loss.item()) for k, m in models.items()])\n",
    "            print(line + losses)\n",
    "            \n",
    "    else:\n",
    "        batch_idx += 1\n",
    "        line = 'Train Epoch: {} [{}/{} ({:.0f}%)]\\tLosses '.format(\n",
    "            epoch, batch_idx * len(data), train_size, 100. * batch_idx / len(train_loader))\n",
    "        losses = ' '.join(['{}: {:.6f}'.format(k, m._loss.item()) for k, m in models.items()])\n",
    "        if log is not None:\n",
    "            for k in models:\n",
    "                log[k].append((models[k]._loss, models[k]._correct))\n",
    "        print(line + losses)"
   ]
  },
  {
   "cell_type": "code",
   "execution_count": 43,
   "metadata": {},
   "outputs": [],
   "source": [
    "def test(models, loader, log=None):\n",
    "    test_size = len(loader.sampler)\n",
    "    avg_lambda = lambda l: 'Loss: {:.4f}'.format(l)\n",
    "    acc_lambda = lambda c, p: 'Accuracy: {}/{} ({:.0f}%)'.format(c, test_size, p)\n",
    "    line = lambda i, l, c, p: '{}: '.format(i) + avg_lambda(l) + '\\t' + acc_lambda(c, p)\n",
    "\n",
    "    test_loss = {k: 0. for k in models}\n",
    "    correct = {k: 0. for k in models}\n",
    "    with torch.no_grad():\n",
    "        for data, target in loader:\n",
    "            output = {k: m(data) for k, m in models.items()}\n",
    "            for k, m in models.items():\n",
    "                test_loss[k] += m.loss(output[k], target, reduction='sum').item() # sum up batch loss\n",
    "                pred = output[k].data.max(1, keepdim=True)[1] # get the index of the max log-probability\n",
    "                correct[k] += pred.eq(target.data.view_as(pred)).cpu().sum().item()\n",
    "    \n",
    "    for k in models:\n",
    "        test_loss[k] /= test_size\n",
    "    correct_pct = {k: c / test_size for k, c in correct.items()}\n",
    "    lines = '\\n'.join([line(k, test_loss[k], correct[k], 100*correct_pct[k]) for k in models]) + '\\n'\n",
    "    report = 'Test set:\\n' + lines\n",
    "    if log is not None:\n",
    "        for k in models:\n",
    "            log[k].append((test_loss[k], correct_pct[k]))\n",
    "    print(report)"
   ]
  },
  {
   "cell_type": "code",
   "execution_count": 44,
   "metadata": {},
   "outputs": [
    {
     "name": "stdout",
     "output_type": "stream",
     "text": [
      "Train Epoch: 1 [0/50000 (0%)]\tLosses bn: 2.393206\n",
      "Train Epoch: 1 [10000/50000 (20%)]\tLosses bn: 1.935383\n",
      "Train Epoch: 1 [20000/50000 (40%)]\tLosses bn: 1.609087\n",
      "Train Epoch: 1 [30000/50000 (60%)]\tLosses bn: 1.204871\n",
      "Train Epoch: 1 [40000/50000 (80%)]\tLosses bn: 1.090108\n",
      "Train Epoch: 1 [50000/50000 (100%)]\tLosses bn: 0.955212\n",
      "Test set:\n",
      "bn: Loss: 0.8145\tAccuracy: 9117.0/10000 (91%)\n",
      "\n",
      "Train Epoch: 2 [0/50000 (0%)]\tLosses bn: 0.913782\n",
      "Train Epoch: 2 [10000/50000 (20%)]\tLosses bn: 0.564849\n",
      "Train Epoch: 2 [20000/50000 (40%)]\tLosses bn: 0.544256\n",
      "Train Epoch: 2 [30000/50000 (60%)]\tLosses bn: 0.468860\n",
      "Train Epoch: 2 [40000/50000 (80%)]\tLosses bn: 0.430222\n",
      "Train Epoch: 2 [50000/50000 (100%)]\tLosses bn: 0.466900\n",
      "Test set:\n",
      "bn: Loss: 0.3829\tAccuracy: 9395.0/10000 (94%)\n",
      "\n",
      "Train Epoch: 3 [0/50000 (0%)]\tLosses bn: 0.339002\n",
      "Train Epoch: 3 [10000/50000 (20%)]\tLosses bn: 0.492826\n",
      "Train Epoch: 3 [20000/50000 (40%)]\tLosses bn: 0.242072\n",
      "Train Epoch: 3 [30000/50000 (60%)]\tLosses bn: 0.308139\n",
      "Train Epoch: 3 [40000/50000 (80%)]\tLosses bn: 0.222571\n",
      "Train Epoch: 3 [50000/50000 (100%)]\tLosses bn: 0.177356\n",
      "Test set:\n",
      "bn: Loss: 0.2471\tAccuracy: 9510.0/10000 (95%)\n",
      "\n",
      "Train Epoch: 4 [0/50000 (0%)]\tLosses bn: 0.253487\n",
      "Train Epoch: 4 [10000/50000 (20%)]\tLosses bn: 0.274624\n",
      "Train Epoch: 4 [20000/50000 (40%)]\tLosses bn: 0.275063\n",
      "Train Epoch: 4 [30000/50000 (60%)]\tLosses bn: 0.104575\n",
      "Train Epoch: 4 [40000/50000 (80%)]\tLosses bn: 0.243377\n",
      "Train Epoch: 4 [50000/50000 (100%)]\tLosses bn: 0.268211\n",
      "Test set:\n",
      "bn: Loss: 0.1826\tAccuracy: 9607.0/10000 (96%)\n",
      "\n",
      "Train Epoch: 5 [0/50000 (0%)]\tLosses bn: 0.198276\n",
      "Train Epoch: 5 [10000/50000 (20%)]\tLosses bn: 0.119616\n",
      "Train Epoch: 5 [20000/50000 (40%)]\tLosses bn: 0.273198\n",
      "Train Epoch: 5 [30000/50000 (60%)]\tLosses bn: 0.183451\n",
      "Train Epoch: 5 [40000/50000 (80%)]\tLosses bn: 0.148408\n",
      "Train Epoch: 5 [50000/50000 (100%)]\tLosses bn: 0.116653\n",
      "Test set:\n",
      "bn: Loss: 0.1461\tAccuracy: 9664.0/10000 (97%)\n",
      "\n",
      "Train Epoch: 6 [0/50000 (0%)]\tLosses bn: 0.101699\n",
      "Train Epoch: 6 [10000/50000 (20%)]\tLosses bn: 0.125540\n",
      "Train Epoch: 6 [20000/50000 (40%)]\tLosses bn: 0.114142\n",
      "Train Epoch: 6 [30000/50000 (60%)]\tLosses bn: 0.113954\n",
      "Train Epoch: 6 [40000/50000 (80%)]\tLosses bn: 0.069298\n",
      "Train Epoch: 6 [50000/50000 (100%)]\tLosses bn: 0.136914\n",
      "Test set:\n",
      "bn: Loss: 0.1210\tAccuracy: 9712.0/10000 (97%)\n",
      "\n",
      "Train Epoch: 7 [0/50000 (0%)]\tLosses bn: 0.104738\n",
      "Train Epoch: 7 [10000/50000 (20%)]\tLosses bn: 0.096152\n",
      "Train Epoch: 7 [20000/50000 (40%)]\tLosses bn: 0.082636\n",
      "Train Epoch: 7 [30000/50000 (60%)]\tLosses bn: 0.091155\n",
      "Train Epoch: 7 [40000/50000 (80%)]\tLosses bn: 0.130476\n",
      "Train Epoch: 7 [50000/50000 (100%)]\tLosses bn: 0.177962\n",
      "Test set:\n",
      "bn: Loss: 0.1053\tAccuracy: 9740.0/10000 (97%)\n",
      "\n",
      "Train Epoch: 8 [0/50000 (0%)]\tLosses bn: 0.054071\n",
      "Train Epoch: 8 [10000/50000 (20%)]\tLosses bn: 0.044188\n",
      "Train Epoch: 8 [20000/50000 (40%)]\tLosses bn: 0.062846\n",
      "Train Epoch: 8 [30000/50000 (60%)]\tLosses bn: 0.134378\n",
      "Train Epoch: 8 [40000/50000 (80%)]\tLosses bn: 0.136655\n",
      "Train Epoch: 8 [50000/50000 (100%)]\tLosses bn: 0.080521\n",
      "Test set:\n",
      "bn: Loss: 0.0942\tAccuracy: 9751.0/10000 (98%)\n",
      "\n",
      "Train Epoch: 9 [0/50000 (0%)]\tLosses bn: 0.186222\n",
      "Train Epoch: 9 [10000/50000 (20%)]\tLosses bn: 0.051795\n",
      "Train Epoch: 9 [20000/50000 (40%)]\tLosses bn: 0.049052\n",
      "Train Epoch: 9 [30000/50000 (60%)]\tLosses bn: 0.063056\n",
      "Train Epoch: 9 [40000/50000 (80%)]\tLosses bn: 0.107084\n",
      "Train Epoch: 9 [50000/50000 (100%)]\tLosses bn: 0.170130\n",
      "Test set:\n",
      "bn: Loss: 0.0866\tAccuracy: 9774.0/10000 (98%)\n",
      "\n",
      "Train Epoch: 10 [0/50000 (0%)]\tLosses bn: 0.066051\n",
      "Train Epoch: 10 [10000/50000 (20%)]\tLosses bn: 0.048374\n",
      "Train Epoch: 10 [20000/50000 (40%)]\tLosses bn: 0.036866\n",
      "Train Epoch: 10 [30000/50000 (60%)]\tLosses bn: 0.058067\n",
      "Train Epoch: 10 [40000/50000 (80%)]\tLosses bn: 0.152604\n",
      "Train Epoch: 10 [50000/50000 (100%)]\tLosses bn: 0.031617\n",
      "Test set:\n",
      "bn: Loss: 0.0770\tAccuracy: 9791.0/10000 (98%)\n",
      "\n",
      "Train Epoch: 11 [0/50000 (0%)]\tLosses bn: 0.046616\n",
      "Train Epoch: 11 [10000/50000 (20%)]\tLosses bn: 0.147483\n",
      "Train Epoch: 11 [20000/50000 (40%)]\tLosses bn: 0.038809\n",
      "Train Epoch: 11 [30000/50000 (60%)]\tLosses bn: 0.071318\n",
      "Train Epoch: 11 [40000/50000 (80%)]\tLosses bn: 0.049690\n",
      "Train Epoch: 11 [50000/50000 (100%)]\tLosses bn: 0.025464\n",
      "Test set:\n",
      "bn: Loss: 0.0725\tAccuracy: 9800.0/10000 (98%)\n",
      "\n",
      "Train Epoch: 12 [0/50000 (0%)]\tLosses bn: 0.037417\n",
      "Train Epoch: 12 [10000/50000 (20%)]\tLosses bn: 0.091986\n",
      "Train Epoch: 12 [20000/50000 (40%)]\tLosses bn: 0.044356\n",
      "Train Epoch: 12 [30000/50000 (60%)]\tLosses bn: 0.018799\n",
      "Train Epoch: 12 [40000/50000 (80%)]\tLosses bn: 0.123863\n",
      "Train Epoch: 12 [50000/50000 (100%)]\tLosses bn: 0.078143\n",
      "Test set:\n",
      "bn: Loss: 0.0708\tAccuracy: 9804.0/10000 (98%)\n",
      "\n",
      "Train Epoch: 13 [0/50000 (0%)]\tLosses bn: 0.070311\n",
      "Train Epoch: 13 [10000/50000 (20%)]\tLosses bn: 0.043535\n",
      "Train Epoch: 13 [20000/50000 (40%)]\tLosses bn: 0.058588\n",
      "Train Epoch: 13 [30000/50000 (60%)]\tLosses bn: 0.057201\n",
      "Train Epoch: 13 [40000/50000 (80%)]\tLosses bn: 0.015068\n",
      "Train Epoch: 13 [50000/50000 (100%)]\tLosses bn: 0.027704\n",
      "Test set:\n",
      "bn: Loss: 0.0663\tAccuracy: 9812.0/10000 (98%)\n",
      "\n",
      "Train Epoch: 14 [0/50000 (0%)]\tLosses bn: 0.027269\n",
      "Train Epoch: 14 [10000/50000 (20%)]\tLosses bn: 0.118234\n",
      "Train Epoch: 14 [20000/50000 (40%)]\tLosses bn: 0.071331\n",
      "Train Epoch: 14 [30000/50000 (60%)]\tLosses bn: 0.034549\n",
      "Train Epoch: 14 [40000/50000 (80%)]\tLosses bn: 0.024711\n",
      "Train Epoch: 14 [50000/50000 (100%)]\tLosses bn: 0.012959\n",
      "Test set:\n",
      "bn: Loss: 0.0615\tAccuracy: 9816.0/10000 (98%)\n",
      "\n",
      "Train Epoch: 15 [0/50000 (0%)]\tLosses bn: 0.032971\n",
      "Train Epoch: 15 [10000/50000 (20%)]\tLosses bn: 0.145430\n",
      "Train Epoch: 15 [20000/50000 (40%)]\tLosses bn: 0.020750\n",
      "Train Epoch: 15 [30000/50000 (60%)]\tLosses bn: 0.156199\n",
      "Train Epoch: 15 [40000/50000 (80%)]\tLosses bn: 0.062630\n",
      "Train Epoch: 15 [50000/50000 (100%)]\tLosses bn: 0.020588\n",
      "Test set:\n",
      "bn: Loss: 0.0592\tAccuracy: 9839.0/10000 (98%)\n",
      "\n",
      "Train Epoch: 16 [0/50000 (0%)]\tLosses bn: 0.035946\n",
      "Train Epoch: 16 [10000/50000 (20%)]\tLosses bn: 0.077642\n",
      "Train Epoch: 16 [20000/50000 (40%)]\tLosses bn: 0.065539\n",
      "Train Epoch: 16 [30000/50000 (60%)]\tLosses bn: 0.014120\n",
      "Train Epoch: 16 [40000/50000 (80%)]\tLosses bn: 0.025542\n",
      "Train Epoch: 16 [50000/50000 (100%)]\tLosses bn: 0.025544\n",
      "Test set:\n",
      "bn: Loss: 0.0570\tAccuracy: 9841.0/10000 (98%)\n",
      "\n",
      "Train Epoch: 17 [0/50000 (0%)]\tLosses bn: 0.012382\n",
      "Train Epoch: 17 [10000/50000 (20%)]\tLosses bn: 0.005653\n",
      "Train Epoch: 17 [20000/50000 (40%)]\tLosses bn: 0.024772\n",
      "Train Epoch: 17 [30000/50000 (60%)]\tLosses bn: 0.073944\n",
      "Train Epoch: 17 [40000/50000 (80%)]\tLosses bn: 0.018715\n",
      "Train Epoch: 17 [50000/50000 (100%)]\tLosses bn: 0.041166\n",
      "Test set:\n",
      "bn: Loss: 0.0547\tAccuracy: 9840.0/10000 (98%)\n",
      "\n",
      "Train Epoch: 18 [0/50000 (0%)]\tLosses bn: 0.073097\n",
      "Train Epoch: 18 [10000/50000 (20%)]\tLosses bn: 0.026854\n",
      "Train Epoch: 18 [20000/50000 (40%)]\tLosses bn: 0.030212\n",
      "Train Epoch: 18 [30000/50000 (60%)]\tLosses bn: 0.106663\n",
      "Train Epoch: 18 [40000/50000 (80%)]\tLosses bn: 0.038308\n",
      "Train Epoch: 18 [50000/50000 (100%)]\tLosses bn: 0.011643\n",
      "Test set:\n",
      "bn: Loss: 0.0533\tAccuracy: 9843.0/10000 (98%)\n",
      "\n",
      "Train Epoch: 19 [0/50000 (0%)]\tLosses bn: 0.057546\n",
      "Train Epoch: 19 [10000/50000 (20%)]\tLosses bn: 0.054666\n",
      "Train Epoch: 19 [20000/50000 (40%)]\tLosses bn: 0.042922\n",
      "Train Epoch: 19 [30000/50000 (60%)]\tLosses bn: 0.049029\n",
      "Train Epoch: 19 [40000/50000 (80%)]\tLosses bn: 0.053995\n",
      "Train Epoch: 19 [50000/50000 (100%)]\tLosses bn: 0.045244\n",
      "Test set:\n",
      "bn: Loss: 0.0518\tAccuracy: 9840.0/10000 (98%)\n",
      "\n",
      "Train Epoch: 20 [0/50000 (0%)]\tLosses bn: 0.078862\n",
      "Train Epoch: 20 [10000/50000 (20%)]\tLosses bn: 0.026692\n",
      "Train Epoch: 20 [20000/50000 (40%)]\tLosses bn: 0.016559\n",
      "Train Epoch: 20 [30000/50000 (60%)]\tLosses bn: 0.033174\n",
      "Train Epoch: 20 [40000/50000 (80%)]\tLosses bn: 0.024703\n",
      "Train Epoch: 20 [50000/50000 (100%)]\tLosses bn: 0.010122\n",
      "Test set:\n",
      "bn: Loss: 0.0510\tAccuracy: 9847.0/10000 (98%)\n",
      "\n",
      "Train Epoch: 21 [0/50000 (0%)]\tLosses bn: 0.012502\n",
      "Train Epoch: 21 [10000/50000 (20%)]\tLosses bn: 0.008381\n",
      "Train Epoch: 21 [20000/50000 (40%)]\tLosses bn: 0.029845\n",
      "Train Epoch: 21 [30000/50000 (60%)]\tLosses bn: 0.010795\n",
      "Train Epoch: 21 [40000/50000 (80%)]\tLosses bn: 0.060959\n",
      "Train Epoch: 21 [50000/50000 (100%)]\tLosses bn: 0.024061\n",
      "Test set:\n",
      "bn: Loss: 0.0500\tAccuracy: 9844.0/10000 (98%)\n",
      "\n",
      "Train Epoch: 22 [0/50000 (0%)]\tLosses bn: 0.019765\n",
      "Train Epoch: 22 [10000/50000 (20%)]\tLosses bn: 0.016549\n"
     ]
    },
    {
     "name": "stdout",
     "output_type": "stream",
     "text": [
      "Train Epoch: 22 [20000/50000 (40%)]\tLosses bn: 0.034437\n",
      "Train Epoch: 22 [30000/50000 (60%)]\tLosses bn: 0.015536\n",
      "Train Epoch: 22 [40000/50000 (80%)]\tLosses bn: 0.011366\n",
      "Train Epoch: 22 [50000/50000 (100%)]\tLosses bn: 0.089897\n",
      "Test set:\n",
      "bn: Loss: 0.0500\tAccuracy: 9851.0/10000 (99%)\n",
      "\n",
      "Train Epoch: 23 [0/50000 (0%)]\tLosses bn: 0.093806\n",
      "Train Epoch: 23 [10000/50000 (20%)]\tLosses bn: 0.016316\n",
      "Train Epoch: 23 [20000/50000 (40%)]\tLosses bn: 0.051672\n",
      "Train Epoch: 23 [30000/50000 (60%)]\tLosses bn: 0.108706\n",
      "Train Epoch: 23 [40000/50000 (80%)]\tLosses bn: 0.055512\n",
      "Train Epoch: 23 [50000/50000 (100%)]\tLosses bn: 0.036545\n",
      "Test set:\n",
      "bn: Loss: 0.0488\tAccuracy: 9851.0/10000 (99%)\n",
      "\n",
      "Train Epoch: 24 [0/50000 (0%)]\tLosses bn: 0.026225\n",
      "Train Epoch: 24 [10000/50000 (20%)]\tLosses bn: 0.058205\n",
      "Train Epoch: 24 [20000/50000 (40%)]\tLosses bn: 0.053215\n",
      "Train Epoch: 24 [30000/50000 (60%)]\tLosses bn: 0.015371\n",
      "Train Epoch: 24 [40000/50000 (80%)]\tLosses bn: 0.009700\n",
      "Train Epoch: 24 [50000/50000 (100%)]\tLosses bn: 0.051171\n",
      "Test set:\n",
      "bn: Loss: 0.0482\tAccuracy: 9845.0/10000 (98%)\n",
      "\n",
      "Train Epoch: 25 [0/50000 (0%)]\tLosses bn: 0.017891\n",
      "Train Epoch: 25 [10000/50000 (20%)]\tLosses bn: 0.047228\n",
      "Train Epoch: 25 [20000/50000 (40%)]\tLosses bn: 0.015185\n",
      "Train Epoch: 25 [30000/50000 (60%)]\tLosses bn: 0.143002\n",
      "Train Epoch: 25 [40000/50000 (80%)]\tLosses bn: 0.013241\n",
      "Train Epoch: 25 [50000/50000 (100%)]\tLosses bn: 0.024094\n",
      "Test set:\n",
      "bn: Loss: 0.0479\tAccuracy: 9859.0/10000 (99%)\n",
      "\n",
      "Train Epoch: 26 [0/50000 (0%)]\tLosses bn: 0.033475\n",
      "Train Epoch: 26 [10000/50000 (20%)]\tLosses bn: 0.048287\n",
      "Train Epoch: 26 [20000/50000 (40%)]\tLosses bn: 0.007761\n",
      "Train Epoch: 26 [30000/50000 (60%)]\tLosses bn: 0.035482\n",
      "Train Epoch: 26 [40000/50000 (80%)]\tLosses bn: 0.026603\n",
      "Train Epoch: 26 [50000/50000 (100%)]\tLosses bn: 0.031025\n",
      "Test set:\n",
      "bn: Loss: 0.0441\tAccuracy: 9871.0/10000 (99%)\n",
      "\n",
      "Train Epoch: 27 [0/50000 (0%)]\tLosses bn: 0.020054\n",
      "Train Epoch: 27 [10000/50000 (20%)]\tLosses bn: 0.015611\n",
      "Train Epoch: 27 [20000/50000 (40%)]\tLosses bn: 0.009763\n",
      "Train Epoch: 27 [30000/50000 (60%)]\tLosses bn: 0.009253\n",
      "Train Epoch: 27 [40000/50000 (80%)]\tLosses bn: 0.055805\n",
      "Train Epoch: 27 [50000/50000 (100%)]\tLosses bn: 0.078355\n",
      "Test set:\n",
      "bn: Loss: 0.0451\tAccuracy: 9871.0/10000 (99%)\n",
      "\n",
      "Train Epoch: 28 [0/50000 (0%)]\tLosses bn: 0.013200\n",
      "Train Epoch: 28 [10000/50000 (20%)]\tLosses bn: 0.010128\n",
      "Train Epoch: 28 [20000/50000 (40%)]\tLosses bn: 0.004123\n",
      "Train Epoch: 28 [30000/50000 (60%)]\tLosses bn: 0.031051\n",
      "Train Epoch: 28 [40000/50000 (80%)]\tLosses bn: 0.006715\n",
      "Train Epoch: 28 [50000/50000 (100%)]\tLosses bn: 0.024267\n",
      "Test set:\n",
      "bn: Loss: 0.0450\tAccuracy: 9872.0/10000 (99%)\n",
      "\n",
      "Train Epoch: 29 [0/50000 (0%)]\tLosses bn: 0.021775\n",
      "Train Epoch: 29 [10000/50000 (20%)]\tLosses bn: 0.007731\n",
      "Train Epoch: 29 [20000/50000 (40%)]\tLosses bn: 0.030803\n",
      "Train Epoch: 29 [30000/50000 (60%)]\tLosses bn: 0.005102\n",
      "Train Epoch: 29 [40000/50000 (80%)]\tLosses bn: 0.023659\n",
      "Train Epoch: 29 [50000/50000 (100%)]\tLosses bn: 0.078007\n",
      "Test set:\n",
      "bn: Loss: 0.0439\tAccuracy: 9861.0/10000 (99%)\n",
      "\n",
      "Train Epoch: 30 [0/50000 (0%)]\tLosses bn: 0.088097\n",
      "Train Epoch: 30 [10000/50000 (20%)]\tLosses bn: 0.024626\n",
      "Train Epoch: 30 [20000/50000 (40%)]\tLosses bn: 0.015982\n",
      "Train Epoch: 30 [30000/50000 (60%)]\tLosses bn: 0.027796\n",
      "Train Epoch: 30 [40000/50000 (80%)]\tLosses bn: 0.007900\n",
      "Train Epoch: 30 [50000/50000 (100%)]\tLosses bn: 0.026972\n",
      "Test set:\n",
      "bn: Loss: 0.0424\tAccuracy: 9874.0/10000 (99%)\n",
      "\n",
      "Train Epoch: 31 [0/50000 (0%)]\tLosses bn: 0.043830\n",
      "Train Epoch: 31 [10000/50000 (20%)]\tLosses bn: 0.047611\n",
      "Train Epoch: 31 [20000/50000 (40%)]\tLosses bn: 0.003649\n",
      "Train Epoch: 31 [30000/50000 (60%)]\tLosses bn: 0.092270\n",
      "Train Epoch: 31 [40000/50000 (80%)]\tLosses bn: 0.007510\n",
      "Train Epoch: 31 [50000/50000 (100%)]\tLosses bn: 0.006835\n",
      "Test set:\n",
      "bn: Loss: 0.0428\tAccuracy: 9868.0/10000 (99%)\n",
      "\n",
      "Train Epoch: 32 [0/50000 (0%)]\tLosses bn: 0.016776\n",
      "Train Epoch: 32 [10000/50000 (20%)]\tLosses bn: 0.016344\n",
      "Train Epoch: 32 [20000/50000 (40%)]\tLosses bn: 0.085014\n",
      "Train Epoch: 32 [30000/50000 (60%)]\tLosses bn: 0.011483\n",
      "Train Epoch: 32 [40000/50000 (80%)]\tLosses bn: 0.005857\n",
      "Train Epoch: 32 [50000/50000 (100%)]\tLosses bn: 0.031001\n",
      "Test set:\n",
      "bn: Loss: 0.0431\tAccuracy: 9866.0/10000 (99%)\n",
      "\n",
      "Train Epoch: 33 [0/50000 (0%)]\tLosses bn: 0.012356\n",
      "Train Epoch: 33 [10000/50000 (20%)]\tLosses bn: 0.018133\n",
      "Train Epoch: 33 [20000/50000 (40%)]\tLosses bn: 0.030844\n",
      "Train Epoch: 33 [30000/50000 (60%)]\tLosses bn: 0.082456\n",
      "Train Epoch: 33 [40000/50000 (80%)]\tLosses bn: 0.049576\n",
      "Train Epoch: 33 [50000/50000 (100%)]\tLosses bn: 0.017811\n",
      "Test set:\n",
      "bn: Loss: 0.0421\tAccuracy: 9873.0/10000 (99%)\n",
      "\n",
      "Train Epoch: 34 [0/50000 (0%)]\tLosses bn: 0.021382\n",
      "Train Epoch: 34 [10000/50000 (20%)]\tLosses bn: 0.017266\n",
      "Train Epoch: 34 [20000/50000 (40%)]\tLosses bn: 0.025932\n",
      "Train Epoch: 34 [30000/50000 (60%)]\tLosses bn: 0.021315\n",
      "Train Epoch: 34 [40000/50000 (80%)]\tLosses bn: 0.036182\n",
      "Train Epoch: 34 [50000/50000 (100%)]\tLosses bn: 0.008589\n",
      "Test set:\n",
      "bn: Loss: 0.0415\tAccuracy: 9872.0/10000 (99%)\n",
      "\n",
      "Train Epoch: 35 [0/50000 (0%)]\tLosses bn: 0.025999\n",
      "Train Epoch: 35 [10000/50000 (20%)]\tLosses bn: 0.006752\n",
      "Train Epoch: 35 [20000/50000 (40%)]\tLosses bn: 0.014450\n",
      "Train Epoch: 35 [30000/50000 (60%)]\tLosses bn: 0.016396\n",
      "Train Epoch: 35 [40000/50000 (80%)]\tLosses bn: 0.074629\n",
      "Train Epoch: 35 [50000/50000 (100%)]\tLosses bn: 0.005007\n",
      "Test set:\n",
      "bn: Loss: 0.0419\tAccuracy: 9873.0/10000 (99%)\n",
      "\n",
      "Train Epoch: 36 [0/50000 (0%)]\tLosses bn: 0.008063\n",
      "Train Epoch: 36 [10000/50000 (20%)]\tLosses bn: 0.005137\n",
      "Train Epoch: 36 [20000/50000 (40%)]\tLosses bn: 0.014449\n",
      "Train Epoch: 36 [30000/50000 (60%)]\tLosses bn: 0.017124\n",
      "Train Epoch: 36 [40000/50000 (80%)]\tLosses bn: 0.018784\n",
      "Train Epoch: 36 [50000/50000 (100%)]\tLosses bn: 0.019585\n",
      "Test set:\n",
      "bn: Loss: 0.0411\tAccuracy: 9874.0/10000 (99%)\n",
      "\n",
      "Train Epoch: 37 [0/50000 (0%)]\tLosses bn: 0.005999\n",
      "Train Epoch: 37 [10000/50000 (20%)]\tLosses bn: 0.013444\n",
      "Train Epoch: 37 [20000/50000 (40%)]\tLosses bn: 0.011385\n",
      "Train Epoch: 37 [30000/50000 (60%)]\tLosses bn: 0.013112\n",
      "Train Epoch: 37 [40000/50000 (80%)]\tLosses bn: 0.025430\n",
      "Train Epoch: 37 [50000/50000 (100%)]\tLosses bn: 0.034138\n",
      "Test set:\n",
      "bn: Loss: 0.0411\tAccuracy: 9876.0/10000 (99%)\n",
      "\n",
      "Train Epoch: 38 [0/50000 (0%)]\tLosses bn: 0.016937\n",
      "Train Epoch: 38 [10000/50000 (20%)]\tLosses bn: 0.064352\n",
      "Train Epoch: 38 [20000/50000 (40%)]\tLosses bn: 0.024468\n",
      "Train Epoch: 38 [30000/50000 (60%)]\tLosses bn: 0.001762\n",
      "Train Epoch: 38 [40000/50000 (80%)]\tLosses bn: 0.022206\n",
      "Train Epoch: 38 [50000/50000 (100%)]\tLosses bn: 0.024116\n",
      "Test set:\n",
      "bn: Loss: 0.0404\tAccuracy: 9878.0/10000 (99%)\n",
      "\n",
      "Train Epoch: 39 [0/50000 (0%)]\tLosses bn: 0.007847\n",
      "Train Epoch: 39 [10000/50000 (20%)]\tLosses bn: 0.010376\n",
      "Train Epoch: 39 [20000/50000 (40%)]\tLosses bn: 0.041138\n",
      "Train Epoch: 39 [30000/50000 (60%)]\tLosses bn: 0.012841\n",
      "Train Epoch: 39 [40000/50000 (80%)]\tLosses bn: 0.009612\n",
      "Train Epoch: 39 [50000/50000 (100%)]\tLosses bn: 0.020940\n",
      "Test set:\n",
      "bn: Loss: 0.0399\tAccuracy: 9875.0/10000 (99%)\n",
      "\n",
      "Train Epoch: 40 [0/50000 (0%)]\tLosses bn: 0.006932\n",
      "Train Epoch: 40 [10000/50000 (20%)]\tLosses bn: 0.010749\n",
      "Train Epoch: 40 [20000/50000 (40%)]\tLosses bn: 0.002767\n",
      "Train Epoch: 40 [30000/50000 (60%)]\tLosses bn: 0.004489\n",
      "Train Epoch: 40 [40000/50000 (80%)]\tLosses bn: 0.014715\n",
      "Train Epoch: 40 [50000/50000 (100%)]\tLosses bn: 0.000954\n",
      "Test set:\n",
      "bn: Loss: 0.0408\tAccuracy: 9876.0/10000 (99%)\n",
      "\n"
     ]
    }
   ],
   "source": [
    "for epoch in range(1, 41):\n",
    "    for model in models.values():\n",
    "        model.train()\n",
    "    train(epoch, models, train_log)\n",
    "    for model in models.values():\n",
    "        model.eval()\n",
    "    test(models, valid_loader, test_log)"
   ]
  },
  {
   "cell_type": "code",
   "execution_count": 45,
   "metadata": {},
   "outputs": [
    {
     "data": {
      "image/png": "[encoded data removed]",
      "text/plain": [
       "<Figure size 432x288 with 1 Axes>"
      ]
     },
     "metadata": {},
     "output_type": "display_data"
    }
   ],
   "source": [
    "plot_graphs(test_log, 'loss')"
   ]
  },
  {
   "cell_type": "code",
   "execution_count": 46,
   "metadata": {},
   "outputs": [
    {
     "data": {
      "image/png": "[encoded data removed]",
      "text/plain": [
       "<Figure size 432x288 with 1 Axes>"
      ]
     },
     "metadata": {},
     "output_type": "display_data"
    }
   ],
   "source": [
    "plot_graphs(test_log, 'accuracy')"
   ]
  },
  {
   "cell_type": "code",
   "execution_count": 47,
   "metadata": {},
   "outputs": [
    {
     "data": {
      "image/png": "[encoded data removed]",
      "text/plain": [
       "<Figure size 800x400 with 50 Axes>"
      ]
     },
     "metadata": {},
     "output_type": "display_data"
    },
    {
     "name": "stdout",
     "output_type": "stream",
     "text": [
      "tensor([ -4.9227,  -2.4679,  -4.7802,  -5.4316,  -3.8199,  -5.2170, -14.2297,\n",
      "          7.0608,  -5.9473,  -5.0841], grad_fn=<SelectBackward>)\n"
     ]
    }
   ],
   "source": [
    "data, label = next(iter(train_loader))\n",
    "plot_mnist(data.data.numpy(), (5, 10))\n",
    "output = models['bn'](data)\n",
    "output.size()\n",
    "print(output[0])\n",
    "#to_plot = output.view(-1, 1, 28, 28).clamp(0, 1).data.numpy()\n",
    "#plot_mnist(to_plot, (5, 10))"
   ]
  },
  {
   "cell_type": "markdown",
   "metadata": {},
   "source": [
    "### Подгонка картинки или Сделать оптимизацию изображения под активацию сверточных нейронов классификатора"
   ]
  },
  {
   "cell_type": "code",
   "execution_count": 48,
   "metadata": {},
   "outputs": [],
   "source": [
    "path='./MNIST_data'\n",
    "from torch.utils.data import DataLoader\n",
    "train_dataset = torchvision.datasets.MNIST(root = path, train=True, transform=mnist_transform, download=True) \n",
    "train_loader_1 = DataLoader(dataset=train_dataset, batch_size=1,shuffle=True) \n",
    "data_1_load, label_1 = next(iter(train_loader_1))"
   ]
  },
  {
   "cell_type": "code",
   "execution_count": 49,
   "metadata": {},
   "outputs": [
    {
     "name": "stderr",
     "output_type": "stream",
     "text": [
      "/opt/conda/lib/python3.6/site-packages/ipykernel_launcher.py:1: UserWarning: To copy construct from a tensor, it is recommended to use sourceTensor.clone().detach() or sourceTensor.clone().detach().requires_grad_(True), rather than torch.tensor(sourceTensor).\n",
      "  \"\"\"Entry point for launching an IPython kernel.\n",
      "/opt/conda/lib/python3.6/site-packages/ipykernel_launcher.py:2: UserWarning: To copy construct from a tensor, it is recommended to use sourceTensor.clone().detach() or sourceTensor.clone().detach().requires_grad_(True), rather than torch.tensor(sourceTensor).\n",
      "  \n"
     ]
    }
   ],
   "source": [
    "data_1 = torch.tensor( data_1_load , requires_grad= True )\n",
    "data_2 = torch.tensor( data_1_load , requires_grad= True )"
   ]
  },
  {
   "cell_type": "code",
   "execution_count": 50,
   "metadata": {},
   "outputs": [],
   "source": [
    "# Целевой пусть будет циферка :\n",
    "target = torch.tensor([3])"
   ]
  },
  {
   "cell_type": "code",
   "execution_count": 54,
   "metadata": {},
   "outputs": [
    {
     "name": "stderr",
     "output_type": "stream",
     "text": [
      "/opt/conda/lib/python3.6/site-packages/ipykernel_launcher.py:6: UserWarning: To copy construct from a tensor, it is recommended to use sourceTensor.clone().detach() or sourceTensor.clone().detach().requires_grad_(True), rather than torch.tensor(sourceTensor).\n",
      "  \n"
     ]
    },
    {
     "data": {
      "image/png": "[encoded data removed]",
      "text/plain": [
       "<Figure size 800x400 with 1 Axes>"
      ]
     },
     "metadata": {},
     "output_type": "display_data"
    },
    {
     "name": "stdout",
     "output_type": "stream",
     "text": [
      "18.06923484802246\n"
     ]
    },
    {
     "data": {
      "image/png": "[encoded data removed]",
      "text/plain": [
       "<Figure size 800x400 with 1 Axes>"
      ]
     },
     "metadata": {},
     "output_type": "display_data"
    },
    {
     "name": "stdout",
     "output_type": "stream",
     "text": [
      "0.41390562057495117\n"
     ]
    },
    {
     "data": {
      "image/png": "[encoded data removed]",
      "text/plain": [
       "<Figure size 800x400 with 1 Axes>"
      ]
     },
     "metadata": {},
     "output_type": "display_data"
    },
    {
     "name": "stdout",
     "output_type": "stream",
     "text": [
      "0.14497661590576172\n"
     ]
    },
    {
     "data": {
      "image/png": "[encoded data removed]",
      "text/plain": [
       "<Figure size 800x400 with 1 Axes>"
      ]
     },
     "metadata": {},
     "output_type": "display_data"
    },
    {
     "name": "stdout",
     "output_type": "stream",
     "text": [
      "0.06337213516235352\n"
     ]
    },
    {
     "data": {
      "image/png": "[encoded data removed]",
      "text/plain": [
       "<Figure size 800x400 with 1 Axes>"
      ]
     },
     "metadata": {},
     "output_type": "display_data"
    },
    {
     "name": "stdout",
     "output_type": "stream",
     "text": [
      "0.04621076583862305\n"
     ]
    },
    {
     "data": {
      "image/png": "[encoded data removed]",
      "text/plain": [
       "<Figure size 800x400 with 1 Axes>"
      ]
     },
     "metadata": {},
     "output_type": "display_data"
    },
    {
     "name": "stdout",
     "output_type": "stream",
     "text": [
      "0.03597307205200195\n"
     ]
    },
    {
     "data": {
      "image/png": "[encoded data removed]",
      "text/plain": [
       "<Figure size 800x400 with 1 Axes>"
      ]
     },
     "metadata": {},
     "output_type": "display_data"
    },
    {
     "name": "stdout",
     "output_type": "stream",
     "text": [
      "0.019155502319335938\n"
     ]
    },
    {
     "data": {
      "image/png": "[encoded data removed]",
      "text/plain": [
       "<Figure size 800x400 with 1 Axes>"
      ]
     },
     "metadata": {},
     "output_type": "display_data"
    },
    {
     "name": "stdout",
     "output_type": "stream",
     "text": [
      "0.016323566436767578\n"
     ]
    },
    {
     "data": {
      "image/png": "[encoded data removed]",
      "text/plain": [
       "<Figure size 800x400 with 1 Axes>"
      ]
     },
     "metadata": {},
     "output_type": "display_data"
    },
    {
     "name": "stdout",
     "output_type": "stream",
     "text": [
      "0.01489877700805664\n"
     ]
    },
    {
     "data": {
      "image/png": "[encoded data removed]",
      "text/plain": [
       "<Figure size 800x400 with 1 Axes>"
      ]
     },
     "metadata": {},
     "output_type": "display_data"
    },
    {
     "name": "stdout",
     "output_type": "stream",
     "text": [
      "0.01392507553100586\n"
     ]
    },
    {
     "ename": "KeyboardInterrupt",
     "evalue": "",
     "output_type": "error",
     "traceback": [
      "\u001b[0;31m---------------------------------------------------------------------------\u001b[0m",
      "\u001b[0;31mKeyboardInterrupt\u001b[0m                         Traceback (most recent call last)",
      "\u001b[0;32m<ipython-input-54-8e1ae0487f6e>\u001b[0m in \u001b[0;36m<module>\u001b[0;34m()\u001b[0m\n\u001b[1;32m      9\u001b[0m     \u001b[0moutput_1\u001b[0m \u001b[0;34m=\u001b[0m \u001b[0mmodel\u001b[0m\u001b[0;34m(\u001b[0m\u001b[0mdata_1\u001b[0m\u001b[0;34m)\u001b[0m\u001b[0;34m\u001b[0m\u001b[0m\n\u001b[1;32m     10\u001b[0m     \u001b[0mloss_t\u001b[0m \u001b[0;34m=\u001b[0m \u001b[0mF\u001b[0m\u001b[0;34m.\u001b[0m\u001b[0mcross_entropy\u001b[0m\u001b[0;34m(\u001b[0m\u001b[0moutput_1\u001b[0m\u001b[0;34m,\u001b[0m \u001b[0mtarget\u001b[0m\u001b[0;34m)\u001b[0m\u001b[0;34m\u001b[0m\u001b[0m\n\u001b[0;32m---> 11\u001b[0;31m     \u001b[0mloss_t\u001b[0m\u001b[0;34m.\u001b[0m\u001b[0mbackward\u001b[0m\u001b[0;34m(\u001b[0m\u001b[0;34m)\u001b[0m\u001b[0;34m\u001b[0m\u001b[0m\n\u001b[0m\u001b[1;32m     12\u001b[0m     \u001b[0mdata_1\u001b[0m\u001b[0;34m.\u001b[0m\u001b[0mdata\u001b[0m \u001b[0;34m=\u001b[0m \u001b[0mdata_1\u001b[0m\u001b[0;34m.\u001b[0m\u001b[0mdata\u001b[0m \u001b[0;34m-\u001b[0m \u001b[0;34m(\u001b[0m\u001b[0mlr\u001b[0m\u001b[0;34m*\u001b[0m\u001b[0mdata_1\u001b[0m\u001b[0;34m.\u001b[0m\u001b[0mgrad\u001b[0m\u001b[0;34m.\u001b[0m\u001b[0mdata\u001b[0m\u001b[0;34m)\u001b[0m\u001b[0;34m\u001b[0m\u001b[0m\n\u001b[1;32m     13\u001b[0m     \u001b[0mgrads\u001b[0m\u001b[0;34m.\u001b[0m\u001b[0mappend\u001b[0m\u001b[0;34m(\u001b[0m\u001b[0mdata_1\u001b[0m\u001b[0;34m.\u001b[0m\u001b[0mgrad\u001b[0m\u001b[0;34m[\u001b[0m\u001b[0;36m0\u001b[0m\u001b[0;34m]\u001b[0m\u001b[0;34m[\u001b[0m\u001b[0;36m0\u001b[0m\u001b[0;34m]\u001b[0m\u001b[0;34m[\u001b[0m\u001b[0;36m0\u001b[0m\u001b[0;34m]\u001b[0m\u001b[0;34m.\u001b[0m\u001b[0mdata\u001b[0m\u001b[0;34m)\u001b[0m\u001b[0;34m\u001b[0m\u001b[0m\n",
      "\u001b[0;32m/opt/conda/lib/python3.6/site-packages/torch/tensor.py\u001b[0m in \u001b[0;36mbackward\u001b[0;34m(self, gradient, retain_graph, create_graph)\u001b[0m\n\u001b[1;32m    100\u001b[0m                 \u001b[0mproducts\u001b[0m\u001b[0;34m.\u001b[0m \u001b[0mDefaults\u001b[0m \u001b[0mto\u001b[0m\u001b[0;31m \u001b[0m\u001b[0;31m`\u001b[0m\u001b[0;31m`\u001b[0m\u001b[0;32mFalse\u001b[0m\u001b[0;31m`\u001b[0m\u001b[0;31m`\u001b[0m\u001b[0;34m.\u001b[0m\u001b[0;34m\u001b[0m\u001b[0m\n\u001b[1;32m    101\u001b[0m         \"\"\"\n\u001b[0;32m--> 102\u001b[0;31m         \u001b[0mtorch\u001b[0m\u001b[0;34m.\u001b[0m\u001b[0mautograd\u001b[0m\u001b[0;34m.\u001b[0m\u001b[0mbackward\u001b[0m\u001b[0;34m(\u001b[0m\u001b[0mself\u001b[0m\u001b[0;34m,\u001b[0m \u001b[0mgradient\u001b[0m\u001b[0;34m,\u001b[0m \u001b[0mretain_graph\u001b[0m\u001b[0;34m,\u001b[0m \u001b[0mcreate_graph\u001b[0m\u001b[0;34m)\u001b[0m\u001b[0;34m\u001b[0m\u001b[0m\n\u001b[0m\u001b[1;32m    103\u001b[0m \u001b[0;34m\u001b[0m\u001b[0m\n\u001b[1;32m    104\u001b[0m     \u001b[0;32mdef\u001b[0m \u001b[0mregister_hook\u001b[0m\u001b[0;34m(\u001b[0m\u001b[0mself\u001b[0m\u001b[0;34m,\u001b[0m \u001b[0mhook\u001b[0m\u001b[0;34m)\u001b[0m\u001b[0;34m:\u001b[0m\u001b[0;34m\u001b[0m\u001b[0m\n",
      "\u001b[0;32m/opt/conda/lib/python3.6/site-packages/torch/autograd/__init__.py\u001b[0m in \u001b[0;36mbackward\u001b[0;34m(tensors, grad_tensors, retain_graph, create_graph, grad_variables)\u001b[0m\n\u001b[1;32m     88\u001b[0m     Variable._execution_engine.run_backward(\n\u001b[1;32m     89\u001b[0m         \u001b[0mtensors\u001b[0m\u001b[0;34m,\u001b[0m \u001b[0mgrad_tensors\u001b[0m\u001b[0;34m,\u001b[0m \u001b[0mretain_graph\u001b[0m\u001b[0;34m,\u001b[0m \u001b[0mcreate_graph\u001b[0m\u001b[0;34m,\u001b[0m\u001b[0;34m\u001b[0m\u001b[0m\n\u001b[0;32m---> 90\u001b[0;31m         allow_unreachable=True)  # allow_unreachable flag\n\u001b[0m\u001b[1;32m     91\u001b[0m \u001b[0;34m\u001b[0m\u001b[0m\n\u001b[1;32m     92\u001b[0m \u001b[0;34m\u001b[0m\u001b[0m\n",
      "\u001b[0;31mKeyboardInterrupt\u001b[0m: "
     ]
    }
   ],
   "source": [
    "# Cross entropy with model.zero_grad()\n",
    "lr = 0.03\n",
    "output_ar = []\n",
    "loss_arr = []\n",
    "grads = []\n",
    "data_1 = torch.tensor( data_1_load , requires_grad= True )\n",
    "for i in range(0,200000):\n",
    "    model.zero_grad()\n",
    "    output_1 = model(data_1)\n",
    "    loss_t = F.cross_entropy(output_1, target)\n",
    "    loss_t.backward()\n",
    "    data_1.data = data_1.data - (lr*data_1.grad.data)\n",
    "    grads.append(data_1.grad[0][0][0].data)\n",
    "    #print(grads)\n",
    "    data_1.grad.data.zero_()\n",
    "    if i % 100 == 0:\n",
    "        plot_mnist(data_1.data.numpy(), (5, 10))\n",
    "        print(loss_t.data.item())\n",
    "plot_mnist(data_1.data.numpy(), (5, 10))"
   ]
  },
  {
   "cell_type": "code",
   "execution_count": 55,
   "metadata": {},
   "outputs": [
    {
     "name": "stderr",
     "output_type": "stream",
     "text": [
      "/opt/conda/lib/python3.6/site-packages/ipykernel_launcher.py:6: UserWarning: To copy construct from a tensor, it is recommended to use sourceTensor.clone().detach() or sourceTensor.clone().detach().requires_grad_(True), rather than torch.tensor(sourceTensor).\n",
      "  \n"
     ]
    },
    {
     "data": {
      "image/png": "[encoded data removed]",
      "text/plain": [
       "<Figure size 800x400 with 1 Axes>"
      ]
     },
     "metadata": {},
     "output_type": "display_data"
    },
    {
     "name": "stdout",
     "output_type": "stream",
     "text": [
      "18.06923484802246\n"
     ]
    },
    {
     "data": {
      "image/png": "[encoded data removed]",
      "text/plain": [
       "<Figure size 800x400 with 1 Axes>"
      ]
     },
     "metadata": {},
     "output_type": "display_data"
    },
    {
     "name": "stdout",
     "output_type": "stream",
     "text": [
      "0.41390562057495117\n"
     ]
    },
    {
     "data": {
      "image/png": "[encoded data removed]",
      "text/plain": [
       "<Figure size 800x400 with 1 Axes>"
      ]
     },
     "metadata": {},
     "output_type": "display_data"
    },
    {
     "name": "stdout",
     "output_type": "stream",
     "text": [
      "0.14497661590576172\n"
     ]
    },
    {
     "data": {
      "image/png": "[encoded data removed]",
      "text/plain": [
       "<Figure size 800x400 with 1 Axes>"
      ]
     },
     "metadata": {},
     "output_type": "display_data"
    },
    {
     "name": "stdout",
     "output_type": "stream",
     "text": [
      "0.06337213516235352\n"
     ]
    },
    {
     "data": {
      "image/png": "[encoded data removed]",
      "text/plain": [
       "<Figure size 800x400 with 1 Axes>"
      ]
     },
     "metadata": {},
     "output_type": "display_data"
    },
    {
     "name": "stdout",
     "output_type": "stream",
     "text": [
      "0.04621076583862305\n"
     ]
    },
    {
     "data": {
      "image/png": "[encoded data removed]",
      "text/plain": [
       "<Figure size 800x400 with 1 Axes>"
      ]
     },
     "metadata": {},
     "output_type": "display_data"
    },
    {
     "name": "stdout",
     "output_type": "stream",
     "text": [
      "0.03597307205200195\n"
     ]
    },
    {
     "data": {
      "image/png": "[encoded data removed]",
      "text/plain": [
       "<Figure size 800x400 with 1 Axes>"
      ]
     },
     "metadata": {},
     "output_type": "display_data"
    },
    {
     "name": "stdout",
     "output_type": "stream",
     "text": [
      "0.019155502319335938\n"
     ]
    },
    {
     "data": {
      "image/png": "[encoded data removed]",
      "text/plain": [
       "<Figure size 800x400 with 1 Axes>"
      ]
     },
     "metadata": {},
     "output_type": "display_data"
    },
    {
     "name": "stdout",
     "output_type": "stream",
     "text": [
      "0.016323566436767578\n"
     ]
    },
    {
     "data": {
      "image/png": "[encoded data removed]",
      "text/plain": [
       "<Figure size 800x400 with 1 Axes>"
      ]
     },
     "metadata": {},
     "output_type": "display_data"
    },
    {
     "name": "stdout",
     "output_type": "stream",
     "text": [
      "0.01489877700805664\n"
     ]
    },
    {
     "data": {
      "image/png": "[encoded data removed]",
      "text/plain": [
       "<Figure size 800x400 with 1 Axes>"
      ]
     },
     "metadata": {},
     "output_type": "display_data"
    },
    {
     "name": "stdout",
     "output_type": "stream",
     "text": [
      "0.01392507553100586\n"
     ]
    },
    {
     "ename": "KeyboardInterrupt",
     "evalue": "",
     "output_type": "error",
     "traceback": [
      "\u001b[0;31m---------------------------------------------------------------------------\u001b[0m",
      "\u001b[0;31mKeyboardInterrupt\u001b[0m                         Traceback (most recent call last)",
      "\u001b[0;32m<ipython-input-55-2dcb7c5c1e72>\u001b[0m in \u001b[0;36m<module>\u001b[0;34m()\u001b[0m\n\u001b[1;32m     10\u001b[0m     \u001b[0moutput_2\u001b[0m \u001b[0;34m=\u001b[0m \u001b[0mmodel\u001b[0m\u001b[0;34m(\u001b[0m\u001b[0mdata_2\u001b[0m\u001b[0;34m)\u001b[0m\u001b[0;34m\u001b[0m\u001b[0m\n\u001b[1;32m     11\u001b[0m     \u001b[0mloss_t\u001b[0m \u001b[0;34m=\u001b[0m \u001b[0mF\u001b[0m\u001b[0;34m.\u001b[0m\u001b[0mcross_entropy\u001b[0m\u001b[0;34m(\u001b[0m\u001b[0moutput_2\u001b[0m\u001b[0;34m,\u001b[0m \u001b[0mtarget\u001b[0m\u001b[0;34m)\u001b[0m\u001b[0;34m\u001b[0m\u001b[0m\n\u001b[0;32m---> 12\u001b[0;31m     \u001b[0mloss_t\u001b[0m\u001b[0;34m.\u001b[0m\u001b[0mbackward\u001b[0m\u001b[0;34m(\u001b[0m\u001b[0;34m)\u001b[0m\u001b[0;34m\u001b[0m\u001b[0m\n\u001b[0m\u001b[1;32m     13\u001b[0m     \u001b[0;31m#print(data_1.grad.data)\u001b[0m\u001b[0;34m\u001b[0m\u001b[0;34m\u001b[0m\u001b[0m\n\u001b[1;32m     14\u001b[0m     \u001b[0;31m#print(data_2.grad[0][0][0].data)\u001b[0m\u001b[0;34m\u001b[0m\u001b[0;34m\u001b[0m\u001b[0m\n",
      "\u001b[0;32m/opt/conda/lib/python3.6/site-packages/torch/tensor.py\u001b[0m in \u001b[0;36mbackward\u001b[0;34m(self, gradient, retain_graph, create_graph)\u001b[0m\n\u001b[1;32m    100\u001b[0m                 \u001b[0mproducts\u001b[0m\u001b[0;34m.\u001b[0m \u001b[0mDefaults\u001b[0m \u001b[0mto\u001b[0m\u001b[0;31m \u001b[0m\u001b[0;31m`\u001b[0m\u001b[0;31m`\u001b[0m\u001b[0;32mFalse\u001b[0m\u001b[0;31m`\u001b[0m\u001b[0;31m`\u001b[0m\u001b[0;34m.\u001b[0m\u001b[0;34m\u001b[0m\u001b[0m\n\u001b[1;32m    101\u001b[0m         \"\"\"\n\u001b[0;32m--> 102\u001b[0;31m         \u001b[0mtorch\u001b[0m\u001b[0;34m.\u001b[0m\u001b[0mautograd\u001b[0m\u001b[0;34m.\u001b[0m\u001b[0mbackward\u001b[0m\u001b[0;34m(\u001b[0m\u001b[0mself\u001b[0m\u001b[0;34m,\u001b[0m \u001b[0mgradient\u001b[0m\u001b[0;34m,\u001b[0m \u001b[0mretain_graph\u001b[0m\u001b[0;34m,\u001b[0m \u001b[0mcreate_graph\u001b[0m\u001b[0;34m)\u001b[0m\u001b[0;34m\u001b[0m\u001b[0m\n\u001b[0m\u001b[1;32m    103\u001b[0m \u001b[0;34m\u001b[0m\u001b[0m\n\u001b[1;32m    104\u001b[0m     \u001b[0;32mdef\u001b[0m \u001b[0mregister_hook\u001b[0m\u001b[0;34m(\u001b[0m\u001b[0mself\u001b[0m\u001b[0;34m,\u001b[0m \u001b[0mhook\u001b[0m\u001b[0;34m)\u001b[0m\u001b[0;34m:\u001b[0m\u001b[0;34m\u001b[0m\u001b[0m\n",
      "\u001b[0;32m/opt/conda/lib/python3.6/site-packages/torch/autograd/__init__.py\u001b[0m in \u001b[0;36mbackward\u001b[0;34m(tensors, grad_tensors, retain_graph, create_graph, grad_variables)\u001b[0m\n\u001b[1;32m     88\u001b[0m     Variable._execution_engine.run_backward(\n\u001b[1;32m     89\u001b[0m         \u001b[0mtensors\u001b[0m\u001b[0;34m,\u001b[0m \u001b[0mgrad_tensors\u001b[0m\u001b[0;34m,\u001b[0m \u001b[0mretain_graph\u001b[0m\u001b[0;34m,\u001b[0m \u001b[0mcreate_graph\u001b[0m\u001b[0;34m,\u001b[0m\u001b[0;34m\u001b[0m\u001b[0m\n\u001b[0;32m---> 90\u001b[0;31m         allow_unreachable=True)  # allow_unreachable flag\n\u001b[0m\u001b[1;32m     91\u001b[0m \u001b[0;34m\u001b[0m\u001b[0m\n\u001b[1;32m     92\u001b[0m \u001b[0;34m\u001b[0m\u001b[0m\n",
      "\u001b[0;31mKeyboardInterrupt\u001b[0m: "
     ]
    }
   ],
   "source": [
    "# Cross entropy with out model.zero_grad()\n",
    "lr = 0.03\n",
    "output_ar = []\n",
    "loss_arr = []\n",
    "grads = []\n",
    "data_2 = torch.tensor( data_1_load , requires_grad= True )\n",
    "for i in range(0,200000):\n",
    "    #model.zero_grad()\n",
    "    #print(list(model.parameters())[2].grad[0][0][0])\n",
    "    output_2 = model(data_2)\n",
    "    loss_t = F.cross_entropy(output_2, target)\n",
    "    loss_t.backward()\n",
    "    #print(data_1.grad.data)\n",
    "    #print(data_2.grad[0][0][0].data)\n",
    "    data_2.data = data_2.data - (lr*data_2.grad.data)\n",
    "    grads.append(data_2.grad[0][0][0].data)\n",
    "    #print(grads)\n",
    "    #data_1.grad.data = torch.zeros(data_1.grad.size())\n",
    "    data_2.grad.data.zero_()\n",
    "    if i % 100 == 0:\n",
    "        plot_mnist(data_2.data.numpy(), (5, 10))\n",
    "        print(loss_t.data.item())\n",
    "        #for param in model.named_parameters():\n",
    "            #print(param)\n",
    "    #print(list(model.parameters())[2].grad[0][0][0])\n",
    "plot_mnist(data_2.data.numpy(), (5, 10))"
   ]
  },
  {
   "cell_type": "code",
   "execution_count": 56,
   "metadata": {},
   "outputs": [
    {
     "name": "stdout",
     "output_type": "stream",
     "text": [
      "tensor([[-13.4773,  -3.5120,  -2.8877,   6.3132,  -9.2050,   1.8047, -11.0396,\n",
      "           0.3082, -13.5792,  -5.0863]], grad_fn=<AddmmBackward>)\n",
      "tensor([[-13.4780,  -3.5125,  -2.8896,   6.3074,  -9.2031,   1.8061, -11.0391,\n",
      "           0.3131, -13.5799,  -5.0865]], grad_fn=<AddmmBackward>)\n"
     ]
    }
   ],
   "source": [
    "# Проверка, что это все таки та цифра, которую ожидали :)\n",
    "output_1 = model(data_1)\n",
    "print(output_1)\n",
    "output_2 = model(data_2)\n",
    "print(output_2)"
   ]
  }
 ],
 "metadata": {
  "kernelspec": {
   "display_name": "Python 3",
   "language": "python",
   "name": "python3"
  },
  "language_info": {
   "codemirror_mode": {
    "name": "ipython",
    "version": 3
   },
   "file_extension": ".py",
   "mimetype": "text/x-python",
   "name": "python",
   "nbconvert_exporter": "python",
   "pygments_lexer": "ipython3",
   "version": "3.6.3"
  }
 },
 "nbformat": 4,
 "nbformat_minor": 2
}
