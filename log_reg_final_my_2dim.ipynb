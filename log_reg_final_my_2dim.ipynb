{
 "cells": [
  {
   "cell_type": "code",
   "execution_count": 150,
   "metadata": {},
   "outputs": [],
   "source": [
    "import torch\n",
    "import torch.nn as nn\n",
    "import torch.nn.functional as F\n",
    "import torch.optim as optim\n",
    "\n",
    "import numpy as np\n",
    "import scipy.stats as stats\n",
    "import matplotlib.pyplot as plt\n",
    "\n",
    "\n",
    "%matplotlib inline"
   ]
  },
  {
   "cell_type": "code",
   "execution_count": 151,
   "metadata": {},
   "outputs": [],
   "source": [
    "def sample(d0, d1, n=32):\n",
    "    x0 = d0.sample((n,))\n",
    "    x1 = d1.sample((n,))\n",
    "    y0 = torch.zeros((n, 1))\n",
    "    y1 = torch.ones((n, 1))\n",
    "    return torch.cat([x0, x1], 0), torch.cat([y0, y1], 0)"
   ]
  },
  {
   "cell_type": "code",
   "execution_count": 152,
   "metadata": {},
   "outputs": [
    {
     "name": "stdout",
     "output_type": "stream",
     "text": [
      "tensor([[ 1.4381,  1.6664],\n",
      "        [ 1.7528, -1.7161],\n",
      "        [ 0.1786,  0.2664],\n",
      "        [ 1.2989, -0.1034],\n",
      "        [-0.6019,  0.5499]])\n",
      "tensor([[ 1.8386,  1.9996],\n",
      "        [ 2.1965,  2.1737],\n",
      "        [ 3.1720,  0.2938],\n",
      "        [ 2.2794,  2.0033],\n",
      "        [ 2.3801,  2.3457]])\n"
     ]
    }
   ],
   "source": [
    "mu0 = torch.zeros(2)\n",
    "mu1 = torch.Tensor([2, 2])\n",
    "d0 = torch.distributions.MultivariateNormal(mu0, torch.eye(2))\n",
    "d1 = torch.distributions.MultivariateNormal(mu1, torch.eye(2))\n",
    "print(d0.sample((5,)))\n",
    "print(d1.sample((5,)))"
   ]
  },
  {
   "cell_type": "code",
   "execution_count": 154,
   "metadata": {},
   "outputs": [],
   "source": [
    "#x = np.arange(-5, 5.1, 0.5)\n",
    "#y = np.arange(-5, 5.1, 0.5)\n",
    "#X,Y = np.meshgrid(x,y)\n",
    "#XY=np.array([X.flatten(),Y.flatten()]).T\n",
    "#XY"
   ]
  },
  {
   "cell_type": "code",
   "execution_count": 155,
   "metadata": {},
   "outputs": [
    {
     "name": "stdout",
     "output_type": "stream",
     "text": [
      "tensor([[-0.6404, -0.5861],\n",
      "        [ 0.0322,  0.0330],\n",
      "        [-0.5290, -0.4082],\n",
      "        [-0.1702, -0.1710],\n",
      "        [ 0.4290,  0.2475]])\n",
      "tensor([-0.6991,  0.0616, -0.5209, -0.7068, -0.3391])\n",
      "tensor([[-0.4027, -0.2975,  0.0133,  0.2140,  0.1143]])\n",
      "tensor([ 0.3849])\n"
     ]
    }
   ],
   "source": [
    "net = nn.Sequential(nn.Linear(2, 5), nn.ReLU(), nn.Linear(5, 1))\n",
    "for p in net.parameters():\n",
    "    print(p.data)\n",
    "net_opt = optim.SGD(lr=1e-3, params=list(net.parameters()))"
   ]
  },
  {
   "cell_type": "code",
   "execution_count": 156,
   "metadata": {},
   "outputs": [
    {
     "name": "stdout",
     "output_type": "stream",
     "text": [
      "Ошибка после 0 итераций: 0.685465\n",
      "Ошибка после 1 итераций: 0.651045\n",
      "Ошибка после 2 итераций: 0.620990\n",
      "Ошибка после 3 итераций: 0.588686\n",
      "Ошибка после 4 итераций: 0.554204\n",
      "Ошибка после 5 итераций: 0.521192\n",
      "Ошибка после 6 итераций: 0.490879\n",
      "Ошибка после 7 итераций: 0.462772\n",
      "Ошибка после 8 итераций: 0.437812\n",
      "Ошибка после 9 итераций: 0.415100\n",
      "Ошибка после 10 итераций: 0.394758\n",
      "Ошибка после 11 итераций: 0.375903\n",
      "Ошибка после 12 итераций: 0.358645\n",
      "Ошибка после 13 итераций: 0.343254\n",
      "Ошибка после 14 итераций: 0.328127\n",
      "Ошибка после 15 итераций: 0.316034\n",
      "Ошибка после 16 итераций: 0.304095\n",
      "Ошибка после 17 итераций: 0.294248\n",
      "Ошибка после 18 итераций: 0.284307\n",
      "Ошибка после 19 итераций: 0.275464\n",
      "Ошибка после 20 итераций: 0.267525\n",
      "Ошибка после 21 итераций: 0.261017\n",
      "Ошибка после 22 итераций: 0.254597\n",
      "Ошибка после 23 итераций: 0.250896\n",
      "Ошибка после 24 итераций: 0.244657\n",
      "Ошибка после 25 итераций: 0.238979\n",
      "Ошибка после 26 итераций: 0.235400\n",
      "Ошибка после 27 итераций: 0.233964\n",
      "Ошибка после 28 итераций: 0.229104\n",
      "Ошибка после 29 итераций: 0.225768\n",
      "Ошибка после 30 итераций: 0.221985\n",
      "Ошибка после 31 итераций: 0.220452\n",
      "Ошибка после 32 итераций: 0.218791\n",
      "Ошибка после 33 итераций: 0.215440\n",
      "Ошибка после 34 итераций: 0.214537\n",
      "Ошибка после 35 итераций: 0.212500\n",
      "Ошибка после 36 итераций: 0.211121\n",
      "Ошибка после 37 итераций: 0.208522\n",
      "Ошибка после 38 итераций: 0.209538\n",
      "Ошибка после 39 итераций: 0.206547\n"
     ]
    }
   ],
   "source": [
    "log_freq = 500\n",
    "for i in range(20000):\n",
    "    if i%log_freq == 0:\n",
    "        with torch.no_grad():\n",
    "            x, y = sample(d0, d1, 100000)\n",
    "            out = F.sigmoid(net(x))\n",
    "            loss = F.binary_cross_entropy(out, y)\n",
    "        print('Ошибка после %d итераций: %f' %(i/log_freq, loss))\n",
    "    net_opt.zero_grad()\n",
    "    x, y = sample(d0, d1, 1024)\n",
    "    \n",
    "#     out = F.sigmoid(layer(x))\n",
    "#     loss = F.binary_cross_entropy(out, y)\n",
    "    \n",
    "    out = net(x)\n",
    "    loss = F.binary_cross_entropy_with_logits(out, y)\n",
    "    \n",
    "    loss.backward()\n",
    "    net_opt.step()"
   ]
  },
  {
   "cell_type": "code",
   "execution_count": 149,
   "metadata": {},
   "outputs": [
    {
     "data": {
      "text/plain": [
       "Sequential(\n",
       "  (0): Linear(in_features=2, out_features=5, bias=True)\n",
       "  (1): ReLU()\n",
       "  (2): Linear(in_features=5, out_features=1, bias=True)\n",
       ")"
      ]
     },
     "execution_count": 149,
     "metadata": {},
     "output_type": "execute_result"
    }
   ],
   "source": [
    "net"
   ]
  }
 ],
 "metadata": {
  "kernelspec": {
   "display_name": "Python 3",
   "language": "python",
   "name": "python3"
  },
  "language_info": {
   "codemirror_mode": {
    "name": "ipython",
    "version": 3
   },
   "file_extension": ".py",
   "mimetype": "text/x-python",
   "name": "python",
   "nbconvert_exporter": "python",
   "pygments_lexer": "ipython3",
   "version": "3.6.3"
  }
 },
 "nbformat": 4,
 "nbformat_minor": 2
}
