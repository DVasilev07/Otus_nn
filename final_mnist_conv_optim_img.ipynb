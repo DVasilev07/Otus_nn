{
 "cells": [
  {
   "cell_type": "code",
   "execution_count": 1,
   "metadata": {},
   "outputs": [],
   "source": [
    "import torch\n",
    "import torch.nn as nn\n",
    "import torch.nn.functional as F\n",
    "import torch.optim as optim\n",
    "import torchvision\n",
    "from torchvision import datasets, transforms\n",
    "\n",
    "from utils import mnist, plot_graphs, plot_mnist, mnist_transform\n",
    "import numpy as np\n",
    "\n",
    "%matplotlib inline"
   ]
  },
  {
   "cell_type": "code",
   "execution_count": 2,
   "metadata": {},
   "outputs": [],
   "source": [
    "import matplotlib\n",
    "import matplotlib.pyplot as plt\n",
    "import numpy as np\n",
    "%matplotlib inline"
   ]
  },
  {
   "cell_type": "code",
   "execution_count": 3,
   "metadata": {},
   "outputs": [],
   "source": [
    "train_loader, valid_loader, test_loader = mnist(valid=10000, transform=transforms.ToTensor())"
   ]
  },
  {
   "cell_type": "code",
   "execution_count": 4,
   "metadata": {},
   "outputs": [],
   "source": [
    "class ConvLayer(nn.Module):\n",
    "    def __init__(self, size, padding=1, pool_layer=nn.MaxPool2d(2, stride=2),\n",
    "                 bn=False, dropout=False, activation_fn=nn.ReLU()):\n",
    "        super(ConvLayer, self).__init__()\n",
    "        layers = []\n",
    "        layers.append(nn.Conv2d(size[0], size[1], size[2], padding=padding))\n",
    "        if pool_layer is not None:\n",
    "            layers.append(pool_layer)\n",
    "        if bn:\n",
    "            layers.append(nn.BatchNorm2d(size[1]))\n",
    "        if dropout:\n",
    "            layers.append(nn.Dropout2d())\n",
    "        layers.append(activation_fn)\n",
    "        \n",
    "        self.model = nn.Sequential(*layers)\n",
    "    \n",
    "    def forward(self, x):\n",
    "        return self.model(x)"
   ]
  },
  {
   "cell_type": "code",
   "execution_count": 5,
   "metadata": {},
   "outputs": [],
   "source": [
    "class FullyConnected(nn.Module):\n",
    "    def __init__(self, sizes, dropout=False, activation_fn=nn.Tanh):\n",
    "        super(FullyConnected, self).__init__()\n",
    "        layers = []\n",
    "        \n",
    "        for i in range(len(sizes) - 2):\n",
    "            layers.append(nn.Linear(sizes[i], sizes[i+1]))\n",
    "            if dropout:\n",
    "                layers.append(nn.Dropout())\n",
    "            layers.append(activation_fn())\n",
    "        else: # нам не нужен дропаут и фнкция активации в последнем слое\n",
    "            layers.append(nn.Linear(sizes[-2], sizes[-1]))\n",
    "        \n",
    "        self.model = nn.Sequential(*layers)\n",
    "        \n",
    "    def forward(self, x):\n",
    "        return self.model(x)"
   ]
  },
  {
   "cell_type": "code",
   "execution_count": 6,
   "metadata": {},
   "outputs": [],
   "source": [
    "class Net(nn.Module):\n",
    "    def __init__(self, batchnorm=False, dropout=False, lr=1e-4, l2=0.):\n",
    "        super(Net, self).__init__()\n",
    "        \n",
    "        \n",
    "        self._conv1 = ConvLayer([1, 16, 3], bn=batchnorm)\n",
    "        self._conv2 = ConvLayer([16, 32, 3], bn=batchnorm, activation_fn=nn.Sigmoid())\n",
    "        \n",
    "        self.fc = FullyConnected([32*7*7, 10], dropout=dropout)\n",
    "        \n",
    "        self._loss = None\n",
    "        self.optim = optim.Adam(self.parameters(), lr=lr, weight_decay=l2)\n",
    "    \n",
    "    def conv(self, x):\n",
    "        x = self._conv1(x)\n",
    "        x = self._conv2(x)\n",
    "        return x\n",
    "        \n",
    "    def forward(self, x):\n",
    "        x = self.conv(x)\n",
    "        x = x.view(-1, 32*7*7)\n",
    "        x = self.fc(x)\n",
    "        return x\n",
    "    \n",
    "    def loss(self, output, target, **kwargs):\n",
    "        self._loss = F.cross_entropy(output, target, **kwargs)\n",
    "        self._correct = output.data.max(1, keepdim=True)[1]\n",
    "        self._correct = self._correct.eq(target.data.view_as(self._correct)).to(torch.float).cpu().mean()\n",
    "        return self._loss"
   ]
  },
  {
   "cell_type": "code",
   "execution_count": 7,
   "metadata": {},
   "outputs": [],
   "source": [
    "models = {'bn': Net(True), 'drop': Net(False, True), 'plain': Net()}\n",
    "train_log = {k: [] for k in models}\n",
    "test_log = {k: [] for k in models}"
   ]
  },
  {
   "cell_type": "code",
   "execution_count": 8,
   "metadata": {},
   "outputs": [],
   "source": [
    "def train(epoch, models, log=None):\n",
    "    train_size = len(train_loader.sampler)\n",
    "    for batch_idx, (data, target) in enumerate(train_loader):\n",
    "        for model in models.values():\n",
    "            model.optim.zero_grad()\n",
    "            output = model(data)\n",
    "            loss = model.loss(output, target)\n",
    "            loss.backward()\n",
    "            model.optim.step()\n",
    "            \n",
    "        if batch_idx % 200 == 0:\n",
    "            line = 'Train Epoch: {} [{}/{} ({:.0f}%)]\\tLosses '.format(\n",
    "                epoch, batch_idx * len(data), train_size, 100. * batch_idx / len(train_loader))\n",
    "            losses = ' '.join(['{}: {:.6f}'.format(k, m._loss.item()) for k, m in models.items()])\n",
    "            print(line + losses)\n",
    "            \n",
    "    else:\n",
    "        batch_idx += 1\n",
    "        line = 'Train Epoch: {} [{}/{} ({:.0f}%)]\\tLosses '.format(\n",
    "            epoch, batch_idx * len(data), train_size, 100. * batch_idx / len(train_loader))\n",
    "        losses = ' '.join(['{}: {:.6f}'.format(k, m._loss.item()) for k, m in models.items()])\n",
    "        if log is not None:\n",
    "            for k in models:\n",
    "                log[k].append((models[k]._loss, models[k]._correct))\n",
    "        print(line + losses)"
   ]
  },
  {
   "cell_type": "code",
   "execution_count": 9,
   "metadata": {},
   "outputs": [],
   "source": [
    "def test(models, loader, log=None):\n",
    "    test_size = len(loader.sampler)\n",
    "    avg_lambda = lambda l: 'Loss: {:.4f}'.format(l)\n",
    "    acc_lambda = lambda c, p: 'Accuracy: {}/{} ({:.0f}%)'.format(c, test_size, p)\n",
    "    line = lambda i, l, c, p: '{}: '.format(i) + avg_lambda(l) + '\\t' + acc_lambda(c, p)\n",
    "\n",
    "    test_loss = {k: 0. for k in models}\n",
    "    correct = {k: 0. for k in models}\n",
    "    with torch.no_grad():\n",
    "        for data, target in loader:\n",
    "            output = {k: m(data) for k, m in models.items()}\n",
    "            for k, m in models.items():\n",
    "                test_loss[k] += m.loss(output[k], target, reduction='sum').item() # sum up batch loss\n",
    "                pred = output[k].data.max(1, keepdim=True)[1] # get the index of the max log-probability\n",
    "                correct[k] += pred.eq(target.data.view_as(pred)).cpu().sum().item()\n",
    "    \n",
    "    for k in models:\n",
    "        test_loss[k] /= test_size\n",
    "    correct_pct = {k: c / test_size for k, c in correct.items()}\n",
    "    lines = '\\n'.join([line(k, test_loss[k], correct[k], 100*correct_pct[k]) for k in models]) + '\\n'\n",
    "    report = 'Test set:\\n' + lines\n",
    "    if log is not None:\n",
    "        for k in models:\n",
    "            log[k].append((test_loss[k], correct_pct[k]))\n",
    "    print(report)"
   ]
  },
  {
   "cell_type": "code",
   "execution_count": 10,
   "metadata": {},
   "outputs": [
    {
     "name": "stdout",
     "output_type": "stream",
     "text": [
      "Train Epoch: 1 [0/50000 (0%)]\tLosses bn: 2.352170 drop: 2.356615 plain: 2.337576\n",
      "Train Epoch: 1 [10000/50000 (20%)]\tLosses bn: 2.063507 drop: 2.290401 plain: 2.295299\n",
      "Train Epoch: 1 [20000/50000 (40%)]\tLosses bn: 1.792110 drop: 2.199280 plain: 2.276429\n",
      "Train Epoch: 1 [30000/50000 (60%)]\tLosses bn: 1.485822 drop: 1.753839 plain: 2.014123\n",
      "Train Epoch: 1 [40000/50000 (80%)]\tLosses bn: 1.120510 drop: 1.094961 plain: 1.478905\n",
      "Train Epoch: 1 [50000/50000 (100%)]\tLosses bn: 0.932776 drop: 0.906845 plain: 1.113966\n",
      "Test set:\n",
      "bn: Loss: 0.9282\tAccuracy: 8995.0/10000 (90%)\n",
      "drop: Loss: 0.9123\tAccuracy: 7864.0/10000 (79%)\n",
      "plain: Loss: 1.1331\tAccuracy: 7709.0/10000 (77%)\n",
      "\n",
      "Train Epoch: 2 [0/50000 (0%)]\tLosses bn: 0.894800 drop: 0.901428 plain: 1.137596\n",
      "Train Epoch: 2 [10000/50000 (20%)]\tLosses bn: 0.762365 drop: 0.708140 plain: 0.856687\n",
      "Train Epoch: 2 [20000/50000 (40%)]\tLosses bn: 0.538216 drop: 0.536781 plain: 0.594537\n",
      "Train Epoch: 2 [30000/50000 (60%)]\tLosses bn: 0.452620 drop: 0.413837 plain: 0.450430\n",
      "Train Epoch: 2 [40000/50000 (80%)]\tLosses bn: 0.538686 drop: 0.626140 plain: 0.621965\n",
      "Train Epoch: 2 [50000/50000 (100%)]\tLosses bn: 0.539307 drop: 0.628252 plain: 0.660605\n",
      "Test set:\n",
      "bn: Loss: 0.4363\tAccuracy: 9322.0/10000 (93%)\n",
      "drop: Loss: 0.4919\tAccuracy: 8696.0/10000 (87%)\n",
      "plain: Loss: 0.4964\tAccuracy: 8748.0/10000 (87%)\n",
      "\n",
      "Train Epoch: 3 [0/50000 (0%)]\tLosses bn: 0.403079 drop: 0.438633 plain: 0.458816\n",
      "Train Epoch: 3 [10000/50000 (20%)]\tLosses bn: 0.286081 drop: 0.303444 plain: 0.305602\n",
      "Train Epoch: 3 [20000/50000 (40%)]\tLosses bn: 0.333338 drop: 0.464984 plain: 0.435532\n",
      "Train Epoch: 3 [30000/50000 (60%)]\tLosses bn: 0.346011 drop: 0.370802 plain: 0.362702\n",
      "Train Epoch: 3 [40000/50000 (80%)]\tLosses bn: 0.313175 drop: 0.450521 plain: 0.426415\n",
      "Train Epoch: 3 [50000/50000 (100%)]\tLosses bn: 0.334985 drop: 0.532039 plain: 0.483331\n",
      "Test set:\n",
      "bn: Loss: 0.2779\tAccuracy: 9469.0/10000 (95%)\n",
      "drop: Loss: 0.3739\tAccuracy: 8950.0/10000 (90%)\n",
      "plain: Loss: 0.3583\tAccuracy: 9035.0/10000 (90%)\n",
      "\n",
      "Train Epoch: 4 [0/50000 (0%)]\tLosses bn: 0.217143 drop: 0.320449 plain: 0.281673\n",
      "Train Epoch: 4 [10000/50000 (20%)]\tLosses bn: 0.251356 drop: 0.338896 plain: 0.319796\n",
      "Train Epoch: 4 [20000/50000 (40%)]\tLosses bn: 0.223268 drop: 0.267428 plain: 0.236006\n",
      "Train Epoch: 4 [30000/50000 (60%)]\tLosses bn: 0.186020 drop: 0.274015 plain: 0.250198\n",
      "Train Epoch: 4 [40000/50000 (80%)]\tLosses bn: 0.237410 drop: 0.284517 plain: 0.280600\n",
      "Train Epoch: 4 [50000/50000 (100%)]\tLosses bn: 0.139798 drop: 0.279079 plain: 0.254840\n",
      "Test set:\n",
      "bn: Loss: 0.2057\tAccuracy: 9554.0/10000 (96%)\n",
      "drop: Loss: 0.3084\tAccuracy: 9141.0/10000 (91%)\n",
      "plain: Loss: 0.2884\tAccuracy: 9230.0/10000 (92%)\n",
      "\n",
      "Train Epoch: 5 [0/50000 (0%)]\tLosses bn: 0.165565 drop: 0.205218 plain: 0.196027\n",
      "Train Epoch: 5 [10000/50000 (20%)]\tLosses bn: 0.233617 drop: 0.458565 plain: 0.418322\n",
      "Train Epoch: 5 [20000/50000 (40%)]\tLosses bn: 0.184573 drop: 0.256869 plain: 0.234537\n",
      "Train Epoch: 5 [30000/50000 (60%)]\tLosses bn: 0.232705 drop: 0.286538 plain: 0.280451\n",
      "Train Epoch: 5 [40000/50000 (80%)]\tLosses bn: 0.143512 drop: 0.235881 plain: 0.213669\n",
      "Train Epoch: 5 [50000/50000 (100%)]\tLosses bn: 0.124180 drop: 0.170679 plain: 0.152798\n",
      "Test set:\n",
      "bn: Loss: 0.1609\tAccuracy: 9619.0/10000 (96%)\n",
      "drop: Loss: 0.2632\tAccuracy: 9273.0/10000 (93%)\n",
      "plain: Loss: 0.2428\tAccuracy: 9340.0/10000 (93%)\n",
      "\n",
      "Train Epoch: 6 [0/50000 (0%)]\tLosses bn: 0.148369 drop: 0.249550 plain: 0.224227\n",
      "Train Epoch: 6 [10000/50000 (20%)]\tLosses bn: 0.191457 drop: 0.319431 plain: 0.305798\n",
      "Train Epoch: 6 [20000/50000 (40%)]\tLosses bn: 0.131436 drop: 0.192600 plain: 0.196169\n",
      "Train Epoch: 6 [30000/50000 (60%)]\tLosses bn: 0.106882 drop: 0.341198 plain: 0.306543\n",
      "Train Epoch: 6 [40000/50000 (80%)]\tLosses bn: 0.083751 drop: 0.139089 plain: 0.114405\n",
      "Train Epoch: 6 [50000/50000 (100%)]\tLosses bn: 0.191324 drop: 0.260413 plain: 0.257206\n",
      "Test set:\n",
      "bn: Loss: 0.1343\tAccuracy: 9663.0/10000 (97%)\n",
      "drop: Loss: 0.2295\tAccuracy: 9356.0/10000 (94%)\n",
      "plain: Loss: 0.2103\tAccuracy: 9411.0/10000 (94%)\n",
      "\n",
      "Train Epoch: 7 [0/50000 (0%)]\tLosses bn: 0.069717 drop: 0.139179 plain: 0.125258\n",
      "Train Epoch: 7 [10000/50000 (20%)]\tLosses bn: 0.058093 drop: 0.085371 plain: 0.077362\n",
      "Train Epoch: 7 [20000/50000 (40%)]\tLosses bn: 0.052909 drop: 0.115079 plain: 0.097625\n",
      "Train Epoch: 7 [30000/50000 (60%)]\tLosses bn: 0.063428 drop: 0.145724 plain: 0.142018\n",
      "Train Epoch: 7 [40000/50000 (80%)]\tLosses bn: 0.061303 drop: 0.127069 plain: 0.106381\n",
      "Train Epoch: 7 [50000/50000 (100%)]\tLosses bn: 0.170072 drop: 0.178421 plain: 0.181326\n",
      "Test set:\n",
      "bn: Loss: 0.1180\tAccuracy: 9694.0/10000 (97%)\n",
      "drop: Loss: 0.2047\tAccuracy: 9434.0/10000 (94%)\n",
      "plain: Loss: 0.1873\tAccuracy: 9471.0/10000 (95%)\n",
      "\n",
      "Train Epoch: 8 [0/50000 (0%)]\tLosses bn: 0.102232 drop: 0.137661 plain: 0.129549\n",
      "Train Epoch: 8 [10000/50000 (20%)]\tLosses bn: 0.089026 drop: 0.166845 plain: 0.155001\n",
      "Train Epoch: 8 [20000/50000 (40%)]\tLosses bn: 0.068161 drop: 0.124167 plain: 0.109147\n",
      "Train Epoch: 8 [30000/50000 (60%)]\tLosses bn: 0.104115 drop: 0.163994 plain: 0.138185\n",
      "Train Epoch: 8 [40000/50000 (80%)]\tLosses bn: 0.104689 drop: 0.169421 plain: 0.160941\n",
      "Train Epoch: 8 [50000/50000 (100%)]\tLosses bn: 0.110856 drop: 0.146759 plain: 0.143023\n",
      "Test set:\n",
      "bn: Loss: 0.1019\tAccuracy: 9729.0/10000 (97%)\n",
      "drop: Loss: 0.1846\tAccuracy: 9470.0/10000 (95%)\n",
      "plain: Loss: 0.1684\tAccuracy: 9511.0/10000 (95%)\n",
      "\n",
      "Train Epoch: 9 [0/50000 (0%)]\tLosses bn: 0.126178 drop: 0.181446 plain: 0.170110\n",
      "Train Epoch: 9 [10000/50000 (20%)]\tLosses bn: 0.119498 drop: 0.229810 plain: 0.189858\n",
      "Train Epoch: 9 [20000/50000 (40%)]\tLosses bn: 0.116828 drop: 0.158043 plain: 0.146941\n",
      "Train Epoch: 9 [30000/50000 (60%)]\tLosses bn: 0.075750 drop: 0.129306 plain: 0.108579\n",
      "Train Epoch: 9 [40000/50000 (80%)]\tLosses bn: 0.052205 drop: 0.087910 plain: 0.074989\n",
      "Train Epoch: 9 [50000/50000 (100%)]\tLosses bn: 0.035546 drop: 0.105185 plain: 0.092990\n",
      "Test set:\n",
      "bn: Loss: 0.0923\tAccuracy: 9756.0/10000 (98%)\n",
      "drop: Loss: 0.1664\tAccuracy: 9518.0/10000 (95%)\n",
      "plain: Loss: 0.1522\tAccuracy: 9566.0/10000 (96%)\n",
      "\n",
      "Train Epoch: 10 [0/50000 (0%)]\tLosses bn: 0.074760 drop: 0.175214 plain: 0.161292\n",
      "Train Epoch: 10 [10000/50000 (20%)]\tLosses bn: 0.099104 drop: 0.137546 plain: 0.140523\n",
      "Train Epoch: 10 [20000/50000 (40%)]\tLosses bn: 0.084245 drop: 0.115002 plain: 0.105550\n",
      "Train Epoch: 10 [30000/50000 (60%)]\tLosses bn: 0.020205 drop: 0.083139 plain: 0.073901\n",
      "Train Epoch: 10 [40000/50000 (80%)]\tLosses bn: 0.064347 drop: 0.113013 plain: 0.109003\n",
      "Train Epoch: 10 [50000/50000 (100%)]\tLosses bn: 0.081869 drop: 0.131727 plain: 0.130057\n",
      "Test set:\n",
      "bn: Loss: 0.0850\tAccuracy: 9765.0/10000 (98%)\n",
      "drop: Loss: 0.1553\tAccuracy: 9571.0/10000 (96%)\n",
      "plain: Loss: 0.1416\tAccuracy: 9595.0/10000 (96%)\n",
      "\n",
      "Train Epoch: 11 [0/50000 (0%)]\tLosses bn: 0.045698 drop: 0.080413 plain: 0.067520\n",
      "Train Epoch: 11 [10000/50000 (20%)]\tLosses bn: 0.072911 drop: 0.111529 plain: 0.112798\n",
      "Train Epoch: 11 [20000/50000 (40%)]\tLosses bn: 0.048006 drop: 0.146690 plain: 0.115239\n",
      "Train Epoch: 11 [30000/50000 (60%)]\tLosses bn: 0.064917 drop: 0.096548 plain: 0.121806\n",
      "Train Epoch: 11 [40000/50000 (80%)]\tLosses bn: 0.029950 drop: 0.054729 plain: 0.056522\n",
      "Train Epoch: 11 [50000/50000 (100%)]\tLosses bn: 0.047494 drop: 0.094572 plain: 0.076288\n",
      "Test set:\n",
      "bn: Loss: 0.0788\tAccuracy: 9782.0/10000 (98%)\n",
      "drop: Loss: 0.1423\tAccuracy: 9589.0/10000 (96%)\n",
      "plain: Loss: 0.1306\tAccuracy: 9615.0/10000 (96%)\n",
      "\n",
      "Train Epoch: 12 [0/50000 (0%)]\tLosses bn: 0.108526 drop: 0.179894 plain: 0.157839\n",
      "Train Epoch: 12 [10000/50000 (20%)]\tLosses bn: 0.012606 drop: 0.052683 plain: 0.038881\n",
      "Train Epoch: 12 [20000/50000 (40%)]\tLosses bn: 0.071755 drop: 0.132899 plain: 0.101441\n",
      "Train Epoch: 12 [30000/50000 (60%)]\tLosses bn: 0.138433 drop: 0.098492 plain: 0.088784\n",
      "Train Epoch: 12 [40000/50000 (80%)]\tLosses bn: 0.022022 drop: 0.056386 plain: 0.046491\n",
      "Train Epoch: 12 [50000/50000 (100%)]\tLosses bn: 0.069774 drop: 0.114889 plain: 0.103805\n",
      "Test set:\n",
      "bn: Loss: 0.0735\tAccuracy: 9795.0/10000 (98%)\n",
      "drop: Loss: 0.1319\tAccuracy: 9620.0/10000 (96%)\n",
      "plain: Loss: 0.1215\tAccuracy: 9645.0/10000 (96%)\n",
      "\n",
      "Train Epoch: 13 [0/50000 (0%)]\tLosses bn: 0.061673 drop: 0.081077 plain: 0.087912\n",
      "Train Epoch: 13 [10000/50000 (20%)]\tLosses bn: 0.140116 drop: 0.243639 plain: 0.215118\n",
      "Train Epoch: 13 [20000/50000 (40%)]\tLosses bn: 0.058700 drop: 0.076059 plain: 0.078052\n"
     ]
    },
    {
     "name": "stdout",
     "output_type": "stream",
     "text": [
      "Train Epoch: 13 [30000/50000 (60%)]\tLosses bn: 0.056000 drop: 0.088203 plain: 0.074773\n",
      "Train Epoch: 13 [40000/50000 (80%)]\tLosses bn: 0.111917 drop: 0.154723 plain: 0.147264\n",
      "Train Epoch: 13 [50000/50000 (100%)]\tLosses bn: 0.223982 drop: 0.261236 plain: 0.212571\n",
      "Test set:\n",
      "bn: Loss: 0.0705\tAccuracy: 9816.0/10000 (98%)\n",
      "drop: Loss: 0.1253\tAccuracy: 9638.0/10000 (96%)\n",
      "plain: Loss: 0.1154\tAccuracy: 9656.0/10000 (97%)\n",
      "\n",
      "Train Epoch: 14 [0/50000 (0%)]\tLosses bn: 0.136793 drop: 0.245021 plain: 0.224402\n",
      "Train Epoch: 14 [10000/50000 (20%)]\tLosses bn: 0.026522 drop: 0.097628 plain: 0.073438\n",
      "Train Epoch: 14 [20000/50000 (40%)]\tLosses bn: 0.020849 drop: 0.064640 plain: 0.055170\n",
      "Train Epoch: 14 [30000/50000 (60%)]\tLosses bn: 0.019512 drop: 0.065731 plain: 0.062946\n",
      "Train Epoch: 14 [40000/50000 (80%)]\tLosses bn: 0.027267 drop: 0.056749 plain: 0.050945\n",
      "Train Epoch: 14 [50000/50000 (100%)]\tLosses bn: 0.031496 drop: 0.093052 plain: 0.073770\n",
      "Test set:\n",
      "bn: Loss: 0.0666\tAccuracy: 9822.0/10000 (98%)\n",
      "drop: Loss: 0.1159\tAccuracy: 9672.0/10000 (97%)\n",
      "plain: Loss: 0.1082\tAccuracy: 9683.0/10000 (97%)\n",
      "\n",
      "Train Epoch: 15 [0/50000 (0%)]\tLosses bn: 0.031827 drop: 0.112693 plain: 0.082444\n",
      "Train Epoch: 15 [10000/50000 (20%)]\tLosses bn: 0.075398 drop: 0.162746 plain: 0.133204\n",
      "Train Epoch: 15 [20000/50000 (40%)]\tLosses bn: 0.014541 drop: 0.044989 plain: 0.033665\n",
      "Train Epoch: 15 [30000/50000 (60%)]\tLosses bn: 0.014920 drop: 0.035646 plain: 0.032292\n",
      "Train Epoch: 15 [40000/50000 (80%)]\tLosses bn: 0.057993 drop: 0.144662 plain: 0.131687\n",
      "Train Epoch: 15 [50000/50000 (100%)]\tLosses bn: 0.046368 drop: 0.089960 plain: 0.069122\n",
      "Test set:\n",
      "bn: Loss: 0.0644\tAccuracy: 9823.0/10000 (98%)\n",
      "drop: Loss: 0.1105\tAccuracy: 9672.0/10000 (97%)\n",
      "plain: Loss: 0.1034\tAccuracy: 9704.0/10000 (97%)\n",
      "\n",
      "Train Epoch: 16 [0/50000 (0%)]\tLosses bn: 0.010239 drop: 0.045001 plain: 0.049475\n",
      "Train Epoch: 16 [10000/50000 (20%)]\tLosses bn: 0.030583 drop: 0.094200 plain: 0.074593\n",
      "Train Epoch: 16 [20000/50000 (40%)]\tLosses bn: 0.060615 drop: 0.066279 plain: 0.096089\n",
      "Train Epoch: 16 [30000/50000 (60%)]\tLosses bn: 0.024667 drop: 0.045179 plain: 0.040903\n",
      "Train Epoch: 16 [40000/50000 (80%)]\tLosses bn: 0.086658 drop: 0.164654 plain: 0.147436\n",
      "Train Epoch: 16 [50000/50000 (100%)]\tLosses bn: 0.009246 drop: 0.039915 plain: 0.030649\n",
      "Test set:\n",
      "bn: Loss: 0.0628\tAccuracy: 9821.0/10000 (98%)\n",
      "drop: Loss: 0.1050\tAccuracy: 9696.0/10000 (97%)\n",
      "plain: Loss: 0.0988\tAccuracy: 9716.0/10000 (97%)\n",
      "\n",
      "Train Epoch: 17 [0/50000 (0%)]\tLosses bn: 0.053537 drop: 0.083710 plain: 0.077656\n",
      "Train Epoch: 17 [10000/50000 (20%)]\tLosses bn: 0.106578 drop: 0.130855 plain: 0.143959\n",
      "Train Epoch: 17 [20000/50000 (40%)]\tLosses bn: 0.010899 drop: 0.041444 plain: 0.035448\n",
      "Train Epoch: 17 [30000/50000 (60%)]\tLosses bn: 0.021512 drop: 0.052209 plain: 0.057580\n",
      "Train Epoch: 17 [40000/50000 (80%)]\tLosses bn: 0.034979 drop: 0.066136 plain: 0.069985\n",
      "Train Epoch: 17 [50000/50000 (100%)]\tLosses bn: 0.016715 drop: 0.067934 plain: 0.064469\n",
      "Test set:\n",
      "bn: Loss: 0.0593\tAccuracy: 9835.0/10000 (98%)\n",
      "drop: Loss: 0.0997\tAccuracy: 9725.0/10000 (97%)\n",
      "plain: Loss: 0.0941\tAccuracy: 9733.0/10000 (97%)\n",
      "\n",
      "Train Epoch: 18 [0/50000 (0%)]\tLosses bn: 0.017152 drop: 0.090907 plain: 0.064905\n",
      "Train Epoch: 18 [10000/50000 (20%)]\tLosses bn: 0.053977 drop: 0.124361 plain: 0.116139\n",
      "Train Epoch: 18 [20000/50000 (40%)]\tLosses bn: 0.030814 drop: 0.078044 plain: 0.061387\n",
      "Train Epoch: 18 [30000/50000 (60%)]\tLosses bn: 0.022948 drop: 0.061840 plain: 0.046518\n",
      "Train Epoch: 18 [40000/50000 (80%)]\tLosses bn: 0.020289 drop: 0.050653 plain: 0.037641\n",
      "Train Epoch: 18 [50000/50000 (100%)]\tLosses bn: 0.013383 drop: 0.017523 plain: 0.019937\n",
      "Test set:\n",
      "bn: Loss: 0.0577\tAccuracy: 9838.0/10000 (98%)\n",
      "drop: Loss: 0.0961\tAccuracy: 9730.0/10000 (97%)\n",
      "plain: Loss: 0.0904\tAccuracy: 9737.0/10000 (97%)\n",
      "\n",
      "Train Epoch: 19 [0/50000 (0%)]\tLosses bn: 0.038442 drop: 0.078422 plain: 0.071734\n",
      "Train Epoch: 19 [10000/50000 (20%)]\tLosses bn: 0.024460 drop: 0.081558 plain: 0.068423\n",
      "Train Epoch: 19 [20000/50000 (40%)]\tLosses bn: 0.023614 drop: 0.046551 plain: 0.034218\n",
      "Train Epoch: 19 [30000/50000 (60%)]\tLosses bn: 0.230703 drop: 0.238376 plain: 0.231676\n",
      "Train Epoch: 19 [40000/50000 (80%)]\tLosses bn: 0.063460 drop: 0.104997 plain: 0.103465\n",
      "Train Epoch: 19 [50000/50000 (100%)]\tLosses bn: 0.018277 drop: 0.037554 plain: 0.035697\n",
      "Test set:\n",
      "bn: Loss: 0.0565\tAccuracy: 9835.0/10000 (98%)\n",
      "drop: Loss: 0.0924\tAccuracy: 9743.0/10000 (97%)\n",
      "plain: Loss: 0.0872\tAccuracy: 9758.0/10000 (98%)\n",
      "\n",
      "Train Epoch: 20 [0/50000 (0%)]\tLosses bn: 0.028248 drop: 0.033148 plain: 0.045089\n",
      "Train Epoch: 20 [10000/50000 (20%)]\tLosses bn: 0.015646 drop: 0.096097 plain: 0.103983\n",
      "Train Epoch: 20 [20000/50000 (40%)]\tLosses bn: 0.039802 drop: 0.085111 plain: 0.089373\n",
      "Train Epoch: 20 [30000/50000 (60%)]\tLosses bn: 0.048605 drop: 0.090394 plain: 0.074558\n",
      "Train Epoch: 20 [40000/50000 (80%)]\tLosses bn: 0.085148 drop: 0.171400 plain: 0.182388\n",
      "Train Epoch: 20 [50000/50000 (100%)]\tLosses bn: 0.021360 drop: 0.027630 plain: 0.029026\n",
      "Test set:\n",
      "bn: Loss: 0.0564\tAccuracy: 9838.0/10000 (98%)\n",
      "drop: Loss: 0.0889\tAccuracy: 9753.0/10000 (98%)\n",
      "plain: Loss: 0.0845\tAccuracy: 9766.0/10000 (98%)\n",
      "\n",
      "Train Epoch: 21 [0/50000 (0%)]\tLosses bn: 0.140100 drop: 0.228967 plain: 0.231560\n",
      "Train Epoch: 21 [10000/50000 (20%)]\tLosses bn: 0.003760 drop: 0.016242 plain: 0.016240\n",
      "Train Epoch: 21 [20000/50000 (40%)]\tLosses bn: 0.040727 drop: 0.099949 plain: 0.090757\n",
      "Train Epoch: 21 [30000/50000 (60%)]\tLosses bn: 0.014073 drop: 0.032295 plain: 0.032349\n",
      "Train Epoch: 21 [40000/50000 (80%)]\tLosses bn: 0.028666 drop: 0.068167 plain: 0.090253\n",
      "Train Epoch: 21 [50000/50000 (100%)]\tLosses bn: 0.048981 drop: 0.080345 plain: 0.081099\n",
      "Test set:\n",
      "bn: Loss: 0.0538\tAccuracy: 9842.0/10000 (98%)\n",
      "drop: Loss: 0.0865\tAccuracy: 9759.0/10000 (98%)\n",
      "plain: Loss: 0.0830\tAccuracy: 9771.0/10000 (98%)\n",
      "\n",
      "Train Epoch: 22 [0/50000 (0%)]\tLosses bn: 0.040693 drop: 0.090443 plain: 0.078477\n",
      "Train Epoch: 22 [10000/50000 (20%)]\tLosses bn: 0.087012 drop: 0.146784 plain: 0.128820\n",
      "Train Epoch: 22 [20000/50000 (40%)]\tLosses bn: 0.009807 drop: 0.026142 plain: 0.024972\n",
      "Train Epoch: 22 [30000/50000 (60%)]\tLosses bn: 0.016833 drop: 0.070704 plain: 0.060546\n",
      "Train Epoch: 22 [40000/50000 (80%)]\tLosses bn: 0.080293 drop: 0.130745 plain: 0.105781\n",
      "Train Epoch: 22 [50000/50000 (100%)]\tLosses bn: 0.007046 drop: 0.046498 plain: 0.029295\n",
      "Test set:\n",
      "bn: Loss: 0.0527\tAccuracy: 9851.0/10000 (99%)\n",
      "drop: Loss: 0.0841\tAccuracy: 9764.0/10000 (98%)\n",
      "plain: Loss: 0.0806\tAccuracy: 9780.0/10000 (98%)\n",
      "\n",
      "Train Epoch: 23 [0/50000 (0%)]\tLosses bn: 0.017547 drop: 0.049839 plain: 0.044987\n",
      "Train Epoch: 23 [10000/50000 (20%)]\tLosses bn: 0.022355 drop: 0.069524 plain: 0.049973\n",
      "Train Epoch: 23 [20000/50000 (40%)]\tLosses bn: 0.012559 drop: 0.018697 plain: 0.018819\n",
      "Train Epoch: 23 [30000/50000 (60%)]\tLosses bn: 0.122431 drop: 0.214032 plain: 0.197644\n",
      "Train Epoch: 23 [40000/50000 (80%)]\tLosses bn: 0.033249 drop: 0.124595 plain: 0.092309\n",
      "Train Epoch: 23 [50000/50000 (100%)]\tLosses bn: 0.010404 drop: 0.022155 plain: 0.015970\n",
      "Test set:\n",
      "bn: Loss: 0.0511\tAccuracy: 9852.0/10000 (99%)\n",
      "drop: Loss: 0.0809\tAccuracy: 9767.0/10000 (98%)\n",
      "plain: Loss: 0.0770\tAccuracy: 9783.0/10000 (98%)\n",
      "\n",
      "Train Epoch: 24 [0/50000 (0%)]\tLosses bn: 0.059392 drop: 0.161226 plain: 0.151027\n",
      "Train Epoch: 24 [10000/50000 (20%)]\tLosses bn: 0.030438 drop: 0.075688 plain: 0.073181\n",
      "Train Epoch: 24 [20000/50000 (40%)]\tLosses bn: 0.007928 drop: 0.013192 plain: 0.011968\n",
      "Train Epoch: 24 [30000/50000 (60%)]\tLosses bn: 0.061974 drop: 0.199509 plain: 0.150142\n",
      "Train Epoch: 24 [40000/50000 (80%)]\tLosses bn: 0.029892 drop: 0.072700 plain: 0.067873\n",
      "Train Epoch: 24 [50000/50000 (100%)]\tLosses bn: 0.040302 drop: 0.072912 plain: 0.071465\n",
      "Test set:\n",
      "bn: Loss: 0.0535\tAccuracy: 9838.0/10000 (98%)\n",
      "drop: Loss: 0.0796\tAccuracy: 9773.0/10000 (98%)\n",
      "plain: Loss: 0.0765\tAccuracy: 9778.0/10000 (98%)\n",
      "\n",
      "Train Epoch: 25 [0/50000 (0%)]\tLosses bn: 0.008028 drop: 0.024472 plain: 0.021422\n",
      "Train Epoch: 25 [10000/50000 (20%)]\tLosses bn: 0.028892 drop: 0.057197 plain: 0.057809\n",
      "Train Epoch: 25 [20000/50000 (40%)]\tLosses bn: 0.010935 drop: 0.045215 plain: 0.045163\n",
      "Train Epoch: 25 [30000/50000 (60%)]\tLosses bn: 0.052569 drop: 0.039407 plain: 0.038677\n",
      "Train Epoch: 25 [40000/50000 (80%)]\tLosses bn: 0.028471 drop: 0.084869 plain: 0.089326\n"
     ]
    },
    {
     "name": "stdout",
     "output_type": "stream",
     "text": [
      "Train Epoch: 25 [50000/50000 (100%)]\tLosses bn: 0.008499 drop: 0.019498 plain: 0.018378\n",
      "Test set:\n",
      "bn: Loss: 0.0513\tAccuracy: 9849.0/10000 (98%)\n",
      "drop: Loss: 0.0776\tAccuracy: 9777.0/10000 (98%)\n",
      "plain: Loss: 0.0742\tAccuracy: 9795.0/10000 (98%)\n",
      "\n",
      "Train Epoch: 26 [0/50000 (0%)]\tLosses bn: 0.040596 drop: 0.081399 plain: 0.080019\n",
      "Train Epoch: 26 [10000/50000 (20%)]\tLosses bn: 0.008534 drop: 0.009514 plain: 0.010706\n",
      "Train Epoch: 26 [20000/50000 (40%)]\tLosses bn: 0.008689 drop: 0.026713 plain: 0.017083\n",
      "Train Epoch: 26 [30000/50000 (60%)]\tLosses bn: 0.004741 drop: 0.016178 plain: 0.013833\n",
      "Train Epoch: 26 [40000/50000 (80%)]\tLosses bn: 0.010294 drop: 0.029654 plain: 0.018853\n",
      "Train Epoch: 26 [50000/50000 (100%)]\tLosses bn: 0.003678 drop: 0.008510 plain: 0.007372\n",
      "Test set:\n",
      "bn: Loss: 0.0494\tAccuracy: 9852.0/10000 (99%)\n",
      "drop: Loss: 0.0760\tAccuracy: 9791.0/10000 (98%)\n",
      "plain: Loss: 0.0726\tAccuracy: 9802.0/10000 (98%)\n",
      "\n",
      "Train Epoch: 27 [0/50000 (0%)]\tLosses bn: 0.036696 drop: 0.082990 plain: 0.089826\n",
      "Train Epoch: 27 [10000/50000 (20%)]\tLosses bn: 0.010856 drop: 0.061719 plain: 0.034435\n",
      "Train Epoch: 27 [20000/50000 (40%)]\tLosses bn: 0.004607 drop: 0.013155 plain: 0.012102\n",
      "Train Epoch: 27 [30000/50000 (60%)]\tLosses bn: 0.015442 drop: 0.047516 plain: 0.043510\n",
      "Train Epoch: 27 [40000/50000 (80%)]\tLosses bn: 0.020975 drop: 0.070945 plain: 0.055976\n",
      "Train Epoch: 27 [50000/50000 (100%)]\tLosses bn: 0.006976 drop: 0.012812 plain: 0.012406\n",
      "Test set:\n",
      "bn: Loss: 0.0481\tAccuracy: 9861.0/10000 (99%)\n",
      "drop: Loss: 0.0755\tAccuracy: 9792.0/10000 (98%)\n",
      "plain: Loss: 0.0719\tAccuracy: 9805.0/10000 (98%)\n",
      "\n",
      "Train Epoch: 28 [0/50000 (0%)]\tLosses bn: 0.015973 drop: 0.022263 plain: 0.020853\n",
      "Train Epoch: 28 [10000/50000 (20%)]\tLosses bn: 0.045148 drop: 0.085964 plain: 0.094479\n",
      "Train Epoch: 28 [20000/50000 (40%)]\tLosses bn: 0.004467 drop: 0.012168 plain: 0.009833\n",
      "Train Epoch: 28 [30000/50000 (60%)]\tLosses bn: 0.079779 drop: 0.147873 plain: 0.145138\n",
      "Train Epoch: 28 [40000/50000 (80%)]\tLosses bn: 0.053796 drop: 0.075035 plain: 0.106120\n",
      "Train Epoch: 28 [50000/50000 (100%)]\tLosses bn: 0.020790 drop: 0.030962 plain: 0.044508\n",
      "Test set:\n",
      "bn: Loss: 0.0475\tAccuracy: 9853.0/10000 (99%)\n",
      "drop: Loss: 0.0730\tAccuracy: 9801.0/10000 (98%)\n",
      "plain: Loss: 0.0698\tAccuracy: 9799.0/10000 (98%)\n",
      "\n",
      "Train Epoch: 29 [0/50000 (0%)]\tLosses bn: 0.004005 drop: 0.019997 plain: 0.017542\n",
      "Train Epoch: 29 [10000/50000 (20%)]\tLosses bn: 0.021871 drop: 0.041286 plain: 0.030281\n",
      "Train Epoch: 29 [20000/50000 (40%)]\tLosses bn: 0.010564 drop: 0.030335 plain: 0.040088\n",
      "Train Epoch: 29 [30000/50000 (60%)]\tLosses bn: 0.039199 drop: 0.114544 plain: 0.067967\n",
      "Train Epoch: 29 [40000/50000 (80%)]\tLosses bn: 0.039824 drop: 0.051576 plain: 0.033555\n",
      "Train Epoch: 29 [50000/50000 (100%)]\tLosses bn: 0.011020 drop: 0.027406 plain: 0.028388\n",
      "Test set:\n",
      "bn: Loss: 0.0481\tAccuracy: 9849.0/10000 (98%)\n",
      "drop: Loss: 0.0719\tAccuracy: 9800.0/10000 (98%)\n",
      "plain: Loss: 0.0686\tAccuracy: 9807.0/10000 (98%)\n",
      "\n",
      "Train Epoch: 30 [0/50000 (0%)]\tLosses bn: 0.007567 drop: 0.014628 plain: 0.014577\n",
      "Train Epoch: 30 [10000/50000 (20%)]\tLosses bn: 0.005974 drop: 0.026877 plain: 0.022077\n",
      "Train Epoch: 30 [20000/50000 (40%)]\tLosses bn: 0.055920 drop: 0.053278 plain: 0.043104\n",
      "Train Epoch: 30 [30000/50000 (60%)]\tLosses bn: 0.041981 drop: 0.074727 plain: 0.073778\n",
      "Train Epoch: 30 [40000/50000 (80%)]\tLosses bn: 0.012119 drop: 0.032145 plain: 0.032992\n",
      "Train Epoch: 30 [50000/50000 (100%)]\tLosses bn: 0.053895 drop: 0.056988 plain: 0.050422\n",
      "Test set:\n",
      "bn: Loss: 0.0473\tAccuracy: 9851.0/10000 (99%)\n",
      "drop: Loss: 0.0705\tAccuracy: 9806.0/10000 (98%)\n",
      "plain: Loss: 0.0676\tAccuracy: 9812.0/10000 (98%)\n",
      "\n",
      "Train Epoch: 31 [0/50000 (0%)]\tLosses bn: 0.019530 drop: 0.062559 plain: 0.064422\n",
      "Train Epoch: 31 [10000/50000 (20%)]\tLosses bn: 0.026293 drop: 0.065860 plain: 0.041539\n",
      "Train Epoch: 31 [20000/50000 (40%)]\tLosses bn: 0.005246 drop: 0.031313 plain: 0.027788\n",
      "Train Epoch: 31 [30000/50000 (60%)]\tLosses bn: 0.028061 drop: 0.046242 plain: 0.050986\n",
      "Train Epoch: 31 [40000/50000 (80%)]\tLosses bn: 0.015832 drop: 0.048940 plain: 0.034985\n",
      "Train Epoch: 31 [50000/50000 (100%)]\tLosses bn: 0.014799 drop: 0.043501 plain: 0.041978\n",
      "Test set:\n",
      "bn: Loss: 0.0457\tAccuracy: 9862.0/10000 (99%)\n",
      "drop: Loss: 0.0694\tAccuracy: 9806.0/10000 (98%)\n",
      "plain: Loss: 0.0665\tAccuracy: 9823.0/10000 (98%)\n",
      "\n",
      "Train Epoch: 32 [0/50000 (0%)]\tLosses bn: 0.045349 drop: 0.041046 plain: 0.063976\n",
      "Train Epoch: 32 [10000/50000 (20%)]\tLosses bn: 0.017163 drop: 0.047841 plain: 0.034636\n",
      "Train Epoch: 32 [20000/50000 (40%)]\tLosses bn: 0.008331 drop: 0.024482 plain: 0.019433\n",
      "Train Epoch: 32 [30000/50000 (60%)]\tLosses bn: 0.007251 drop: 0.014376 plain: 0.019190\n",
      "Train Epoch: 32 [40000/50000 (80%)]\tLosses bn: 0.021789 drop: 0.024673 plain: 0.019211\n",
      "Train Epoch: 32 [50000/50000 (100%)]\tLosses bn: 0.012221 drop: 0.029196 plain: 0.038761\n",
      "Test set:\n",
      "bn: Loss: 0.0452\tAccuracy: 9860.0/10000 (99%)\n",
      "drop: Loss: 0.0690\tAccuracy: 9798.0/10000 (98%)\n",
      "plain: Loss: 0.0655\tAccuracy: 9823.0/10000 (98%)\n",
      "\n",
      "Train Epoch: 33 [0/50000 (0%)]\tLosses bn: 0.021706 drop: 0.049265 plain: 0.039529\n",
      "Train Epoch: 33 [10000/50000 (20%)]\tLosses bn: 0.023671 drop: 0.034550 plain: 0.024091\n",
      "Train Epoch: 33 [20000/50000 (40%)]\tLosses bn: 0.023714 drop: 0.033371 plain: 0.035562\n",
      "Train Epoch: 33 [30000/50000 (60%)]\tLosses bn: 0.019696 drop: 0.028733 plain: 0.032167\n",
      "Train Epoch: 33 [40000/50000 (80%)]\tLosses bn: 0.067190 drop: 0.180162 plain: 0.145905\n",
      "Train Epoch: 33 [50000/50000 (100%)]\tLosses bn: 0.005122 drop: 0.021708 plain: 0.021989\n",
      "Test set:\n",
      "bn: Loss: 0.0482\tAccuracy: 9851.0/10000 (99%)\n",
      "drop: Loss: 0.0683\tAccuracy: 9819.0/10000 (98%)\n",
      "plain: Loss: 0.0657\tAccuracy: 9821.0/10000 (98%)\n",
      "\n",
      "Train Epoch: 34 [0/50000 (0%)]\tLosses bn: 0.029695 drop: 0.054368 plain: 0.058357\n",
      "Train Epoch: 34 [10000/50000 (20%)]\tLosses bn: 0.002958 drop: 0.003935 plain: 0.004639\n",
      "Train Epoch: 34 [20000/50000 (40%)]\tLosses bn: 0.040125 drop: 0.084964 plain: 0.086366\n",
      "Train Epoch: 34 [30000/50000 (60%)]\tLosses bn: 0.011342 drop: 0.026247 plain: 0.022088\n",
      "Train Epoch: 34 [40000/50000 (80%)]\tLosses bn: 0.003341 drop: 0.041951 plain: 0.038272\n",
      "Train Epoch: 34 [50000/50000 (100%)]\tLosses bn: 0.014072 drop: 0.036275 plain: 0.020967\n",
      "Test set:\n",
      "bn: Loss: 0.0441\tAccuracy: 9857.0/10000 (99%)\n",
      "drop: Loss: 0.0660\tAccuracy: 9813.0/10000 (98%)\n",
      "plain: Loss: 0.0631\tAccuracy: 9831.0/10000 (98%)\n",
      "\n",
      "Train Epoch: 35 [0/50000 (0%)]\tLosses bn: 0.160914 drop: 0.182694 plain: 0.149771\n",
      "Train Epoch: 35 [10000/50000 (20%)]\tLosses bn: 0.003796 drop: 0.017555 plain: 0.019091\n",
      "Train Epoch: 35 [20000/50000 (40%)]\tLosses bn: 0.037242 drop: 0.055513 plain: 0.070886\n",
      "Train Epoch: 35 [30000/50000 (60%)]\tLosses bn: 0.056432 drop: 0.121423 plain: 0.147859\n",
      "Train Epoch: 35 [40000/50000 (80%)]\tLosses bn: 0.012541 drop: 0.016481 plain: 0.034198\n",
      "Train Epoch: 35 [50000/50000 (100%)]\tLosses bn: 0.016404 drop: 0.058763 plain: 0.047187\n",
      "Test set:\n",
      "bn: Loss: 0.0448\tAccuracy: 9848.0/10000 (98%)\n",
      "drop: Loss: 0.0660\tAccuracy: 9810.0/10000 (98%)\n",
      "plain: Loss: 0.0630\tAccuracy: 9820.0/10000 (98%)\n",
      "\n",
      "Train Epoch: 36 [0/50000 (0%)]\tLosses bn: 0.010652 drop: 0.040160 plain: 0.039617\n",
      "Train Epoch: 36 [10000/50000 (20%)]\tLosses bn: 0.029170 drop: 0.051341 plain: 0.068867\n",
      "Train Epoch: 36 [20000/50000 (40%)]\tLosses bn: 0.064990 drop: 0.143510 plain: 0.165407\n",
      "Train Epoch: 36 [30000/50000 (60%)]\tLosses bn: 0.003517 drop: 0.016404 plain: 0.013923\n",
      "Train Epoch: 36 [40000/50000 (80%)]\tLosses bn: 0.008667 drop: 0.019061 plain: 0.024339\n",
      "Train Epoch: 36 [50000/50000 (100%)]\tLosses bn: 0.022236 drop: 0.047867 plain: 0.048852\n",
      "Test set:\n",
      "bn: Loss: 0.0436\tAccuracy: 9861.0/10000 (99%)\n",
      "drop: Loss: 0.0652\tAccuracy: 9817.0/10000 (98%)\n",
      "plain: Loss: 0.0620\tAccuracy: 9827.0/10000 (98%)\n",
      "\n",
      "Train Epoch: 37 [0/50000 (0%)]\tLosses bn: 0.078421 drop: 0.155245 plain: 0.184453\n",
      "Train Epoch: 37 [10000/50000 (20%)]\tLosses bn: 0.006703 drop: 0.020124 plain: 0.020496\n",
      "Train Epoch: 37 [20000/50000 (40%)]\tLosses bn: 0.002681 drop: 0.007209 plain: 0.006762\n",
      "Train Epoch: 37 [30000/50000 (60%)]\tLosses bn: 0.002281 drop: 0.009224 plain: 0.008169\n",
      "Train Epoch: 37 [40000/50000 (80%)]\tLosses bn: 0.004774 drop: 0.032972 plain: 0.024217\n",
      "Train Epoch: 37 [50000/50000 (100%)]\tLosses bn: 0.009574 drop: 0.035755 plain: 0.022341\n",
      "Test set:\n",
      "bn: Loss: 0.0440\tAccuracy: 9857.0/10000 (99%)\n",
      "drop: Loss: 0.0651\tAccuracy: 9818.0/10000 (98%)\n",
      "plain: Loss: 0.0622\tAccuracy: 9831.0/10000 (98%)\n",
      "\n",
      "Train Epoch: 38 [0/50000 (0%)]\tLosses bn: 0.002443 drop: 0.007291 plain: 0.006472\n"
     ]
    },
    {
     "name": "stdout",
     "output_type": "stream",
     "text": [
      "Train Epoch: 38 [10000/50000 (20%)]\tLosses bn: 0.012876 drop: 0.055818 plain: 0.043001\n",
      "Train Epoch: 38 [20000/50000 (40%)]\tLosses bn: 0.004108 drop: 0.020242 plain: 0.020475\n",
      "Train Epoch: 38 [30000/50000 (60%)]\tLosses bn: 0.006567 drop: 0.023985 plain: 0.020331\n",
      "Train Epoch: 38 [40000/50000 (80%)]\tLosses bn: 0.010792 drop: 0.056587 plain: 0.027068\n",
      "Train Epoch: 38 [50000/50000 (100%)]\tLosses bn: 0.009173 drop: 0.037480 plain: 0.037886\n",
      "Test set:\n",
      "bn: Loss: 0.0441\tAccuracy: 9862.0/10000 (99%)\n",
      "drop: Loss: 0.0640\tAccuracy: 9822.0/10000 (98%)\n",
      "plain: Loss: 0.0608\tAccuracy: 9824.0/10000 (98%)\n",
      "\n",
      "Train Epoch: 39 [0/50000 (0%)]\tLosses bn: 0.006564 drop: 0.020043 plain: 0.016190\n",
      "Train Epoch: 39 [10000/50000 (20%)]\tLosses bn: 0.013149 drop: 0.027131 plain: 0.018770\n",
      "Train Epoch: 39 [20000/50000 (40%)]\tLosses bn: 0.006724 drop: 0.031203 plain: 0.057274\n",
      "Train Epoch: 39 [30000/50000 (60%)]\tLosses bn: 0.019475 drop: 0.032067 plain: 0.030740\n",
      "Train Epoch: 39 [40000/50000 (80%)]\tLosses bn: 0.011176 drop: 0.030075 plain: 0.020793\n",
      "Train Epoch: 39 [50000/50000 (100%)]\tLosses bn: 0.005503 drop: 0.018479 plain: 0.019395\n",
      "Test set:\n",
      "bn: Loss: 0.0440\tAccuracy: 9859.0/10000 (99%)\n",
      "drop: Loss: 0.0635\tAccuracy: 9819.0/10000 (98%)\n",
      "plain: Loss: 0.0609\tAccuracy: 9826.0/10000 (98%)\n",
      "\n",
      "Train Epoch: 40 [0/50000 (0%)]\tLosses bn: 0.008783 drop: 0.020675 plain: 0.015273\n",
      "Train Epoch: 40 [10000/50000 (20%)]\tLosses bn: 0.098431 drop: 0.143160 plain: 0.121643\n",
      "Train Epoch: 40 [20000/50000 (40%)]\tLosses bn: 0.041552 drop: 0.076345 plain: 0.065886\n",
      "Train Epoch: 40 [30000/50000 (60%)]\tLosses bn: 0.054197 drop: 0.065124 plain: 0.062812\n",
      "Train Epoch: 40 [40000/50000 (80%)]\tLosses bn: 0.006308 drop: 0.033497 plain: 0.024018\n",
      "Train Epoch: 40 [50000/50000 (100%)]\tLosses bn: 0.020495 drop: 0.034157 plain: 0.045491\n",
      "Test set:\n",
      "bn: Loss: 0.0421\tAccuracy: 9865.0/10000 (99%)\n",
      "drop: Loss: 0.0619\tAccuracy: 9821.0/10000 (98%)\n",
      "plain: Loss: 0.0595\tAccuracy: 9833.0/10000 (98%)\n",
      "\n"
     ]
    }
   ],
   "source": [
    "for epoch in range(1, 41):\n",
    "    for model in models.values():\n",
    "        model.train()\n",
    "    train(epoch, models, train_log)\n",
    "    for model in models.values():\n",
    "        model.eval()\n",
    "    test(models, valid_loader, test_log)"
   ]
  },
  {
   "cell_type": "code",
   "execution_count": 11,
   "metadata": {},
   "outputs": [
    {
     "data": {
      "image/png": "[encoded data removed]",
      "text/plain": [
       "<Figure size 432x288 with 1 Axes>"
      ]
     },
     "metadata": {},
     "output_type": "display_data"
    }
   ],
   "source": [
    "plot_graphs(test_log, 'loss')"
   ]
  },
  {
   "cell_type": "code",
   "execution_count": 12,
   "metadata": {},
   "outputs": [
    {
     "data": {
      "image/png": "[encoded data removed]",
      "text/plain": [
       "<Figure size 432x288 with 1 Axes>"
      ]
     },
     "metadata": {},
     "output_type": "display_data"
    }
   ],
   "source": [
    "plot_graphs(test_log, 'accuracy')"
   ]
  },
  {
   "cell_type": "code",
   "execution_count": 11,
   "metadata": {},
   "outputs": [
    {
     "data": {
      "image/png": "[encoded data removed]",
      "text/plain": [
       "<Figure size 800x400 with 50 Axes>"
      ]
     },
     "metadata": {},
     "output_type": "display_data"
    },
    {
     "name": "stdout",
     "output_type": "stream",
     "text": [
      "tensor([-13.8609,  -8.9052,  -4.7882,   9.8132, -12.5249,   0.6174, -12.2183,\n",
      "         -7.7492,  -2.9126,  -3.9947], grad_fn=<SelectBackward>)\n"
     ]
    }
   ],
   "source": [
    "data, label = next(iter(train_loader))\n",
    "plot_mnist(data.data.numpy(), (5, 10))\n",
    "output = models['bn'](data)\n",
    "output.size()\n",
    "print(output[0])\n",
    "#to_plot = output.view(-1, 1, 28, 28).clamp(0, 1).data.numpy()\n",
    "#plot_mnist(to_plot, (5, 10))"
   ]
  },
  {
   "cell_type": "markdown",
   "metadata": {},
   "source": [
    "### Подгонка картинки или Сделать оптимизацию изображения под активацию сверточных нейронов классификатора"
   ]
  },
  {
   "cell_type": "code",
   "execution_count": 86,
   "metadata": {},
   "outputs": [],
   "source": [
    "path='./MNIST_data'\n",
    "from torch.utils.data import DataLoader\n",
    "train_dataset = torchvision.datasets.MNIST(root = path, train=True, transform=mnist_transform, download=True) \n",
    "train_loader_1 = DataLoader(dataset=train_dataset, batch_size=1,shuffle=True) \n",
    "data_1, label_1 = next(iter(train_loader_1))"
   ]
  },
  {
   "cell_type": "code",
   "execution_count": 87,
   "metadata": {},
   "outputs": [],
   "source": [
    "#УСТАРЕЛО Tensors and Variables have merged in 0.4.0\n",
    "# Обернем в Variable и потребуем градиентов - \n",
    "#from torch.autograd import Variable\n",
    "#data_t = Variable(torch.FloatTensor( data_1 ), requires_grad=True)"
   ]
  },
  {
   "cell_type": "code",
   "execution_count": 88,
   "metadata": {},
   "outputs": [
    {
     "name": "stderr",
     "output_type": "stream",
     "text": [
      "/opt/conda/lib/python3.6/site-packages/ipykernel_launcher.py:1: UserWarning: To copy construct from a tensor, it is recommended to use sourceTensor.clone().detach() or sourceTensor.clone().detach().requires_grad_(True), rather than torch.tensor(sourceTensor).\n",
      "  \"\"\"Entry point for launching an IPython kernel.\n"
     ]
    }
   ],
   "source": [
    "data_1 = torch.tensor( data_1 , requires_grad= True )"
   ]
  },
  {
   "cell_type": "code",
   "execution_count": 102,
   "metadata": {},
   "outputs": [],
   "source": [
    "# Целевой пусть будет циферка :\n",
    "target = torch.tensor([2])"
   ]
  },
  {
   "cell_type": "code",
   "execution_count": 103,
   "metadata": {},
   "outputs": [
    {
     "name": "stderr",
     "output_type": "stream",
     "text": [
      "/opt/conda/lib/python3.6/site-packages/ipykernel_launcher.py:6: UserWarning: To copy construct from a tensor, it is recommended to use sourceTensor.clone().detach() or sourceTensor.clone().detach().requires_grad_(True), rather than torch.tensor(sourceTensor).\n",
      "  \n"
     ]
    },
    {
     "data": {
      "image/png": "[encoded data removed]",
      "text/plain": [
       "<Figure size 800x400 with 1 Axes>"
      ]
     },
     "metadata": {},
     "output_type": "display_data"
    },
    {
     "name": "stdout",
     "output_type": "stream",
     "text": [
      "tensor(13.5156)\n"
     ]
    },
    {
     "data": {
      "image/png": "[encoded data removed]",
      "text/plain": [
       "<Figure size 800x400 with 1 Axes>"
      ]
     },
     "metadata": {},
     "output_type": "display_data"
    },
    {
     "name": "stdout",
     "output_type": "stream",
     "text": [
      "tensor(0.0108)\n"
     ]
    },
    {
     "data": {
      "image/png": "[encoded data removed]",
      "text/plain": [
       "<Figure size 800x400 with 1 Axes>"
      ]
     },
     "metadata": {},
     "output_type": "display_data"
    },
    {
     "name": "stdout",
     "output_type": "stream",
     "text": [
      "tensor(0.0066)\n"
     ]
    },
    {
     "data": {
      "image/png": "[encoded data removed]",
      "text/plain": [
       "<Figure size 800x400 with 1 Axes>"
      ]
     },
     "metadata": {},
     "output_type": "display_data"
    },
    {
     "name": "stdout",
     "output_type": "stream",
     "text": [
      "tensor(0.0051)\n"
     ]
    },
    {
     "data": {
      "image/png": "[encoded data removed]",
      "text/plain": [
       "<Figure size 800x400 with 1 Axes>"
      ]
     },
     "metadata": {},
     "output_type": "display_data"
    },
    {
     "name": "stdout",
     "output_type": "stream",
     "text": [
      "tensor(0.0041)\n"
     ]
    },
    {
     "data": {
      "image/png": "[encoded data removed]",
      "text/plain": [
       "<Figure size 800x400 with 1 Axes>"
      ]
     },
     "metadata": {},
     "output_type": "display_data"
    },
    {
     "name": "stdout",
     "output_type": "stream",
     "text": [
      "tensor(0.0035)\n"
     ]
    },
    {
     "data": {
      "image/png": "[encoded data removed]",
      "text/plain": [
       "<Figure size 800x400 with 1 Axes>"
      ]
     },
     "metadata": {},
     "output_type": "display_data"
    },
    {
     "name": "stdout",
     "output_type": "stream",
     "text": [
      "tensor(0.0031)\n"
     ]
    },
    {
     "data": {
      "image/png": "[encoded data removed]",
      "text/plain": [
       "<Figure size 800x400 with 1 Axes>"
      ]
     },
     "metadata": {},
     "output_type": "display_data"
    },
    {
     "name": "stdout",
     "output_type": "stream",
     "text": [
      "tensor(0.0028)\n"
     ]
    },
    {
     "data": {
      "image/png": "[encoded data removed]",
      "text/plain": [
       "<Figure size 800x400 with 1 Axes>"
      ]
     },
     "metadata": {},
     "output_type": "display_data"
    },
    {
     "name": "stdout",
     "output_type": "stream",
     "text": [
      "tensor(0.0026)\n"
     ]
    },
    {
     "data": {
      "image/png": "[encoded data removed]",
      "text/plain": [
       "<Figure size 800x400 with 1 Axes>"
      ]
     },
     "metadata": {},
     "output_type": "display_data"
    },
    {
     "name": "stdout",
     "output_type": "stream",
     "text": [
      "tensor(0.0024)\n"
     ]
    },
    {
     "data": {
      "image/png": "[encoded data removed]",
      "text/plain": [
       "<Figure size 800x400 with 1 Axes>"
      ]
     },
     "metadata": {},
     "output_type": "display_data"
    },
    {
     "name": "stdout",
     "output_type": "stream",
     "text": [
      "tensor(0.0022)\n"
     ]
    },
    {
     "data": {
      "image/png": "[encoded data removed]",
      "text/plain": [
       "<Figure size 800x400 with 1 Axes>"
      ]
     },
     "metadata": {},
     "output_type": "display_data"
    },
    {
     "name": "stdout",
     "output_type": "stream",
     "text": [
      "tensor(0.0021)\n"
     ]
    },
    {
     "data": {
      "image/png": "[encoded data removed]",
      "text/plain": [
       "<Figure size 800x400 with 1 Axes>"
      ]
     },
     "metadata": {},
     "output_type": "display_data"
    },
    {
     "name": "stdout",
     "output_type": "stream",
     "text": [
      "tensor(0.0020)\n"
     ]
    },
    {
     "data": {
      "image/png": "[encoded data removed]",
      "text/plain": [
       "<Figure size 800x400 with 1 Axes>"
      ]
     },
     "metadata": {},
     "output_type": "display_data"
    },
    {
     "name": "stdout",
     "output_type": "stream",
     "text": [
      "tensor(0.0018)\n"
     ]
    },
    {
     "data": {
      "image/png": "[encoded data removed]",
      "text/plain": [
       "<Figure size 800x400 with 1 Axes>"
      ]
     },
     "metadata": {},
     "output_type": "display_data"
    },
    {
     "name": "stdout",
     "output_type": "stream",
     "text": [
      "tensor(0.0017)\n"
     ]
    },
    {
     "data": {
      "image/png": "[encoded data removed]",
      "text/plain": [
       "<Figure size 800x400 with 1 Axes>"
      ]
     },
     "metadata": {},
     "output_type": "display_data"
    },
    {
     "name": "stdout",
     "output_type": "stream",
     "text": [
      "tensor(0.0017)\n"
     ]
    },
    {
     "data": {
      "image/png": "[encoded data removed]",
      "text/plain": [
       "<Figure size 800x400 with 1 Axes>"
      ]
     },
     "metadata": {},
     "output_type": "display_data"
    },
    {
     "name": "stdout",
     "output_type": "stream",
     "text": [
      "tensor(0.0016)\n"
     ]
    },
    {
     "data": {
      "image/png": "[encoded data removed]",
      "text/plain": [
       "<Figure size 800x400 with 1 Axes>"
      ]
     },
     "metadata": {},
     "output_type": "display_data"
    },
    {
     "name": "stdout",
     "output_type": "stream",
     "text": [
      "tensor(0.0015)\n"
     ]
    },
    {
     "data": {
      "image/png": "[encoded data removed]",
      "text/plain": [
       "<Figure size 800x400 with 1 Axes>"
      ]
     },
     "metadata": {},
     "output_type": "display_data"
    },
    {
     "name": "stdout",
     "output_type": "stream",
     "text": [
      "tensor(0.0015)\n"
     ]
    },
    {
     "ename": "KeyboardInterrupt",
     "evalue": "",
     "output_type": "error",
     "traceback": [
      "\u001b[0;31m---------------------------------------------------------------------------\u001b[0m",
      "\u001b[0;31mKeyboardInterrupt\u001b[0m                         Traceback (most recent call last)",
      "\u001b[0;32m<ipython-input-103-e81bcc2e3bec>\u001b[0m in \u001b[0;36m<module>\u001b[0;34m()\u001b[0m\n\u001b[1;32m      8\u001b[0m     \u001b[0moutput_1\u001b[0m \u001b[0;34m=\u001b[0m \u001b[0mmodel\u001b[0m\u001b[0;34m(\u001b[0m\u001b[0mdata_1\u001b[0m\u001b[0;34m)\u001b[0m\u001b[0;34m\u001b[0m\u001b[0m\n\u001b[1;32m      9\u001b[0m     \u001b[0mloss_t\u001b[0m \u001b[0;34m=\u001b[0m \u001b[0mF\u001b[0m\u001b[0;34m.\u001b[0m\u001b[0mcross_entropy\u001b[0m\u001b[0;34m(\u001b[0m\u001b[0moutput_1\u001b[0m\u001b[0;34m,\u001b[0m \u001b[0mtarget\u001b[0m\u001b[0;34m)\u001b[0m\u001b[0;34m\u001b[0m\u001b[0m\n\u001b[0;32m---> 10\u001b[0;31m     \u001b[0mloss_t\u001b[0m\u001b[0;34m.\u001b[0m\u001b[0mbackward\u001b[0m\u001b[0;34m(\u001b[0m\u001b[0;34m)\u001b[0m\u001b[0;34m\u001b[0m\u001b[0m\n\u001b[0m\u001b[1;32m     11\u001b[0m     \u001b[0mdata_1\u001b[0m\u001b[0;34m.\u001b[0m\u001b[0mdata\u001b[0m \u001b[0;34m=\u001b[0m \u001b[0mdata_1\u001b[0m\u001b[0;34m.\u001b[0m\u001b[0mdata\u001b[0m \u001b[0;34m-\u001b[0m \u001b[0;34m(\u001b[0m\u001b[0mlr\u001b[0m\u001b[0;34m*\u001b[0m\u001b[0mdata_1\u001b[0m\u001b[0;34m.\u001b[0m\u001b[0mgrad\u001b[0m\u001b[0;34m.\u001b[0m\u001b[0mdata\u001b[0m\u001b[0;34m)\u001b[0m\u001b[0;34m\u001b[0m\u001b[0m\n\u001b[1;32m     12\u001b[0m     \u001b[0;31m#data_1.grad.data = torch.zeros(data_1.grad.size())\u001b[0m\u001b[0;34m\u001b[0m\u001b[0;34m\u001b[0m\u001b[0m\n",
      "\u001b[0;32m/opt/conda/lib/python3.6/site-packages/torch/tensor.py\u001b[0m in \u001b[0;36mbackward\u001b[0;34m(self, gradient, retain_graph, create_graph)\u001b[0m\n\u001b[1;32m    100\u001b[0m                 \u001b[0mproducts\u001b[0m\u001b[0;34m.\u001b[0m \u001b[0mDefaults\u001b[0m \u001b[0mto\u001b[0m\u001b[0;31m \u001b[0m\u001b[0;31m`\u001b[0m\u001b[0;31m`\u001b[0m\u001b[0;32mFalse\u001b[0m\u001b[0;31m`\u001b[0m\u001b[0;31m`\u001b[0m\u001b[0;34m.\u001b[0m\u001b[0;34m\u001b[0m\u001b[0m\n\u001b[1;32m    101\u001b[0m         \"\"\"\n\u001b[0;32m--> 102\u001b[0;31m         \u001b[0mtorch\u001b[0m\u001b[0;34m.\u001b[0m\u001b[0mautograd\u001b[0m\u001b[0;34m.\u001b[0m\u001b[0mbackward\u001b[0m\u001b[0;34m(\u001b[0m\u001b[0mself\u001b[0m\u001b[0;34m,\u001b[0m \u001b[0mgradient\u001b[0m\u001b[0;34m,\u001b[0m \u001b[0mretain_graph\u001b[0m\u001b[0;34m,\u001b[0m \u001b[0mcreate_graph\u001b[0m\u001b[0;34m)\u001b[0m\u001b[0;34m\u001b[0m\u001b[0m\n\u001b[0m\u001b[1;32m    103\u001b[0m \u001b[0;34m\u001b[0m\u001b[0m\n\u001b[1;32m    104\u001b[0m     \u001b[0;32mdef\u001b[0m \u001b[0mregister_hook\u001b[0m\u001b[0;34m(\u001b[0m\u001b[0mself\u001b[0m\u001b[0;34m,\u001b[0m \u001b[0mhook\u001b[0m\u001b[0;34m)\u001b[0m\u001b[0;34m:\u001b[0m\u001b[0;34m\u001b[0m\u001b[0m\n",
      "\u001b[0;32m/opt/conda/lib/python3.6/site-packages/torch/autograd/__init__.py\u001b[0m in \u001b[0;36mbackward\u001b[0;34m(tensors, grad_tensors, retain_graph, create_graph, grad_variables)\u001b[0m\n\u001b[1;32m     88\u001b[0m     Variable._execution_engine.run_backward(\n\u001b[1;32m     89\u001b[0m         \u001b[0mtensors\u001b[0m\u001b[0;34m,\u001b[0m \u001b[0mgrad_tensors\u001b[0m\u001b[0;34m,\u001b[0m \u001b[0mretain_graph\u001b[0m\u001b[0;34m,\u001b[0m \u001b[0mcreate_graph\u001b[0m\u001b[0;34m,\u001b[0m\u001b[0;34m\u001b[0m\u001b[0m\n\u001b[0;32m---> 90\u001b[0;31m         allow_unreachable=True)  # allow_unreachable flag\n\u001b[0m\u001b[1;32m     91\u001b[0m \u001b[0;34m\u001b[0m\u001b[0m\n\u001b[1;32m     92\u001b[0m \u001b[0;34m\u001b[0m\u001b[0m\n",
      "\u001b[0;31mKeyboardInterrupt\u001b[0m: "
     ]
    }
   ],
   "source": [
    "# Cross entropy\n",
    "lr = 0.3\n",
    "output_ar = []\n",
    "loss_arr = []\n",
    "grads = []\n",
    "data_1 = torch.tensor( data_1 , requires_grad= True )\n",
    "for i in range(0,200000):\n",
    "    output_1 = model(data_1)\n",
    "    loss_t = F.cross_entropy(output_1, target)\n",
    "    loss_t.backward()\n",
    "    data_1.data = data_1.data - (lr*data_1.grad.data)\n",
    "    #data_1.grad.data = torch.zeros(data_1.grad.size())\n",
    "    data_1.grad.data.zero_()\n",
    "    if i % 100 == 0:\n",
    "        plot_mnist(data_1.data.numpy(), (5, 10))\n",
    "        print(loss_t.data)\n",
    "plot_mnist(data_1.data.numpy(), (5, 10))"
   ]
  },
  {
   "cell_type": "code",
   "execution_count": 104,
   "metadata": {},
   "outputs": [
    {
     "name": "stdout",
     "output_type": "stream",
     "text": [
      "tensor([[ -9.8237,  -6.7800,   4.3994,  -4.2142,  -7.5151,  -3.4171, -10.8305,\n",
      "          -2.9775,  -4.4366,  -5.4666]], grad_fn=<AddmmBackward>)\n"
     ]
    }
   ],
   "source": [
    "# Проверка, что это все таки та цифра, которую ожидали :)\n",
    "output_o = model(data_1)\n",
    "print(output_o)"
   ]
  },
  {
   "cell_type": "code",
   "execution_count": 101,
   "metadata": {},
   "outputs": [
    {
     "name": "stderr",
     "output_type": "stream",
     "text": [
      "/opt/conda/lib/python3.6/site-packages/ipykernel_launcher.py:7: UserWarning: To copy construct from a tensor, it is recommended to use sourceTensor.clone().detach() or sourceTensor.clone().detach().requires_grad_(True), rather than torch.tensor(sourceTensor).\n",
      "  import sys\n"
     ]
    },
    {
     "data": {
      "image/png": "[encoded data removed]",
      "text/plain": [
       "<Figure size 800x400 with 1 Axes>"
      ]
     },
     "metadata": {},
     "output_type": "display_data"
    },
    {
     "name": "stdout",
     "output_type": "stream",
     "text": [
      "tensor(1.9324)\n"
     ]
    },
    {
     "data": {
      "image/png": "[encoded data removed]",
      "text/plain": [
       "<Figure size 800x400 with 1 Axes>"
      ]
     },
     "metadata": {},
     "output_type": "display_data"
    },
    {
     "name": "stdout",
     "output_type": "stream",
     "text": [
      "tensor(0.8987)\n"
     ]
    },
    {
     "data": {
      "image/png": "[encoded data removed]",
      "text/plain": [
       "<Figure size 800x400 with 1 Axes>"
      ]
     },
     "metadata": {},
     "output_type": "display_data"
    },
    {
     "name": "stdout",
     "output_type": "stream",
     "text": [
      "tensor(0.4179)\n"
     ]
    },
    {
     "data": {
      "image/png": "[encoded data removed]",
      "text/plain": [
       "<Figure size 800x400 with 1 Axes>"
      ]
     },
     "metadata": {},
     "output_type": "display_data"
    },
    {
     "name": "stdout",
     "output_type": "stream",
     "text": [
      "tensor(0.1944)\n"
     ]
    },
    {
     "data": {
      "image/png": "[encoded data removed]",
      "text/plain": [
       "<Figure size 800x400 with 1 Axes>"
      ]
     },
     "metadata": {},
     "output_type": "display_data"
    },
    {
     "name": "stdout",
     "output_type": "stream",
     "text": [
      "tensor(0.0904)\n"
     ]
    },
    {
     "data": {
      "image/png": "[encoded data removed]",
      "text/plain": [
       "<Figure size 800x400 with 1 Axes>"
      ]
     },
     "metadata": {},
     "output_type": "display_data"
    },
    {
     "name": "stdout",
     "output_type": "stream",
     "text": [
      "tensor(0.0420)\n"
     ]
    },
    {
     "data": {
      "image/png": "[encoded data removed]",
      "text/plain": [
       "<Figure size 800x400 with 1 Axes>"
      ]
     },
     "metadata": {},
     "output_type": "display_data"
    },
    {
     "name": "stdout",
     "output_type": "stream",
     "text": [
      "tensor(0.0195)\n"
     ]
    },
    {
     "data": {
      "image/png": "[encoded data removed]",
      "text/plain": [
       "<Figure size 800x400 with 1 Axes>"
      ]
     },
     "metadata": {},
     "output_type": "display_data"
    },
    {
     "name": "stdout",
     "output_type": "stream",
     "text": [
      "tensor(0.0091)\n"
     ]
    },
    {
     "data": {
      "image/png": "[encoded data removed]",
      "text/plain": [
       "<Figure size 800x400 with 1 Axes>"
      ]
     },
     "metadata": {},
     "output_type": "display_data"
    },
    {
     "name": "stdout",
     "output_type": "stream",
     "text": [
      "tensor(0.0042)\n"
     ]
    },
    {
     "data": {
      "image/png": "[encoded data removed]",
      "text/plain": [
       "<Figure size 800x400 with 1 Axes>"
      ]
     },
     "metadata": {},
     "output_type": "display_data"
    },
    {
     "name": "stdout",
     "output_type": "stream",
     "text": [
      "tensor(0.0020)\n"
     ]
    },
    {
     "data": {
      "image/png": "[encoded data removed]",
      "text/plain": [
       "<Figure size 800x400 with 1 Axes>"
      ]
     },
     "metadata": {},
     "output_type": "display_data"
    },
    {
     "name": "stdout",
     "output_type": "stream",
     "text": [
      "tensor(0.0009)\n"
     ]
    },
    {
     "data": {
      "image/png": "[encoded data removed]",
      "text/plain": [
       "<Figure size 800x400 with 1 Axes>"
      ]
     },
     "metadata": {},
     "output_type": "display_data"
    },
    {
     "name": "stdout",
     "output_type": "stream",
     "text": [
      "tensor(0.0004)\n"
     ]
    },
    {
     "data": {
      "image/png": "[encoded data removed]",
      "text/plain": [
       "<Figure size 800x400 with 1 Axes>"
      ]
     },
     "metadata": {},
     "output_type": "display_data"
    },
    {
     "name": "stdout",
     "output_type": "stream",
     "text": [
      "tensor(0.0002)\n"
     ]
    },
    {
     "data": {
      "image/png": "[encoded data removed]",
      "text/plain": [
       "<Figure size 800x400 with 1 Axes>"
      ]
     },
     "metadata": {},
     "output_type": "display_data"
    },
    {
     "name": "stdout",
     "output_type": "stream",
     "text": [
      "tensor(9.1971e-05)\n"
     ]
    },
    {
     "data": {
      "image/png": "[encoded data removed]",
      "text/plain": [
       "<Figure size 800x400 with 1 Axes>"
      ]
     },
     "metadata": {},
     "output_type": "display_data"
    },
    {
     "name": "stdout",
     "output_type": "stream",
     "text": [
      "tensor(4.2772e-05)\n"
     ]
    },
    {
     "data": {
      "image/png": "[encoded data removed]",
      "text/plain": [
       "<Figure size 800x400 with 1 Axes>"
      ]
     },
     "metadata": {},
     "output_type": "display_data"
    },
    {
     "name": "stdout",
     "output_type": "stream",
     "text": [
      "tensor(1.9892e-05)\n"
     ]
    },
    {
     "data": {
      "image/png": "[encoded data removed]",
      "text/plain": [
       "<Figure size 800x400 with 1 Axes>"
      ]
     },
     "metadata": {},
     "output_type": "display_data"
    },
    {
     "name": "stdout",
     "output_type": "stream",
     "text": [
      "tensor(9.2513e-06)\n"
     ]
    },
    {
     "data": {
      "image/png": "[encoded data removed]",
      "text/plain": [
       "<Figure size 800x400 with 1 Axes>"
      ]
     },
     "metadata": {},
     "output_type": "display_data"
    },
    {
     "name": "stdout",
     "output_type": "stream",
     "text": [
      "tensor(4.3030e-06)\n"
     ]
    },
    {
     "data": {
      "image/png": "[encoded data removed]",
      "text/plain": [
       "<Figure size 800x400 with 1 Axes>"
      ]
     },
     "metadata": {},
     "output_type": "display_data"
    },
    {
     "name": "stdout",
     "output_type": "stream",
     "text": [
      "tensor(2.0016e-06)\n"
     ]
    },
    {
     "data": {
      "image/png": "[encoded data removed]",
      "text/plain": [
       "<Figure size 800x400 with 1 Axes>"
      ]
     },
     "metadata": {},
     "output_type": "display_data"
    },
    {
     "name": "stdout",
     "output_type": "stream",
     "text": [
      "tensor(9.3166e-07)\n"
     ]
    },
    {
     "data": {
      "image/png": "[encoded data removed]",
      "text/plain": [
       "<Figure size 800x400 with 1 Axes>"
      ]
     },
     "metadata": {},
     "output_type": "display_data"
    },
    {
     "name": "stdout",
     "output_type": "stream",
     "text": [
      "tensor(4.3369e-07)\n"
     ]
    },
    {
     "data": {
      "image/png": "[encoded data removed]",
      "text/plain": [
       "<Figure size 800x400 with 1 Axes>"
      ]
     },
     "metadata": {},
     "output_type": "display_data"
    },
    {
     "name": "stdout",
     "output_type": "stream",
     "text": [
      "tensor(2.0238e-07)\n"
     ]
    },
    {
     "data": {
      "image/png": "[encoded data removed]",
      "text/plain": [
       "<Figure size 800x400 with 1 Axes>"
      ]
     },
     "metadata": {},
     "output_type": "display_data"
    },
    {
     "name": "stdout",
     "output_type": "stream",
     "text": [
      "tensor(9.4687e-08)\n"
     ]
    },
    {
     "data": {
      "image/png": "[encoded data removed]",
      "text/plain": [
       "<Figure size 800x400 with 1 Axes>"
      ]
     },
     "metadata": {},
     "output_type": "display_data"
    },
    {
     "name": "stdout",
     "output_type": "stream",
     "text": [
      "tensor(4.4676e-08)\n"
     ]
    },
    {
     "data": {
      "image/png": "[encoded data removed]",
      "text/plain": [
       "<Figure size 800x400 with 1 Axes>"
      ]
     },
     "metadata": {},
     "output_type": "display_data"
    },
    {
     "name": "stdout",
     "output_type": "stream",
     "text": [
      "tensor(2.1793e-08)\n"
     ]
    },
    {
     "data": {
      "image/png": "[encoded data removed]",
      "text/plain": [
       "<Figure size 800x400 with 1 Axes>"
      ]
     },
     "metadata": {},
     "output_type": "display_data"
    },
    {
     "name": "stdout",
     "output_type": "stream",
     "text": [
      "tensor(1.0434e-08)\n"
     ]
    },
    {
     "data": {
      "image/png": "[encoded data removed]",
      "text/plain": [
       "<Figure size 800x400 with 1 Axes>"
      ]
     },
     "metadata": {},
     "output_type": "display_data"
    },
    {
     "name": "stdout",
     "output_type": "stream",
     "text": [
      "tensor(5.6763e-09)\n"
     ]
    },
    {
     "data": {
      "image/png": "[encoded data removed]",
      "text/plain": [
       "<Figure size 800x400 with 1 Axes>"
      ]
     },
     "metadata": {},
     "output_type": "display_data"
    },
    {
     "name": "stdout",
     "output_type": "stream",
     "text": [
      "tensor(4.2232e-09)\n"
     ]
    },
    {
     "data": {
      "image/png": "[encoded data removed]",
      "text/plain": [
       "<Figure size 800x400 with 1 Axes>"
      ]
     },
     "metadata": {},
     "output_type": "display_data"
    },
    {
     "name": "stdout",
     "output_type": "stream",
     "text": [
      "tensor(3.6092e-09)\n"
     ]
    },
    {
     "data": {
      "image/png": "[encoded data removed]",
      "text/plain": [
       "<Figure size 800x400 with 1 Axes>"
      ]
     },
     "metadata": {},
     "output_type": "display_data"
    },
    {
     "name": "stdout",
     "output_type": "stream",
     "text": [
      "tensor(3.3455e-09)\n"
     ]
    },
    {
     "data": {
      "image/png": "[encoded data removed]",
      "text/plain": [
       "<Figure size 800x400 with 1 Axes>"
      ]
     },
     "metadata": {},
     "output_type": "display_data"
    },
    {
     "name": "stdout",
     "output_type": "stream",
     "text": [
      "tensor(3.2395e-09)\n"
     ]
    },
    {
     "data": {
      "image/png": "[encoded data removed]",
      "text/plain": [
       "<Figure size 800x400 with 1 Axes>"
      ]
     },
     "metadata": {},
     "output_type": "display_data"
    },
    {
     "name": "stdout",
     "output_type": "stream",
     "text": [
      "tensor(3.1976e-09)\n"
     ]
    },
    {
     "data": {
      "image/png": "[encoded data removed]",
      "text/plain": [
       "<Figure size 800x400 with 1 Axes>"
      ]
     },
     "metadata": {},
     "output_type": "display_data"
    },
    {
     "name": "stdout",
     "output_type": "stream",
     "text": [
      "tensor(3.1903e-09)\n"
     ]
    },
    {
     "data": {
      "image/png": "[encoded data removed]",
      "text/plain": [
       "<Figure size 800x400 with 1 Axes>"
      ]
     },
     "metadata": {},
     "output_type": "display_data"
    },
    {
     "name": "stdout",
     "output_type": "stream",
     "text": [
      "tensor(3.1879e-09)\n"
     ]
    },
    {
     "data": {
      "image/png": "[encoded data removed]",
      "text/plain": [
       "<Figure size 800x400 with 1 Axes>"
      ]
     },
     "metadata": {},
     "output_type": "display_data"
    },
    {
     "name": "stdout",
     "output_type": "stream",
     "text": [
      "tensor(3.1874e-09)\n"
     ]
    },
    {
     "data": {
      "image/png": "[encoded data removed]",
      "text/plain": [
       "<Figure size 800x400 with 1 Axes>"
      ]
     },
     "metadata": {},
     "output_type": "display_data"
    },
    {
     "name": "stdout",
     "output_type": "stream",
     "text": [
      "tensor(3.1873e-09)\n"
     ]
    },
    {
     "data": {
      "image/png": "[encoded data removed]",
      "text/plain": [
       "<Figure size 800x400 with 1 Axes>"
      ]
     },
     "metadata": {},
     "output_type": "display_data"
    },
    {
     "name": "stdout",
     "output_type": "stream",
     "text": [
      "tensor(3.1873e-09)\n"
     ]
    },
    {
     "data": {
      "image/png": "[encoded data removed]",
      "text/plain": [
       "<Figure size 800x400 with 1 Axes>"
      ]
     },
     "metadata": {},
     "output_type": "display_data"
    },
    {
     "name": "stdout",
     "output_type": "stream",
     "text": [
      "tensor(3.1873e-09)\n"
     ]
    },
    {
     "data": {
      "image/png": "[encoded data removed]",
      "text/plain": [
       "<Figure size 800x400 with 1 Axes>"
      ]
     },
     "metadata": {},
     "output_type": "display_data"
    },
    {
     "name": "stdout",
     "output_type": "stream",
     "text": [
      "tensor(3.1873e-09)\n"
     ]
    },
    {
     "data": {
      "image/png": "[encoded data removed]",
      "text/plain": [
       "<Figure size 800x400 with 1 Axes>"
      ]
     },
     "metadata": {},
     "output_type": "display_data"
    },
    {
     "name": "stdout",
     "output_type": "stream",
     "text": [
      "tensor(3.1873e-09)\n"
     ]
    },
    {
     "data": {
      "image/png": "[encoded data removed]",
      "text/plain": [
       "<Figure size 800x400 with 1 Axes>"
      ]
     },
     "metadata": {},
     "output_type": "display_data"
    },
    {
     "name": "stdout",
     "output_type": "stream",
     "text": [
      "tensor(3.1873e-09)\n"
     ]
    },
    {
     "data": {
      "image/png": "[encoded data removed]",
      "text/plain": [
       "<Figure size 800x400 with 1 Axes>"
      ]
     },
     "metadata": {},
     "output_type": "display_data"
    },
    {
     "name": "stdout",
     "output_type": "stream",
     "text": [
      "tensor(3.1873e-09)\n"
     ]
    },
    {
     "data": {
      "image/png": "[encoded data removed]",
      "text/plain": [
       "<Figure size 800x400 with 1 Axes>"
      ]
     },
     "metadata": {},
     "output_type": "display_data"
    },
    {
     "name": "stdout",
     "output_type": "stream",
     "text": [
      "tensor(3.1873e-09)\n"
     ]
    },
    {
     "data": {
      "image/png": "[encoded data removed]",
      "text/plain": [
       "<Figure size 800x400 with 1 Axes>"
      ]
     },
     "metadata": {},
     "output_type": "display_data"
    },
    {
     "name": "stdout",
     "output_type": "stream",
     "text": [
      "tensor(3.1873e-09)\n"
     ]
    },
    {
     "data": {
      "image/png": "[encoded data removed]",
      "text/plain": [
       "<Figure size 800x400 with 1 Axes>"
      ]
     },
     "metadata": {},
     "output_type": "display_data"
    },
    {
     "name": "stdout",
     "output_type": "stream",
     "text": [
      "tensor(3.1873e-09)\n"
     ]
    },
    {
     "data": {
      "image/png": "[encoded data removed]",
      "text/plain": [
       "<Figure size 800x400 with 1 Axes>"
      ]
     },
     "metadata": {},
     "output_type": "display_data"
    },
    {
     "name": "stdout",
     "output_type": "stream",
     "text": [
      "tensor(3.1873e-09)\n"
     ]
    },
    {
     "data": {
      "image/png": "[encoded data removed]",
      "text/plain": [
       "<Figure size 800x400 with 1 Axes>"
      ]
     },
     "metadata": {},
     "output_type": "display_data"
    },
    {
     "name": "stdout",
     "output_type": "stream",
     "text": [
      "tensor(3.1873e-09)\n"
     ]
    },
    {
     "ename": "KeyboardInterrupt",
     "evalue": "",
     "output_type": "error",
     "traceback": [
      "\u001b[0;31m---------------------------------------------------------------------------\u001b[0m",
      "\u001b[0;31mKeyboardInterrupt\u001b[0m                         Traceback (most recent call last)",
      "\u001b[0;32m<ipython-input-101-9e9ce2e8b1c6>\u001b[0m in \u001b[0;36m<module>\u001b[0;34m()\u001b[0m\n\u001b[1;32m     10\u001b[0m     \u001b[0;31m#output_o = model(data_t)\u001b[0m\u001b[0;34m\u001b[0m\u001b[0;34m\u001b[0m\u001b[0m\n\u001b[1;32m     11\u001b[0m     \u001b[0mloss_t\u001b[0m \u001b[0;34m=\u001b[0m \u001b[0mF\u001b[0m\u001b[0;34m.\u001b[0m\u001b[0mmse_loss\u001b[0m\u001b[0;34m(\u001b[0m\u001b[0mdata_t\u001b[0m\u001b[0;34m,\u001b[0m \u001b[0mdata_1\u001b[0m\u001b[0;34m)\u001b[0m\u001b[0;34m\u001b[0m\u001b[0m\n\u001b[0;32m---> 12\u001b[0;31m     \u001b[0mloss_t\u001b[0m\u001b[0;34m.\u001b[0m\u001b[0mbackward\u001b[0m\u001b[0;34m(\u001b[0m\u001b[0;34m)\u001b[0m\u001b[0;34m\u001b[0m\u001b[0m\n\u001b[0m\u001b[1;32m     13\u001b[0m     \u001b[0mdata_t\u001b[0m\u001b[0;34m.\u001b[0m\u001b[0mdata\u001b[0m \u001b[0;34m=\u001b[0m \u001b[0mdata_t\u001b[0m\u001b[0;34m.\u001b[0m\u001b[0mdata\u001b[0m \u001b[0;34m-\u001b[0m \u001b[0;34m(\u001b[0m\u001b[0mlr\u001b[0m\u001b[0;34m*\u001b[0m\u001b[0mdata_t\u001b[0m\u001b[0;34m.\u001b[0m\u001b[0mgrad\u001b[0m\u001b[0;34m.\u001b[0m\u001b[0mdata\u001b[0m\u001b[0;34m)\u001b[0m\u001b[0;34m\u001b[0m\u001b[0m\n\u001b[1;32m     14\u001b[0m     \u001b[0;31m#grads.append(data_t.grad.data)\u001b[0m\u001b[0;34m\u001b[0m\u001b[0;34m\u001b[0m\u001b[0m\n",
      "\u001b[0;32m/opt/conda/lib/python3.6/site-packages/torch/tensor.py\u001b[0m in \u001b[0;36mbackward\u001b[0;34m(self, gradient, retain_graph, create_graph)\u001b[0m\n\u001b[1;32m    100\u001b[0m                 \u001b[0mproducts\u001b[0m\u001b[0;34m.\u001b[0m \u001b[0mDefaults\u001b[0m \u001b[0mto\u001b[0m\u001b[0;31m \u001b[0m\u001b[0;31m`\u001b[0m\u001b[0;31m`\u001b[0m\u001b[0;32mFalse\u001b[0m\u001b[0;31m`\u001b[0m\u001b[0;31m`\u001b[0m\u001b[0;34m.\u001b[0m\u001b[0;34m\u001b[0m\u001b[0m\n\u001b[1;32m    101\u001b[0m         \"\"\"\n\u001b[0;32m--> 102\u001b[0;31m         \u001b[0mtorch\u001b[0m\u001b[0;34m.\u001b[0m\u001b[0mautograd\u001b[0m\u001b[0;34m.\u001b[0m\u001b[0mbackward\u001b[0m\u001b[0;34m(\u001b[0m\u001b[0mself\u001b[0m\u001b[0;34m,\u001b[0m \u001b[0mgradient\u001b[0m\u001b[0;34m,\u001b[0m \u001b[0mretain_graph\u001b[0m\u001b[0;34m,\u001b[0m \u001b[0mcreate_graph\u001b[0m\u001b[0;34m)\u001b[0m\u001b[0;34m\u001b[0m\u001b[0m\n\u001b[0m\u001b[1;32m    103\u001b[0m \u001b[0;34m\u001b[0m\u001b[0m\n\u001b[1;32m    104\u001b[0m     \u001b[0;32mdef\u001b[0m \u001b[0mregister_hook\u001b[0m\u001b[0;34m(\u001b[0m\u001b[0mself\u001b[0m\u001b[0;34m,\u001b[0m \u001b[0mhook\u001b[0m\u001b[0;34m)\u001b[0m\u001b[0;34m:\u001b[0m\u001b[0;34m\u001b[0m\u001b[0m\n",
      "\u001b[0;32m/opt/conda/lib/python3.6/site-packages/torch/autograd/__init__.py\u001b[0m in \u001b[0;36mbackward\u001b[0;34m(tensors, grad_tensors, retain_graph, create_graph, grad_variables)\u001b[0m\n\u001b[1;32m     88\u001b[0m     Variable._execution_engine.run_backward(\n\u001b[1;32m     89\u001b[0m         \u001b[0mtensors\u001b[0m\u001b[0;34m,\u001b[0m \u001b[0mgrad_tensors\u001b[0m\u001b[0;34m,\u001b[0m \u001b[0mretain_graph\u001b[0m\u001b[0;34m,\u001b[0m \u001b[0mcreate_graph\u001b[0m\u001b[0;34m,\u001b[0m\u001b[0;34m\u001b[0m\u001b[0m\n\u001b[0;32m---> 90\u001b[0;31m         allow_unreachable=True)  # allow_unreachable flag\n\u001b[0m\u001b[1;32m     91\u001b[0m \u001b[0;34m\u001b[0m\u001b[0m\n\u001b[1;32m     92\u001b[0m \u001b[0;34m\u001b[0m\u001b[0m\n",
      "\u001b[0;31mKeyboardInterrupt\u001b[0m: "
     ]
    }
   ],
   "source": [
    "# For fun MSE_loss \n",
    "lr = 0.3\n",
    "output_ar = []\n",
    "loss_arr = []\n",
    "grads = []\n",
    "data_2,label = next(iter(train_loader_1))\n",
    "data_t = torch.tensor( data_2 , requires_grad=True)\n",
    "for i in range(0,200000):\n",
    "    #data_t.grad.data.zero_\n",
    "    #output_o = model(data_t)\n",
    "    loss_t = F.mse_loss(data_t, data_1)\n",
    "    loss_t.backward()\n",
    "    data_t.data = data_t.data - (lr*data_t.grad.data)\n",
    "    #grads.append(data_t.grad.data)\n",
    "    loss_arr.append(loss_t.data)\n",
    "    #output_ar.append(output_o)\n",
    "    data_t.grad.data.zero_()\n",
    "    #print(data_t.grad.data)\n",
    "    if i % 500 == 0:\n",
    "        plot_mnist(data_t.data.numpy(), (5, 10))\n",
    "        print(loss_t.data)\n",
    "plot_mnist(data_t.data.numpy(), (5, 10))"
   ]
  },
  {
   "cell_type": "code",
   "execution_count": null,
   "metadata": {},
   "outputs": [],
   "source": []
  }
 ],
 "metadata": {
  "kernelspec": {
   "display_name": "Python 3",
   "language": "python",
   "name": "python3"
  },
  "language_info": {
   "codemirror_mode": {
    "name": "ipython",
    "version": 3
   },
   "file_extension": ".py",
   "mimetype": "text/x-python",
   "name": "python",
   "nbconvert_exporter": "python",
   "pygments_lexer": "ipython3",
   "version": "3.6.3"
  }
 },
 "nbformat": 4,
 "nbformat_minor": 2
}
