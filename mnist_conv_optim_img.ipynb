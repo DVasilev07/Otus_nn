{
 "cells": [
  {
   "cell_type": "code",
   "execution_count": 336,
   "metadata": {},
   "outputs": [],
   "source": [
    "import torch\n",
    "import torch.nn as nn\n",
    "import torch.nn.functional as F\n",
    "import torch.optim as optim\n",
    "import torchvision\n",
    "from torchvision import datasets, transforms\n",
    "\n",
    "from utils import mnist, plot_graphs, plot_mnist, mnist_transform\n",
    "import numpy as np\n",
    "\n",
    "%matplotlib inline"
   ]
  },
  {
   "cell_type": "code",
   "execution_count": 337,
   "metadata": {},
   "outputs": [],
   "source": [
    "import matplotlib\n",
    "import matplotlib.pyplot as plt\n",
    "import numpy as np\n",
    "%matplotlib inline"
   ]
  },
  {
   "cell_type": "code",
   "execution_count": 338,
   "metadata": {},
   "outputs": [],
   "source": [
    "train_loader, valid_loader, test_loader = mnist(valid=10000, transform=transforms.ToTensor())"
   ]
  },
  {
   "cell_type": "code",
   "execution_count": 339,
   "metadata": {},
   "outputs": [],
   "source": [
    "#data, label = next(iter(train_loader))\n",
    "#print(data.max())"
   ]
  },
  {
   "cell_type": "code",
   "execution_count": 340,
   "metadata": {},
   "outputs": [],
   "source": [
    "class ConvLayer(nn.Module):\n",
    "    def __init__(self, size, padding=1, pool_layer=nn.MaxPool2d(2, stride=2),\n",
    "                 bn=False, dropout=False, activation_fn=nn.ReLU()):\n",
    "        super(ConvLayer, self).__init__()\n",
    "        layers = []\n",
    "        layers.append(nn.Conv2d(size[0], size[1], size[2], padding=padding))\n",
    "        if pool_layer is not None:\n",
    "            layers.append(pool_layer)\n",
    "        if bn:\n",
    "            layers.append(nn.BatchNorm2d(size[1]))\n",
    "        if dropout:\n",
    "            layers.append(nn.Dropout2d())\n",
    "        layers.append(activation_fn)\n",
    "        \n",
    "        self.model = nn.Sequential(*layers)\n",
    "    \n",
    "    def forward(self, x):\n",
    "        return self.model(x)"
   ]
  },
  {
   "cell_type": "code",
   "execution_count": 341,
   "metadata": {},
   "outputs": [],
   "source": [
    "class FullyConnected(nn.Module):\n",
    "    def __init__(self, sizes, dropout=False, activation_fn=nn.Tanh):\n",
    "        super(FullyConnected, self).__init__()\n",
    "        layers = []\n",
    "        \n",
    "        for i in range(len(sizes) - 2):\n",
    "            layers.append(nn.Linear(sizes[i], sizes[i+1]))\n",
    "            if dropout:\n",
    "                layers.append(nn.Dropout())\n",
    "            layers.append(activation_fn())\n",
    "        else: # нам не нужен дропаут и фнкция активации в последнем слое\n",
    "            layers.append(nn.Linear(sizes[-2], sizes[-1]))\n",
    "        \n",
    "        self.model = nn.Sequential(*layers)\n",
    "        \n",
    "    def forward(self, x):\n",
    "        return self.model(x)"
   ]
  },
  {
   "cell_type": "code",
   "execution_count": 342,
   "metadata": {},
   "outputs": [],
   "source": [
    "class Net(nn.Module):\n",
    "    def __init__(self, batchnorm=False, dropout=False, lr=1e-4, l2=0.):\n",
    "        super(Net, self).__init__()\n",
    "        \n",
    "        \n",
    "        self._conv1 = ConvLayer([1, 16, 3], bn=batchnorm)\n",
    "        self._conv2 = ConvLayer([16, 32, 3], bn=batchnorm, activation_fn=nn.Sigmoid())\n",
    "        \n",
    "        self.fc = FullyConnected([32*7*7, 10], dropout=dropout, activation_fn =nn.Sigmoid() )\n",
    "        \n",
    "        self._loss = None\n",
    "        self.optim = optim.Adam(self.parameters(), lr=lr, weight_decay=l2)\n",
    "    \n",
    "    def conv(self, x):\n",
    "        x = self._conv1(x)\n",
    "        x = self._conv2(x)\n",
    "        return x\n",
    "    \n",
    "\n",
    "        \n",
    "    def forward(self, x):\n",
    "        x = self.conv(x)\n",
    "        x = x.view(-1, 32*7*7)\n",
    "        x = self.fc(x)\n",
    "        return x\n",
    "    \n",
    "    def loss(self, output, target, **kwargs):\n",
    "        self._loss = F.cross_entropy(output, target, **kwargs)\n",
    "        self._correct = output.data.max(1, keepdim=True)[1]\n",
    "        self._correct = self._correct.eq(target.data.view_as(self._correct)).to(torch.float).cpu().mean()\n",
    "        return self._loss"
   ]
  },
  {
   "cell_type": "code",
   "execution_count": 343,
   "metadata": {},
   "outputs": [],
   "source": [
    "#models = {'bn': Net(True), 'drop': Net(False, True), 'plain': Net()}\n",
    "models = {'bn': Net(True)}\n",
    "train_log = {k: [] for k in models}\n",
    "test_log = {k: [] for k in models}"
   ]
  },
  {
   "cell_type": "code",
   "execution_count": 344,
   "metadata": {},
   "outputs": [],
   "source": [
    "def train(epoch, models, log=None):\n",
    "    train_size = len(train_loader.sampler)\n",
    "    for batch_idx, (data, target) in enumerate(train_loader):\n",
    "        for model in models.values():\n",
    "            model.optim.zero_grad()\n",
    "            output = model(data)\n",
    "            loss = model.loss(output, target)\n",
    "            loss.backward()\n",
    "            model.optim.step()\n",
    "            \n",
    "        if batch_idx % 200 == 0:\n",
    "            line = 'Train Epoch: {} [{}/{} ({:.0f}%)]\\tLosses '.format(\n",
    "                epoch, batch_idx * len(data), train_size, 100. * batch_idx / len(train_loader))\n",
    "            losses = ' '.join(['{}: {:.6f}'.format(k, m._loss.item()) for k, m in models.items()])\n",
    "            print(line + losses)\n",
    "            \n",
    "    else:\n",
    "        batch_idx += 1\n",
    "        line = 'Train Epoch: {} [{}/{} ({:.0f}%)]\\tLosses '.format(\n",
    "            epoch, batch_idx * len(data), train_size, 100. * batch_idx / len(train_loader))\n",
    "        losses = ' '.join(['{}: {:.6f}'.format(k, m._loss.item()) for k, m in models.items()])\n",
    "        if log is not None:\n",
    "            for k in models:\n",
    "                log[k].append((models[k]._loss, models[k]._correct))\n",
    "        print(line + losses)"
   ]
  },
  {
   "cell_type": "code",
   "execution_count": 345,
   "metadata": {},
   "outputs": [],
   "source": [
    "def test(models, loader, log=None):\n",
    "    test_size = len(loader.sampler)\n",
    "    avg_lambda = lambda l: 'Loss: {:.4f}'.format(l)\n",
    "    acc_lambda = lambda c, p: 'Accuracy: {}/{} ({:.0f}%)'.format(c, test_size, p)\n",
    "    line = lambda i, l, c, p: '{}: '.format(i) + avg_lambda(l) + '\\t' + acc_lambda(c, p)\n",
    "\n",
    "    test_loss = {k: 0. for k in models}\n",
    "    correct = {k: 0. for k in models}\n",
    "    with torch.no_grad():\n",
    "        for data, target in loader:\n",
    "            output = {k: m(data) for k, m in models.items()}\n",
    "            for k, m in models.items():\n",
    "                test_loss[k] += m.loss(output[k], target, reduction='sum').item() # sum up batch loss\n",
    "                pred = output[k].data.max(1, keepdim=True)[1] # get the index of the max log-probability\n",
    "                correct[k] += pred.eq(target.data.view_as(pred)).cpu().sum().item()\n",
    "    \n",
    "    for k in models:\n",
    "        test_loss[k] /= test_size\n",
    "    correct_pct = {k: c / test_size for k, c in correct.items()}\n",
    "    lines = '\\n'.join([line(k, test_loss[k], correct[k], 100*correct_pct[k]) for k in models]) + '\\n'\n",
    "    report = 'Test set:\\n' + lines\n",
    "    if log is not None:\n",
    "        for k in models:\n",
    "            log[k].append((test_loss[k], correct_pct[k]))\n",
    "    print(report)"
   ]
  },
  {
   "cell_type": "code",
   "execution_count": 346,
   "metadata": {},
   "outputs": [
    {
     "name": "stdout",
     "output_type": "stream",
     "text": [
      "Train Epoch: 1 [0/50000 (0%)]\tLosses bn: 2.266659\n",
      "Train Epoch: 1 [10000/50000 (20%)]\tLosses bn: 1.966700\n",
      "Train Epoch: 1 [20000/50000 (40%)]\tLosses bn: 1.731369\n",
      "Train Epoch: 1 [30000/50000 (60%)]\tLosses bn: 1.306217\n",
      "Train Epoch: 1 [40000/50000 (80%)]\tLosses bn: 1.117259\n",
      "Train Epoch: 1 [50000/50000 (100%)]\tLosses bn: 0.832286\n",
      "Test set:\n",
      "bn: Loss: 0.8655\tAccuracy: 8935.0/10000 (89%)\n",
      "\n",
      "Train Epoch: 2 [0/50000 (0%)]\tLosses bn: 0.883712\n",
      "Train Epoch: 2 [10000/50000 (20%)]\tLosses bn: 0.709036\n",
      "Train Epoch: 2 [20000/50000 (40%)]\tLosses bn: 0.542229\n",
      "Train Epoch: 2 [30000/50000 (60%)]\tLosses bn: 0.548283\n",
      "Train Epoch: 2 [40000/50000 (80%)]\tLosses bn: 0.466457\n",
      "Train Epoch: 2 [50000/50000 (100%)]\tLosses bn: 0.426359\n",
      "Test set:\n",
      "bn: Loss: 0.4066\tAccuracy: 9317.0/10000 (93%)\n",
      "\n",
      "Train Epoch: 3 [0/50000 (0%)]\tLosses bn: 0.411006\n",
      "Train Epoch: 3 [10000/50000 (20%)]\tLosses bn: 0.382566\n",
      "Train Epoch: 3 [20000/50000 (40%)]\tLosses bn: 0.350567\n",
      "Train Epoch: 3 [30000/50000 (60%)]\tLosses bn: 0.302361\n",
      "Train Epoch: 3 [40000/50000 (80%)]\tLosses bn: 0.212593\n",
      "Train Epoch: 3 [50000/50000 (100%)]\tLosses bn: 0.275150\n",
      "Test set:\n",
      "bn: Loss: 0.2651\tAccuracy: 9481.0/10000 (95%)\n",
      "\n",
      "Train Epoch: 4 [0/50000 (0%)]\tLosses bn: 0.203355\n",
      "Train Epoch: 4 [10000/50000 (20%)]\tLosses bn: 0.276538\n",
      "Train Epoch: 4 [20000/50000 (40%)]\tLosses bn: 0.189146\n",
      "Train Epoch: 4 [30000/50000 (60%)]\tLosses bn: 0.176053\n",
      "Train Epoch: 4 [40000/50000 (80%)]\tLosses bn: 0.186537\n",
      "Train Epoch: 4 [50000/50000 (100%)]\tLosses bn: 0.168922\n",
      "Test set:\n",
      "bn: Loss: 0.1957\tAccuracy: 9581.0/10000 (96%)\n",
      "\n",
      "Train Epoch: 5 [0/50000 (0%)]\tLosses bn: 0.296096\n",
      "Train Epoch: 5 [10000/50000 (20%)]\tLosses bn: 0.264825\n",
      "Train Epoch: 5 [20000/50000 (40%)]\tLosses bn: 0.290548\n",
      "Train Epoch: 5 [30000/50000 (60%)]\tLosses bn: 0.148267\n",
      "Train Epoch: 5 [40000/50000 (80%)]\tLosses bn: 0.095341\n",
      "Train Epoch: 5 [50000/50000 (100%)]\tLosses bn: 0.149453\n",
      "Test set:\n",
      "bn: Loss: 0.1573\tAccuracy: 9635.0/10000 (96%)\n",
      "\n",
      "Train Epoch: 6 [0/50000 (0%)]\tLosses bn: 0.106144\n",
      "Train Epoch: 6 [10000/50000 (20%)]\tLosses bn: 0.179785\n",
      "Train Epoch: 6 [20000/50000 (40%)]\tLosses bn: 0.108793\n",
      "Train Epoch: 6 [30000/50000 (60%)]\tLosses bn: 0.158229\n",
      "Train Epoch: 6 [40000/50000 (80%)]\tLosses bn: 0.160414\n",
      "Train Epoch: 6 [50000/50000 (100%)]\tLosses bn: 0.214962\n",
      "Test set:\n",
      "bn: Loss: 0.1318\tAccuracy: 9672.0/10000 (97%)\n",
      "\n",
      "Train Epoch: 7 [0/50000 (0%)]\tLosses bn: 0.108401\n",
      "Train Epoch: 7 [10000/50000 (20%)]\tLosses bn: 0.177783\n",
      "Train Epoch: 7 [20000/50000 (40%)]\tLosses bn: 0.244100\n",
      "Train Epoch: 7 [30000/50000 (60%)]\tLosses bn: 0.060414\n",
      "Train Epoch: 7 [40000/50000 (80%)]\tLosses bn: 0.099206\n",
      "Train Epoch: 7 [50000/50000 (100%)]\tLosses bn: 0.197269\n",
      "Test set:\n",
      "bn: Loss: 0.1148\tAccuracy: 9722.0/10000 (97%)\n",
      "\n",
      "Train Epoch: 8 [0/50000 (0%)]\tLosses bn: 0.192247\n",
      "Train Epoch: 8 [10000/50000 (20%)]\tLosses bn: 0.102386\n",
      "Train Epoch: 8 [20000/50000 (40%)]\tLosses bn: 0.055453\n",
      "Train Epoch: 8 [30000/50000 (60%)]\tLosses bn: 0.056580\n",
      "Train Epoch: 8 [40000/50000 (80%)]\tLosses bn: 0.079059\n",
      "Train Epoch: 8 [50000/50000 (100%)]\tLosses bn: 0.059651\n",
      "Test set:\n",
      "bn: Loss: 0.1014\tAccuracy: 9733.0/10000 (97%)\n",
      "\n",
      "Train Epoch: 9 [0/50000 (0%)]\tLosses bn: 0.115759\n",
      "Train Epoch: 9 [10000/50000 (20%)]\tLosses bn: 0.094471\n",
      "Train Epoch: 9 [20000/50000 (40%)]\tLosses bn: 0.205993\n",
      "Train Epoch: 9 [30000/50000 (60%)]\tLosses bn: 0.148600\n",
      "Train Epoch: 9 [40000/50000 (80%)]\tLosses bn: 0.065576\n",
      "Train Epoch: 9 [50000/50000 (100%)]\tLosses bn: 0.103823\n",
      "Test set:\n",
      "bn: Loss: 0.0933\tAccuracy: 9750.0/10000 (98%)\n",
      "\n",
      "Train Epoch: 10 [0/50000 (0%)]\tLosses bn: 0.202319\n",
      "Train Epoch: 10 [10000/50000 (20%)]\tLosses bn: 0.085832\n",
      "Train Epoch: 10 [20000/50000 (40%)]\tLosses bn: 0.052449\n",
      "Train Epoch: 10 [30000/50000 (60%)]\tLosses bn: 0.063162\n",
      "Train Epoch: 10 [40000/50000 (80%)]\tLosses bn: 0.132330\n",
      "Train Epoch: 10 [50000/50000 (100%)]\tLosses bn: 0.046090\n",
      "Test set:\n",
      "bn: Loss: 0.0853\tAccuracy: 9778.0/10000 (98%)\n",
      "\n",
      "Train Epoch: 11 [0/50000 (0%)]\tLosses bn: 0.065951\n",
      "Train Epoch: 11 [10000/50000 (20%)]\tLosses bn: 0.029739\n",
      "Train Epoch: 11 [20000/50000 (40%)]\tLosses bn: 0.090910\n",
      "Train Epoch: 11 [30000/50000 (60%)]\tLosses bn: 0.095837\n",
      "Train Epoch: 11 [40000/50000 (80%)]\tLosses bn: 0.035562\n",
      "Train Epoch: 11 [50000/50000 (100%)]\tLosses bn: 0.060005\n",
      "Test set:\n",
      "bn: Loss: 0.0788\tAccuracy: 9774.0/10000 (98%)\n",
      "\n",
      "Train Epoch: 12 [0/50000 (0%)]\tLosses bn: 0.060573\n",
      "Train Epoch: 12 [10000/50000 (20%)]\tLosses bn: 0.111251\n",
      "Train Epoch: 12 [20000/50000 (40%)]\tLosses bn: 0.113794\n",
      "Train Epoch: 12 [30000/50000 (60%)]\tLosses bn: 0.068396\n",
      "Train Epoch: 12 [40000/50000 (80%)]\tLosses bn: 0.026423\n",
      "Train Epoch: 12 [50000/50000 (100%)]\tLosses bn: 0.031700\n",
      "Test set:\n",
      "bn: Loss: 0.0747\tAccuracy: 9783.0/10000 (98%)\n",
      "\n",
      "Train Epoch: 13 [0/50000 (0%)]\tLosses bn: 0.039132\n",
      "Train Epoch: 13 [10000/50000 (20%)]\tLosses bn: 0.117083\n",
      "Train Epoch: 13 [20000/50000 (40%)]\tLosses bn: 0.034938\n",
      "Train Epoch: 13 [30000/50000 (60%)]\tLosses bn: 0.058844\n",
      "Train Epoch: 13 [40000/50000 (80%)]\tLosses bn: 0.069290\n",
      "Train Epoch: 13 [50000/50000 (100%)]\tLosses bn: 0.084751\n",
      "Test set:\n",
      "bn: Loss: 0.0714\tAccuracy: 9799.0/10000 (98%)\n",
      "\n",
      "Train Epoch: 14 [0/50000 (0%)]\tLosses bn: 0.024560\n",
      "Train Epoch: 14 [10000/50000 (20%)]\tLosses bn: 0.110952\n",
      "Train Epoch: 14 [20000/50000 (40%)]\tLosses bn: 0.177595\n",
      "Train Epoch: 14 [30000/50000 (60%)]\tLosses bn: 0.021511\n",
      "Train Epoch: 14 [40000/50000 (80%)]\tLosses bn: 0.039423\n",
      "Train Epoch: 14 [50000/50000 (100%)]\tLosses bn: 0.130164\n",
      "Test set:\n",
      "bn: Loss: 0.0668\tAccuracy: 9815.0/10000 (98%)\n",
      "\n",
      "Train Epoch: 15 [0/50000 (0%)]\tLosses bn: 0.059481\n",
      "Train Epoch: 15 [10000/50000 (20%)]\tLosses bn: 0.020920\n",
      "Train Epoch: 15 [20000/50000 (40%)]\tLosses bn: 0.099155\n",
      "Train Epoch: 15 [30000/50000 (60%)]\tLosses bn: 0.045063\n",
      "Train Epoch: 15 [40000/50000 (80%)]\tLosses bn: 0.135637\n",
      "Train Epoch: 15 [50000/50000 (100%)]\tLosses bn: 0.087690\n",
      "Test set:\n",
      "bn: Loss: 0.0643\tAccuracy: 9815.0/10000 (98%)\n",
      "\n",
      "Train Epoch: 16 [0/50000 (0%)]\tLosses bn: 0.096259\n",
      "Train Epoch: 16 [10000/50000 (20%)]\tLosses bn: 0.040271\n",
      "Train Epoch: 16 [20000/50000 (40%)]\tLosses bn: 0.049273\n",
      "Train Epoch: 16 [30000/50000 (60%)]\tLosses bn: 0.051180\n",
      "Train Epoch: 16 [40000/50000 (80%)]\tLosses bn: 0.027107\n",
      "Train Epoch: 16 [50000/50000 (100%)]\tLosses bn: 0.010967\n",
      "Test set:\n",
      "bn: Loss: 0.0633\tAccuracy: 9822.0/10000 (98%)\n",
      "\n",
      "Train Epoch: 17 [0/50000 (0%)]\tLosses bn: 0.094504\n",
      "Train Epoch: 17 [10000/50000 (20%)]\tLosses bn: 0.031421\n",
      "Train Epoch: 17 [20000/50000 (40%)]\tLosses bn: 0.026844\n",
      "Train Epoch: 17 [30000/50000 (60%)]\tLosses bn: 0.060255\n",
      "Train Epoch: 17 [40000/50000 (80%)]\tLosses bn: 0.050253\n",
      "Train Epoch: 17 [50000/50000 (100%)]\tLosses bn: 0.058120\n",
      "Test set:\n",
      "bn: Loss: 0.0599\tAccuracy: 9828.0/10000 (98%)\n",
      "\n",
      "Train Epoch: 18 [0/50000 (0%)]\tLosses bn: 0.009233\n",
      "Train Epoch: 18 [10000/50000 (20%)]\tLosses bn: 0.025235\n",
      "Train Epoch: 18 [20000/50000 (40%)]\tLosses bn: 0.062731\n",
      "Train Epoch: 18 [30000/50000 (60%)]\tLosses bn: 0.050774\n",
      "Train Epoch: 18 [40000/50000 (80%)]\tLosses bn: 0.103175\n",
      "Train Epoch: 18 [50000/50000 (100%)]\tLosses bn: 0.027527\n",
      "Test set:\n",
      "bn: Loss: 0.0592\tAccuracy: 9829.0/10000 (98%)\n",
      "\n",
      "Train Epoch: 19 [0/50000 (0%)]\tLosses bn: 0.129759\n",
      "Train Epoch: 19 [10000/50000 (20%)]\tLosses bn: 0.042863\n",
      "Train Epoch: 19 [20000/50000 (40%)]\tLosses bn: 0.061603\n",
      "Train Epoch: 19 [30000/50000 (60%)]\tLosses bn: 0.073881\n",
      "Train Epoch: 19 [40000/50000 (80%)]\tLosses bn: 0.097985\n",
      "Train Epoch: 19 [50000/50000 (100%)]\tLosses bn: 0.056763\n",
      "Test set:\n",
      "bn: Loss: 0.0587\tAccuracy: 9835.0/10000 (98%)\n",
      "\n",
      "Train Epoch: 20 [0/50000 (0%)]\tLosses bn: 0.076465\n",
      "Train Epoch: 20 [10000/50000 (20%)]\tLosses bn: 0.046718\n",
      "Train Epoch: 20 [20000/50000 (40%)]\tLosses bn: 0.064786\n",
      "Train Epoch: 20 [30000/50000 (60%)]\tLosses bn: 0.142982\n",
      "Train Epoch: 20 [40000/50000 (80%)]\tLosses bn: 0.046450\n",
      "Train Epoch: 20 [50000/50000 (100%)]\tLosses bn: 0.020111\n",
      "Test set:\n",
      "bn: Loss: 0.0567\tAccuracy: 9841.0/10000 (98%)\n",
      "\n",
      "Train Epoch: 21 [0/50000 (0%)]\tLosses bn: 0.081702\n",
      "Train Epoch: 21 [10000/50000 (20%)]\tLosses bn: 0.016431\n",
      "Train Epoch: 21 [20000/50000 (40%)]\tLosses bn: 0.021630\n",
      "Train Epoch: 21 [30000/50000 (60%)]\tLosses bn: 0.015323\n",
      "Train Epoch: 21 [40000/50000 (80%)]\tLosses bn: 0.123123\n",
      "Train Epoch: 21 [50000/50000 (100%)]\tLosses bn: 0.022495\n",
      "Test set:\n",
      "bn: Loss: 0.0540\tAccuracy: 9850.0/10000 (98%)\n",
      "\n",
      "Train Epoch: 22 [0/50000 (0%)]\tLosses bn: 0.003393\n",
      "Train Epoch: 22 [10000/50000 (20%)]\tLosses bn: 0.029783\n"
     ]
    },
    {
     "name": "stdout",
     "output_type": "stream",
     "text": [
      "Train Epoch: 22 [20000/50000 (40%)]\tLosses bn: 0.008923\n",
      "Train Epoch: 22 [30000/50000 (60%)]\tLosses bn: 0.013784\n",
      "Train Epoch: 22 [40000/50000 (80%)]\tLosses bn: 0.034648\n",
      "Train Epoch: 22 [50000/50000 (100%)]\tLosses bn: 0.016423\n",
      "Test set:\n",
      "bn: Loss: 0.0533\tAccuracy: 9848.0/10000 (98%)\n",
      "\n",
      "Train Epoch: 23 [0/50000 (0%)]\tLosses bn: 0.024749\n",
      "Train Epoch: 23 [10000/50000 (20%)]\tLosses bn: 0.006034\n",
      "Train Epoch: 23 [20000/50000 (40%)]\tLosses bn: 0.032581\n",
      "Train Epoch: 23 [30000/50000 (60%)]\tLosses bn: 0.078285\n",
      "Train Epoch: 23 [40000/50000 (80%)]\tLosses bn: 0.098694\n",
      "Train Epoch: 23 [50000/50000 (100%)]\tLosses bn: 0.051031\n",
      "Test set:\n",
      "bn: Loss: 0.0521\tAccuracy: 9853.0/10000 (99%)\n",
      "\n",
      "Train Epoch: 24 [0/50000 (0%)]\tLosses bn: 0.013923\n",
      "Train Epoch: 24 [10000/50000 (20%)]\tLosses bn: 0.017287\n",
      "Train Epoch: 24 [20000/50000 (40%)]\tLosses bn: 0.033656\n",
      "Train Epoch: 24 [30000/50000 (60%)]\tLosses bn: 0.004887\n",
      "Train Epoch: 24 [40000/50000 (80%)]\tLosses bn: 0.007314\n",
      "Train Epoch: 24 [50000/50000 (100%)]\tLosses bn: 0.027299\n",
      "Test set:\n",
      "bn: Loss: 0.0507\tAccuracy: 9849.0/10000 (98%)\n",
      "\n",
      "Train Epoch: 25 [0/50000 (0%)]\tLosses bn: 0.032323\n",
      "Train Epoch: 25 [10000/50000 (20%)]\tLosses bn: 0.031989\n",
      "Train Epoch: 25 [20000/50000 (40%)]\tLosses bn: 0.016406\n",
      "Train Epoch: 25 [30000/50000 (60%)]\tLosses bn: 0.019021\n",
      "Train Epoch: 25 [40000/50000 (80%)]\tLosses bn: 0.035871\n",
      "Train Epoch: 25 [50000/50000 (100%)]\tLosses bn: 0.024023\n",
      "Test set:\n",
      "bn: Loss: 0.0511\tAccuracy: 9852.0/10000 (99%)\n",
      "\n",
      "Train Epoch: 26 [0/50000 (0%)]\tLosses bn: 0.016806\n",
      "Train Epoch: 26 [10000/50000 (20%)]\tLosses bn: 0.009705\n",
      "Train Epoch: 26 [20000/50000 (40%)]\tLosses bn: 0.003754\n",
      "Train Epoch: 26 [30000/50000 (60%)]\tLosses bn: 0.007726\n",
      "Train Epoch: 26 [40000/50000 (80%)]\tLosses bn: 0.011345\n",
      "Train Epoch: 26 [50000/50000 (100%)]\tLosses bn: 0.004575\n",
      "Test set:\n",
      "bn: Loss: 0.0491\tAccuracy: 9857.0/10000 (99%)\n",
      "\n",
      "Train Epoch: 27 [0/50000 (0%)]\tLosses bn: 0.035749\n",
      "Train Epoch: 27 [10000/50000 (20%)]\tLosses bn: 0.017047\n",
      "Train Epoch: 27 [20000/50000 (40%)]\tLosses bn: 0.039467\n",
      "Train Epoch: 27 [30000/50000 (60%)]\tLosses bn: 0.007813\n",
      "Train Epoch: 27 [40000/50000 (80%)]\tLosses bn: 0.008159\n",
      "Train Epoch: 27 [50000/50000 (100%)]\tLosses bn: 0.052866\n",
      "Test set:\n",
      "bn: Loss: 0.0495\tAccuracy: 9857.0/10000 (99%)\n",
      "\n",
      "Train Epoch: 28 [0/50000 (0%)]\tLosses bn: 0.063155\n",
      "Train Epoch: 28 [10000/50000 (20%)]\tLosses bn: 0.018981\n",
      "Train Epoch: 28 [20000/50000 (40%)]\tLosses bn: 0.082199\n",
      "Train Epoch: 28 [30000/50000 (60%)]\tLosses bn: 0.004792\n",
      "Train Epoch: 28 [40000/50000 (80%)]\tLosses bn: 0.033304\n",
      "Train Epoch: 28 [50000/50000 (100%)]\tLosses bn: 0.037072\n",
      "Test set:\n",
      "bn: Loss: 0.0484\tAccuracy: 9852.0/10000 (99%)\n",
      "\n",
      "Train Epoch: 29 [0/50000 (0%)]\tLosses bn: 0.027000\n",
      "Train Epoch: 29 [10000/50000 (20%)]\tLosses bn: 0.026292\n",
      "Train Epoch: 29 [20000/50000 (40%)]\tLosses bn: 0.008178\n",
      "Train Epoch: 29 [30000/50000 (60%)]\tLosses bn: 0.011501\n",
      "Train Epoch: 29 [40000/50000 (80%)]\tLosses bn: 0.065221\n",
      "Train Epoch: 29 [50000/50000 (100%)]\tLosses bn: 0.028942\n",
      "Test set:\n",
      "bn: Loss: 0.0483\tAccuracy: 9859.0/10000 (99%)\n",
      "\n",
      "Train Epoch: 30 [0/50000 (0%)]\tLosses bn: 0.047183\n",
      "Train Epoch: 30 [10000/50000 (20%)]\tLosses bn: 0.002446\n",
      "Train Epoch: 30 [20000/50000 (40%)]\tLosses bn: 0.015300\n",
      "Train Epoch: 30 [30000/50000 (60%)]\tLosses bn: 0.010830\n",
      "Train Epoch: 30 [40000/50000 (80%)]\tLosses bn: 0.049531\n",
      "Train Epoch: 30 [50000/50000 (100%)]\tLosses bn: 0.079576\n",
      "Test set:\n",
      "bn: Loss: 0.0467\tAccuracy: 9861.0/10000 (99%)\n",
      "\n",
      "Train Epoch: 31 [0/50000 (0%)]\tLosses bn: 0.039588\n",
      "Train Epoch: 31 [10000/50000 (20%)]\tLosses bn: 0.073040\n",
      "Train Epoch: 31 [20000/50000 (40%)]\tLosses bn: 0.007930\n",
      "Train Epoch: 31 [30000/50000 (60%)]\tLosses bn: 0.014732\n",
      "Train Epoch: 31 [40000/50000 (80%)]\tLosses bn: 0.002320\n",
      "Train Epoch: 31 [50000/50000 (100%)]\tLosses bn: 0.009623\n",
      "Test set:\n",
      "bn: Loss: 0.0465\tAccuracy: 9863.0/10000 (99%)\n",
      "\n",
      "Train Epoch: 32 [0/50000 (0%)]\tLosses bn: 0.027540\n",
      "Train Epoch: 32 [10000/50000 (20%)]\tLosses bn: 0.013470\n",
      "Train Epoch: 32 [20000/50000 (40%)]\tLosses bn: 0.019730\n",
      "Train Epoch: 32 [30000/50000 (60%)]\tLosses bn: 0.009863\n",
      "Train Epoch: 32 [40000/50000 (80%)]\tLosses bn: 0.014597\n",
      "Train Epoch: 32 [50000/50000 (100%)]\tLosses bn: 0.035717\n",
      "Test set:\n",
      "bn: Loss: 0.0465\tAccuracy: 9858.0/10000 (99%)\n",
      "\n",
      "Train Epoch: 33 [0/50000 (0%)]\tLosses bn: 0.078373\n",
      "Train Epoch: 33 [10000/50000 (20%)]\tLosses bn: 0.050958\n",
      "Train Epoch: 33 [20000/50000 (40%)]\tLosses bn: 0.024695\n",
      "Train Epoch: 33 [30000/50000 (60%)]\tLosses bn: 0.007074\n",
      "Train Epoch: 33 [40000/50000 (80%)]\tLosses bn: 0.004838\n",
      "Train Epoch: 33 [50000/50000 (100%)]\tLosses bn: 0.015277\n",
      "Test set:\n",
      "bn: Loss: 0.0449\tAccuracy: 9863.0/10000 (99%)\n",
      "\n",
      "Train Epoch: 34 [0/50000 (0%)]\tLosses bn: 0.025643\n",
      "Train Epoch: 34 [10000/50000 (20%)]\tLosses bn: 0.079388\n",
      "Train Epoch: 34 [20000/50000 (40%)]\tLosses bn: 0.011216\n",
      "Train Epoch: 34 [30000/50000 (60%)]\tLosses bn: 0.017022\n",
      "Train Epoch: 34 [40000/50000 (80%)]\tLosses bn: 0.005280\n",
      "Train Epoch: 34 [50000/50000 (100%)]\tLosses bn: 0.019879\n",
      "Test set:\n",
      "bn: Loss: 0.0448\tAccuracy: 9866.0/10000 (99%)\n",
      "\n",
      "Train Epoch: 35 [0/50000 (0%)]\tLosses bn: 0.008887\n",
      "Train Epoch: 35 [10000/50000 (20%)]\tLosses bn: 0.005486\n",
      "Train Epoch: 35 [20000/50000 (40%)]\tLosses bn: 0.012068\n",
      "Train Epoch: 35 [30000/50000 (60%)]\tLosses bn: 0.013021\n",
      "Train Epoch: 35 [40000/50000 (80%)]\tLosses bn: 0.009827\n",
      "Train Epoch: 35 [50000/50000 (100%)]\tLosses bn: 0.013744\n",
      "Test set:\n",
      "bn: Loss: 0.0444\tAccuracy: 9863.0/10000 (99%)\n",
      "\n",
      "Train Epoch: 36 [0/50000 (0%)]\tLosses bn: 0.019282\n",
      "Train Epoch: 36 [10000/50000 (20%)]\tLosses bn: 0.006644\n",
      "Train Epoch: 36 [20000/50000 (40%)]\tLosses bn: 0.019842\n",
      "Train Epoch: 36 [30000/50000 (60%)]\tLosses bn: 0.025693\n",
      "Train Epoch: 36 [40000/50000 (80%)]\tLosses bn: 0.010170\n",
      "Train Epoch: 36 [50000/50000 (100%)]\tLosses bn: 0.022756\n",
      "Test set:\n",
      "bn: Loss: 0.0453\tAccuracy: 9859.0/10000 (99%)\n",
      "\n",
      "Train Epoch: 37 [0/50000 (0%)]\tLosses bn: 0.006572\n",
      "Train Epoch: 37 [10000/50000 (20%)]\tLosses bn: 0.006096\n",
      "Train Epoch: 37 [20000/50000 (40%)]\tLosses bn: 0.003976\n",
      "Train Epoch: 37 [30000/50000 (60%)]\tLosses bn: 0.010477\n",
      "Train Epoch: 37 [40000/50000 (80%)]\tLosses bn: 0.049953\n",
      "Train Epoch: 37 [50000/50000 (100%)]\tLosses bn: 0.034034\n",
      "Test set:\n",
      "bn: Loss: 0.0459\tAccuracy: 9857.0/10000 (99%)\n",
      "\n",
      "Train Epoch: 38 [0/50000 (0%)]\tLosses bn: 0.016185\n",
      "Train Epoch: 38 [10000/50000 (20%)]\tLosses bn: 0.017904\n",
      "Train Epoch: 38 [20000/50000 (40%)]\tLosses bn: 0.022329\n",
      "Train Epoch: 38 [30000/50000 (60%)]\tLosses bn: 0.011542\n",
      "Train Epoch: 38 [40000/50000 (80%)]\tLosses bn: 0.052903\n",
      "Train Epoch: 38 [50000/50000 (100%)]\tLosses bn: 0.152180\n",
      "Test set:\n",
      "bn: Loss: 0.0443\tAccuracy: 9868.0/10000 (99%)\n",
      "\n",
      "Train Epoch: 39 [0/50000 (0%)]\tLosses bn: 0.004311\n",
      "Train Epoch: 39 [10000/50000 (20%)]\tLosses bn: 0.004916\n",
      "Train Epoch: 39 [20000/50000 (40%)]\tLosses bn: 0.003425\n",
      "Train Epoch: 39 [30000/50000 (60%)]\tLosses bn: 0.017253\n",
      "Train Epoch: 39 [40000/50000 (80%)]\tLosses bn: 0.006856\n",
      "Train Epoch: 39 [50000/50000 (100%)]\tLosses bn: 0.027174\n",
      "Test set:\n",
      "bn: Loss: 0.0468\tAccuracy: 9858.0/10000 (99%)\n",
      "\n",
      "Train Epoch: 40 [0/50000 (0%)]\tLosses bn: 0.002666\n",
      "Train Epoch: 40 [10000/50000 (20%)]\tLosses bn: 0.002291\n",
      "Train Epoch: 40 [20000/50000 (40%)]\tLosses bn: 0.007947\n",
      "Train Epoch: 40 [30000/50000 (60%)]\tLosses bn: 0.007384\n",
      "Train Epoch: 40 [40000/50000 (80%)]\tLosses bn: 0.037245\n",
      "Train Epoch: 40 [50000/50000 (100%)]\tLosses bn: 0.024943\n",
      "Test set:\n",
      "bn: Loss: 0.0445\tAccuracy: 9857.0/10000 (99%)\n",
      "\n",
      "Train Epoch: 41 [0/50000 (0%)]\tLosses bn: 0.020833\n",
      "Train Epoch: 41 [10000/50000 (20%)]\tLosses bn: 0.003660\n",
      "Train Epoch: 41 [20000/50000 (40%)]\tLosses bn: 0.006333\n",
      "Train Epoch: 41 [30000/50000 (60%)]\tLosses bn: 0.011898\n",
      "Train Epoch: 41 [40000/50000 (80%)]\tLosses bn: 0.020898\n",
      "Train Epoch: 41 [50000/50000 (100%)]\tLosses bn: 0.005220\n",
      "Test set:\n",
      "bn: Loss: 0.0443\tAccuracy: 9868.0/10000 (99%)\n",
      "\n",
      "Train Epoch: 42 [0/50000 (0%)]\tLosses bn: 0.013688\n",
      "Train Epoch: 42 [10000/50000 (20%)]\tLosses bn: 0.024153\n",
      "Train Epoch: 42 [20000/50000 (40%)]\tLosses bn: 0.013835\n",
      "Train Epoch: 42 [30000/50000 (60%)]\tLosses bn: 0.022762\n",
      "Train Epoch: 42 [40000/50000 (80%)]\tLosses bn: 0.024643\n",
      "Train Epoch: 42 [50000/50000 (100%)]\tLosses bn: 0.054449\n",
      "Test set:\n",
      "bn: Loss: 0.0440\tAccuracy: 9872.0/10000 (99%)\n",
      "\n",
      "Train Epoch: 43 [0/50000 (0%)]\tLosses bn: 0.032599\n",
      "Train Epoch: 43 [10000/50000 (20%)]\tLosses bn: 0.015267\n",
      "Train Epoch: 43 [20000/50000 (40%)]\tLosses bn: 0.015670\n"
     ]
    },
    {
     "name": "stdout",
     "output_type": "stream",
     "text": [
      "Train Epoch: 43 [30000/50000 (60%)]\tLosses bn: 0.061743\n",
      "Train Epoch: 43 [40000/50000 (80%)]\tLosses bn: 0.005179\n",
      "Train Epoch: 43 [50000/50000 (100%)]\tLosses bn: 0.005166\n",
      "Test set:\n",
      "bn: Loss: 0.0441\tAccuracy: 9868.0/10000 (99%)\n",
      "\n",
      "Train Epoch: 44 [0/50000 (0%)]\tLosses bn: 0.004468\n",
      "Train Epoch: 44 [10000/50000 (20%)]\tLosses bn: 0.029300\n",
      "Train Epoch: 44 [20000/50000 (40%)]\tLosses bn: 0.014419\n",
      "Train Epoch: 44 [30000/50000 (60%)]\tLosses bn: 0.022516\n",
      "Train Epoch: 44 [40000/50000 (80%)]\tLosses bn: 0.004714\n",
      "Train Epoch: 44 [50000/50000 (100%)]\tLosses bn: 0.015247\n",
      "Test set:\n",
      "bn: Loss: 0.0443\tAccuracy: 9868.0/10000 (99%)\n",
      "\n",
      "Train Epoch: 45 [0/50000 (0%)]\tLosses bn: 0.007944\n",
      "Train Epoch: 45 [10000/50000 (20%)]\tLosses bn: 0.003718\n",
      "Train Epoch: 45 [20000/50000 (40%)]\tLosses bn: 0.009042\n",
      "Train Epoch: 45 [30000/50000 (60%)]\tLosses bn: 0.033741\n",
      "Train Epoch: 45 [40000/50000 (80%)]\tLosses bn: 0.017844\n",
      "Train Epoch: 45 [50000/50000 (100%)]\tLosses bn: 0.003300\n",
      "Test set:\n",
      "bn: Loss: 0.0450\tAccuracy: 9865.0/10000 (99%)\n",
      "\n",
      "Train Epoch: 46 [0/50000 (0%)]\tLosses bn: 0.007793\n",
      "Train Epoch: 46 [10000/50000 (20%)]\tLosses bn: 0.009233\n",
      "Train Epoch: 46 [20000/50000 (40%)]\tLosses bn: 0.008867\n",
      "Train Epoch: 46 [30000/50000 (60%)]\tLosses bn: 0.004274\n",
      "Train Epoch: 46 [40000/50000 (80%)]\tLosses bn: 0.013063\n",
      "Train Epoch: 46 [50000/50000 (100%)]\tLosses bn: 0.012372\n",
      "Test set:\n",
      "bn: Loss: 0.0428\tAccuracy: 9874.0/10000 (99%)\n",
      "\n",
      "Train Epoch: 47 [0/50000 (0%)]\tLosses bn: 0.108745\n",
      "Train Epoch: 47 [10000/50000 (20%)]\tLosses bn: 0.009634\n",
      "Train Epoch: 47 [20000/50000 (40%)]\tLosses bn: 0.006417\n",
      "Train Epoch: 47 [30000/50000 (60%)]\tLosses bn: 0.004423\n",
      "Train Epoch: 47 [40000/50000 (80%)]\tLosses bn: 0.024273\n",
      "Train Epoch: 47 [50000/50000 (100%)]\tLosses bn: 0.008267\n",
      "Test set:\n",
      "bn: Loss: 0.0442\tAccuracy: 9857.0/10000 (99%)\n",
      "\n",
      "Train Epoch: 48 [0/50000 (0%)]\tLosses bn: 0.003449\n",
      "Train Epoch: 48 [10000/50000 (20%)]\tLosses bn: 0.020626\n",
      "Train Epoch: 48 [20000/50000 (40%)]\tLosses bn: 0.031994\n",
      "Train Epoch: 48 [30000/50000 (60%)]\tLosses bn: 0.011858\n",
      "Train Epoch: 48 [40000/50000 (80%)]\tLosses bn: 0.002509\n",
      "Train Epoch: 48 [50000/50000 (100%)]\tLosses bn: 0.018033\n",
      "Test set:\n",
      "bn: Loss: 0.0434\tAccuracy: 9868.0/10000 (99%)\n",
      "\n",
      "Train Epoch: 49 [0/50000 (0%)]\tLosses bn: 0.004342\n",
      "Train Epoch: 49 [10000/50000 (20%)]\tLosses bn: 0.013914\n",
      "Train Epoch: 49 [20000/50000 (40%)]\tLosses bn: 0.006254\n",
      "Train Epoch: 49 [30000/50000 (60%)]\tLosses bn: 0.006954\n",
      "Train Epoch: 49 [40000/50000 (80%)]\tLosses bn: 0.116247\n",
      "Train Epoch: 49 [50000/50000 (100%)]\tLosses bn: 0.005890\n",
      "Test set:\n",
      "bn: Loss: 0.0447\tAccuracy: 9865.0/10000 (99%)\n",
      "\n",
      "Train Epoch: 50 [0/50000 (0%)]\tLosses bn: 0.010019\n",
      "Train Epoch: 50 [10000/50000 (20%)]\tLosses bn: 0.017171\n",
      "Train Epoch: 50 [20000/50000 (40%)]\tLosses bn: 0.024582\n",
      "Train Epoch: 50 [30000/50000 (60%)]\tLosses bn: 0.003274\n",
      "Train Epoch: 50 [40000/50000 (80%)]\tLosses bn: 0.014043\n",
      "Train Epoch: 50 [50000/50000 (100%)]\tLosses bn: 0.005985\n",
      "Test set:\n",
      "bn: Loss: 0.0440\tAccuracy: 9871.0/10000 (99%)\n",
      "\n"
     ]
    }
   ],
   "source": [
    "for epoch in range(1, 51):\n",
    "    for model in models.values():\n",
    "        model.train()\n",
    "    train(epoch, models, train_log)\n",
    "    for model in models.values():\n",
    "        model.eval()\n",
    "    test(models, valid_loader, test_log)"
   ]
  },
  {
   "cell_type": "code",
   "execution_count": 347,
   "metadata": {},
   "outputs": [
    {
     "data": {
      "image/png": "[encoded data removed]",
      "text/plain": [
       "<Figure size 432x288 with 1 Axes>"
      ]
     },
     "metadata": {},
     "output_type": "display_data"
    }
   ],
   "source": [
    "plot_graphs(test_log, 'loss')"
   ]
  },
  {
   "cell_type": "code",
   "execution_count": 348,
   "metadata": {},
   "outputs": [
    {
     "data": {
      "image/png": "[encoded data removed]",
      "text/plain": [
       "<Figure size 432x288 with 1 Axes>"
      ]
     },
     "metadata": {},
     "output_type": "display_data"
    }
   ],
   "source": [
    "plot_graphs(test_log, 'accuracy')"
   ]
  },
  {
   "cell_type": "code",
   "execution_count": 349,
   "metadata": {},
   "outputs": [
    {
     "data": {
      "image/png": "[encoded data removed]",
      "text/plain": [
       "<Figure size 800x400 with 50 Axes>"
      ]
     },
     "metadata": {},
     "output_type": "display_data"
    },
    {
     "name": "stdout",
     "output_type": "stream",
     "text": [
      "tensor([ -6.6645,   1.1863,   9.3638,  -2.5492, -10.8787, -12.3834,  -7.3205,\n",
      "         -7.6354,  -5.0046,  -9.8551], grad_fn=<SelectBackward>)\n"
     ]
    }
   ],
   "source": [
    "data, label = next(iter(train_loader))\n",
    "plot_mnist(data.data.numpy(), (5, 10))\n",
    "output = models['bn'](data)\n",
    "output.size()\n",
    "print(output[0])\n",
    "#to_plot = output.view(-1, 1, 28, 28).clamp(0, 1).data.numpy()\n",
    "#plot_mnist(to_plot, (5, 10))"
   ]
  },
  {
   "cell_type": "markdown",
   "metadata": {},
   "source": [
    "### Adversarial attack"
   ]
  },
  {
   "cell_type": "code",
   "execution_count": 350,
   "metadata": {},
   "outputs": [],
   "source": [
    "path='./MNIST_data'\n",
    "from torch.utils.data import DataLoader\n",
    "train_dataset = torchvision.datasets.MNIST(root = path, train=True, transform=transforms.ToTensor(), download=True) \n",
    "train_loader_1 = DataLoader(dataset=train_dataset, batch_size=1,shuffle=True) \n",
    "data_1_load, label_1 = next(iter(train_loader_1))"
   ]
  },
  {
   "cell_type": "code",
   "execution_count": 351,
   "metadata": {},
   "outputs": [
    {
     "name": "stdout",
     "output_type": "stream",
     "text": [
      "0.0\n",
      "1.0\n"
     ]
    }
   ],
   "source": [
    "# НеНормализованный мнист\n",
    "print(data_1_load.min().item())\n",
    "print(data_1_load.max().item())"
   ]
  },
  {
   "cell_type": "code",
   "execution_count": 354,
   "metadata": {},
   "outputs": [],
   "source": [
    "# Целевой пусть будет циферка :\n",
    "target = torch.tensor([5])\n",
    "step = 700"
   ]
  },
  {
   "cell_type": "code",
   "execution_count": 356,
   "metadata": {},
   "outputs": [
    {
     "name": "stdout",
     "output_type": "stream",
     "text": [
      "Картиночка сигмоиды:\n",
      "\n"
     ]
    },
    {
     "name": "stderr",
     "output_type": "stream",
     "text": [
      "/opt/conda/lib/python3.6/site-packages/ipykernel_launcher.py:7: UserWarning: To copy construct from a tensor, it is recommended to use sourceTensor.clone().detach() or sourceTensor.clone().detach().requires_grad_(True), rather than torch.tensor(sourceTensor).\n",
      "  import sys\n"
     ]
    },
    {
     "data": {
      "image/png": "[encoded data removed]",
      "text/plain": [
       "<Figure size 800x400 with 1 Axes>"
      ]
     },
     "metadata": {},
     "output_type": "display_data"
    },
    {
     "name": "stdout",
     "output_type": "stream",
     "text": [
      "10.65293025970459\n",
      "Картиночка сигмоиды:\n",
      "\n"
     ]
    },
    {
     "data": {
      "image/png": "[encoded data removed]",
      "text/plain": [
       "<Figure size 800x400 with 1 Axes>"
      ]
     },
     "metadata": {},
     "output_type": "display_data"
    },
    {
     "name": "stdout",
     "output_type": "stream",
     "text": [
      "8.452369689941406\n",
      "Картиночка сигмоиды:\n",
      "\n"
     ]
    },
    {
     "data": {
      "image/png": "[encoded data removed]",
      "text/plain": [
       "<Figure size 800x400 with 1 Axes>"
      ]
     },
     "metadata": {},
     "output_type": "display_data"
    },
    {
     "name": "stdout",
     "output_type": "stream",
     "text": [
      "6.759716510772705\n",
      "Картиночка сигмоиды:\n",
      "\n"
     ]
    },
    {
     "data": {
      "image/png": "[encoded data removed]",
      "text/plain": [
       "<Figure size 800x400 with 1 Axes>"
      ]
     },
     "metadata": {},
     "output_type": "display_data"
    },
    {
     "name": "stdout",
     "output_type": "stream",
     "text": [
      "5.428515911102295\n",
      "Картиночка сигмоиды:\n",
      "\n"
     ]
    },
    {
     "data": {
      "image/png": "[encoded data removed]",
      "text/plain": [
       "<Figure size 800x400 with 1 Axes>"
      ]
     },
     "metadata": {},
     "output_type": "display_data"
    },
    {
     "name": "stdout",
     "output_type": "stream",
     "text": [
      "4.295516014099121\n",
      "Картиночка сигмоиды:\n",
      "\n"
     ]
    },
    {
     "data": {
      "image/png": "[encoded data removed]",
      "text/plain": [
       "<Figure size 800x400 with 1 Axes>"
      ]
     },
     "metadata": {},
     "output_type": "display_data"
    },
    {
     "name": "stdout",
     "output_type": "stream",
     "text": [
      "3.2658369541168213\n",
      "Картиночка сигмоиды:\n",
      "\n"
     ]
    },
    {
     "data": {
      "image/png": "[encoded data removed]",
      "text/plain": [
       "<Figure size 800x400 with 1 Axes>"
      ]
     },
     "metadata": {},
     "output_type": "display_data"
    },
    {
     "name": "stdout",
     "output_type": "stream",
     "text": [
      "2.3188164234161377\n",
      "Картиночка сигмоиды:\n",
      "\n"
     ]
    },
    {
     "data": {
      "image/png": "[encoded data removed]",
      "text/plain": [
       "<Figure size 800x400 with 1 Axes>"
      ]
     },
     "metadata": {},
     "output_type": "display_data"
    },
    {
     "name": "stdout",
     "output_type": "stream",
     "text": [
      "1.5059046745300293\n",
      "Картиночка сигмоиды:\n",
      "\n"
     ]
    },
    {
     "data": {
      "image/png": "[encoded data removed]",
      "text/plain": [
       "<Figure size 800x400 with 1 Axes>"
      ]
     },
     "metadata": {},
     "output_type": "display_data"
    },
    {
     "name": "stdout",
     "output_type": "stream",
     "text": [
      "0.8247230052947998\n",
      "Картиночка сигмоиды:\n",
      "\n"
     ]
    },
    {
     "data": {
      "image/png": "[encoded data removed]",
      "text/plain": [
       "<Figure size 800x400 with 1 Axes>"
      ]
     },
     "metadata": {},
     "output_type": "display_data"
    },
    {
     "name": "stdout",
     "output_type": "stream",
     "text": [
      "0.36965614557266235\n",
      "Картиночка сигмоиды:\n",
      "\n"
     ]
    },
    {
     "data": {
      "image/png": "[encoded data removed]",
      "text/plain": [
       "<Figure size 800x400 with 1 Axes>"
      ]
     },
     "metadata": {},
     "output_type": "display_data"
    },
    {
     "name": "stdout",
     "output_type": "stream",
     "text": [
      "0.1520175337791443\n",
      "Картиночка сигмоиды:\n",
      "\n"
     ]
    },
    {
     "data": {
      "image/png": "[encoded data removed]",
      "text/plain": [
       "<Figure size 800x400 with 1 Axes>"
      ]
     },
     "metadata": {},
     "output_type": "display_data"
    },
    {
     "name": "stdout",
     "output_type": "stream",
     "text": [
      "0.06124317646026611\n",
      "Картиночка сигмоиды:\n",
      "\n"
     ]
    },
    {
     "data": {
      "image/png": "[encoded data removed]",
      "text/plain": [
       "<Figure size 800x400 with 1 Axes>"
      ]
     },
     "metadata": {},
     "output_type": "display_data"
    },
    {
     "name": "stdout",
     "output_type": "stream",
     "text": [
      "0.02416980266571045\n",
      "Картиночка сигмоиды:\n",
      "\n"
     ]
    },
    {
     "data": {
      "image/png": "[encoded data removed]",
      "text/plain": [
       "<Figure size 800x400 with 1 Axes>"
      ]
     },
     "metadata": {},
     "output_type": "display_data"
    },
    {
     "name": "stdout",
     "output_type": "stream",
     "text": [
      "0.009844303131103516\n",
      "Классификация на сигмоиде:\n",
      " tensor([[-4.4314, -6.3068, -8.8096, -6.0019, -4.1198,  3.3945, -5.1192, -8.5691,\n",
      "         -2.5032, -5.9905]], grad_fn=<AddmmBackward>)\n",
      "Классификация на картинке:\n",
      " tensor([[-14.6731,  -9.5234,  -3.9220,  -3.3274,  -4.0865,   4.9054, -11.4387,\n",
      "          -5.5451, -10.9941, -10.1114]], grad_fn=<AddmmBackward>)\n"
     ]
    }
   ],
   "source": [
    "# With restriction interval by sigmoid\n",
    "# Cross entropy with OPTIM.zero_grad()\n",
    "#lr = 0.03\n",
    "output_ar = []\n",
    "loss_arr = []\n",
    "grads = []\n",
    "data_1 = torch.tensor( data_1_load , requires_grad= True )\n",
    "opt = optim.Adam([data_1])\n",
    "for p in range(step):\n",
    "    opt.zero_grad()\n",
    "    output_1 = model(torch.sigmoid(data_1))\n",
    "    loss_t = F.cross_entropy(output_1, target)\n",
    "    loss_t.backward()\n",
    "    opt = optim.Adam([data_1])\n",
    "    opt.step()\n",
    "    if p % 50 == 0:\n",
    "        #print('Картиночка:\\n')\n",
    "        #plot_mnist(data_1.data.numpy(), (5, 10))\n",
    "        print('Картиночка сигмоиды:\\n')\n",
    "        plot_mnist(torch.sigmoid(data_1).data.numpy(), (5, 10))\n",
    "        print(loss_t.data.item())\n",
    "#data_1 = torch.clamp(data_1,data_1_load.min().item(),data_1_load.max().item())\n",
    "#plot_mnist(torch.sigmoid(data_1).data.numpy(), (5, 10))\n",
    "#plot_mnist(data_1.data.numpy(), (5, 10))\n",
    "# Проверка, что это все таки та цифра, которую хотим\n",
    "output_1 = model(torch.sigmoid(data_1))\n",
    "print('Классификация на сигмоиде:\\n' ,output_1)\n",
    "output_1 = model(data_1)\n",
    "print('Классификация на картинке:\\n', output_1)"
   ]
  },
  {
   "cell_type": "code",
   "execution_count": null,
   "metadata": {},
   "outputs": [],
   "source": []
  }
 ],
 "metadata": {
  "kernelspec": {
   "display_name": "Python 3",
   "language": "python",
   "name": "python3"
  },
  "language_info": {
   "codemirror_mode": {
    "name": "ipython",
    "version": 3
   },
   "file_extension": ".py",
   "mimetype": "text/x-python",
   "name": "python",
   "nbconvert_exporter": "python",
   "pygments_lexer": "ipython3",
   "version": "3.6.3"
  }
 },
 "nbformat": 4,
 "nbformat_minor": 2
}
