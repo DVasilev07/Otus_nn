{
 "cells": [
  {
   "cell_type": "code",
   "execution_count": 23,
   "metadata": {},
   "outputs": [],
   "source": [
    "import torch\n",
    "import torch.nn as nn\n",
    "import torch.nn.functional as F\n",
    "import torch.optim as optim\n",
    "import torchvision\n",
    "from torchvision import datasets, transforms\n",
    "\n",
    "from utils import mnist, plot_graphs, plot_mnist, mnist_transform\n",
    "import numpy as np\n",
    "\n",
    "%matplotlib inline"
   ]
  },
  {
   "cell_type": "code",
   "execution_count": 24,
   "metadata": {},
   "outputs": [],
   "source": [
    "import matplotlib\n",
    "import matplotlib.pyplot as plt\n",
    "import numpy as np\n",
    "%matplotlib inline"
   ]
  },
  {
   "cell_type": "code",
   "execution_count": 25,
   "metadata": {},
   "outputs": [],
   "source": [
    "train_loader, valid_loader, test_loader = mnist(valid=10000, transform=transforms.ToTensor())"
   ]
  },
  {
   "cell_type": "code",
   "execution_count": 26,
   "metadata": {},
   "outputs": [],
   "source": [
    "class ConvLayer(nn.Module):\n",
    "    def __init__(self, size, padding=1, pool_layer=nn.MaxPool2d(2, stride=2),\n",
    "                 bn=False, dropout=False, activation_fn=nn.ReLU()):\n",
    "        super(ConvLayer, self).__init__()\n",
    "        layers = []\n",
    "        layers.append(nn.Conv2d(size[0], size[1], size[2], padding=padding))\n",
    "        if pool_layer is not None:\n",
    "            layers.append(pool_layer)\n",
    "        if bn:\n",
    "            layers.append(nn.BatchNorm2d(size[1]))\n",
    "        if dropout:\n",
    "            layers.append(nn.Dropout2d())\n",
    "        layers.append(activation_fn)\n",
    "        \n",
    "        self.model = nn.Sequential(*layers)\n",
    "    \n",
    "    def forward(self, x):\n",
    "        return self.model(x)"
   ]
  },
  {
   "cell_type": "code",
   "execution_count": 27,
   "metadata": {},
   "outputs": [],
   "source": [
    "class FullyConnected(nn.Module):\n",
    "    def __init__(self, sizes, dropout=False, activation_fn=nn.Tanh):\n",
    "        super(FullyConnected, self).__init__()\n",
    "        layers = []\n",
    "        \n",
    "        for i in range(len(sizes) - 2):\n",
    "            layers.append(nn.Linear(sizes[i], sizes[i+1]))\n",
    "            if dropout:\n",
    "                layers.append(nn.Dropout())\n",
    "            layers.append(activation_fn())\n",
    "        else: # нам не нужен дропаут и фнкция активации в последнем слое\n",
    "            layers.append(nn.Linear(sizes[-2], sizes[-1]))\n",
    "        \n",
    "        self.model = nn.Sequential(*layers)\n",
    "        \n",
    "    def forward(self, x):\n",
    "        return self.model(x)"
   ]
  },
  {
   "cell_type": "code",
   "execution_count": 28,
   "metadata": {},
   "outputs": [],
   "source": [
    "class Net(nn.Module):\n",
    "    def __init__(self, batchnorm=False, dropout=False, lr=1e-4, l2=0.):\n",
    "        super(Net, self).__init__()\n",
    "        \n",
    "        \n",
    "        self._conv1 = ConvLayer([1, 16, 3], bn=batchnorm)\n",
    "        self._conv2 = ConvLayer([16, 32, 3], bn=batchnorm, activation_fn=nn.Sigmoid())\n",
    "        \n",
    "        self.fc = FullyConnected([32*7*7, 10], dropout=dropout, activation_fn =nn.Sigmoid() )\n",
    "        \n",
    "        self._loss = None\n",
    "        self.optim = optim.Adam(self.parameters(), lr=lr, weight_decay=l2)\n",
    "    \n",
    "    def conv(self, x):\n",
    "        x = self._conv1(x)\n",
    "        x = self._conv2(x)\n",
    "        return x\n",
    "    \n",
    "\n",
    "        \n",
    "    def forward(self, x):\n",
    "        x = self.conv(x)\n",
    "        x = x.view(-1, 32*7*7)\n",
    "        x = self.fc(x)\n",
    "        return x\n",
    "    \n",
    "    def loss(self, output, target, **kwargs):\n",
    "        self._loss = F.cross_entropy(output, target, **kwargs)\n",
    "        self._correct = output.data.max(1, keepdim=True)[1]\n",
    "        self._correct = self._correct.eq(target.data.view_as(self._correct)).to(torch.float).cpu().mean()\n",
    "        return self._loss"
   ]
  },
  {
   "cell_type": "code",
   "execution_count": 29,
   "metadata": {},
   "outputs": [],
   "source": [
    "#models = {'bn': Net(True), 'drop': Net(False, True), 'plain': Net()}\n",
    "models = {'bn': Net(True)}\n",
    "train_log = {k: [] for k in models}\n",
    "test_log = {k: [] for k in models}"
   ]
  },
  {
   "cell_type": "code",
   "execution_count": 30,
   "metadata": {},
   "outputs": [],
   "source": [
    "def train(epoch, models, log=None):\n",
    "    train_size = len(train_loader.sampler)\n",
    "    for batch_idx, (data, target) in enumerate(train_loader):\n",
    "        for model in models.values():\n",
    "            model.optim.zero_grad()\n",
    "            output = model(data)\n",
    "            loss = model.loss(output, target)\n",
    "            loss.backward()\n",
    "            model.optim.step()\n",
    "            \n",
    "        if batch_idx % 200 == 0:\n",
    "            line = 'Train Epoch: {} [{}/{} ({:.0f}%)]\\tLosses '.format(\n",
    "                epoch, batch_idx * len(data), train_size, 100. * batch_idx / len(train_loader))\n",
    "            losses = ' '.join(['{}: {:.6f}'.format(k, m._loss.item()) for k, m in models.items()])\n",
    "            print(line + losses)\n",
    "            \n",
    "    else:\n",
    "        batch_idx += 1\n",
    "        line = 'Train Epoch: {} [{}/{} ({:.0f}%)]\\tLosses '.format(\n",
    "            epoch, batch_idx * len(data), train_size, 100. * batch_idx / len(train_loader))\n",
    "        losses = ' '.join(['{}: {:.6f}'.format(k, m._loss.item()) for k, m in models.items()])\n",
    "        if log is not None:\n",
    "            for k in models:\n",
    "                log[k].append((models[k]._loss, models[k]._correct))\n",
    "        print(line + losses)"
   ]
  },
  {
   "cell_type": "code",
   "execution_count": 31,
   "metadata": {},
   "outputs": [],
   "source": [
    "def test(models, loader, log=None):\n",
    "    test_size = len(loader.sampler)\n",
    "    avg_lambda = lambda l: 'Loss: {:.4f}'.format(l)\n",
    "    acc_lambda = lambda c, p: 'Accuracy: {}/{} ({:.0f}%)'.format(c, test_size, p)\n",
    "    line = lambda i, l, c, p: '{}: '.format(i) + avg_lambda(l) + '\\t' + acc_lambda(c, p)\n",
    "\n",
    "    test_loss = {k: 0. for k in models}\n",
    "    correct = {k: 0. for k in models}\n",
    "    with torch.no_grad():\n",
    "        for data, target in loader:\n",
    "            output = {k: m(data) for k, m in models.items()}\n",
    "            for k, m in models.items():\n",
    "                test_loss[k] += m.loss(output[k], target, reduction='sum').item() # sum up batch loss\n",
    "                pred = output[k].data.max(1, keepdim=True)[1] # get the index of the max log-probability\n",
    "                correct[k] += pred.eq(target.data.view_as(pred)).cpu().sum().item()\n",
    "    \n",
    "    for k in models:\n",
    "        test_loss[k] /= test_size\n",
    "    correct_pct = {k: c / test_size for k, c in correct.items()}\n",
    "    lines = '\\n'.join([line(k, test_loss[k], correct[k], 100*correct_pct[k]) for k in models]) + '\\n'\n",
    "    report = 'Test set:\\n' + lines\n",
    "    if log is not None:\n",
    "        for k in models:\n",
    "            log[k].append((test_loss[k], correct_pct[k]))\n",
    "    print(report)"
   ]
  },
  {
   "cell_type": "code",
   "execution_count": 32,
   "metadata": {},
   "outputs": [
    {
     "name": "stdout",
     "output_type": "stream",
     "text": [
      "Train Epoch: 1 [0/50000 (0%)]\tLosses bn: 2.325844\n",
      "Train Epoch: 1 [10000/50000 (20%)]\tLosses bn: 2.072166\n",
      "Train Epoch: 1 [20000/50000 (40%)]\tLosses bn: 1.689147\n",
      "Train Epoch: 1 [30000/50000 (60%)]\tLosses bn: 1.438069\n",
      "Train Epoch: 1 [40000/50000 (80%)]\tLosses bn: 1.152620\n",
      "Train Epoch: 1 [50000/50000 (100%)]\tLosses bn: 0.982232\n",
      "Test set:\n",
      "bn: Loss: 0.9147\tAccuracy: 8876.0/10000 (89%)\n",
      "\n",
      "Train Epoch: 2 [0/50000 (0%)]\tLosses bn: 0.923791\n",
      "Train Epoch: 2 [10000/50000 (20%)]\tLosses bn: 0.754031\n",
      "Train Epoch: 2 [20000/50000 (40%)]\tLosses bn: 0.675934\n",
      "Train Epoch: 2 [30000/50000 (60%)]\tLosses bn: 0.592338\n",
      "Train Epoch: 2 [40000/50000 (80%)]\tLosses bn: 0.379497\n",
      "Train Epoch: 2 [50000/50000 (100%)]\tLosses bn: 0.365039\n",
      "Test set:\n",
      "bn: Loss: 0.4257\tAccuracy: 9346.0/10000 (93%)\n",
      "\n",
      "Train Epoch: 3 [0/50000 (0%)]\tLosses bn: 0.441399\n",
      "Train Epoch: 3 [10000/50000 (20%)]\tLosses bn: 0.269870\n",
      "Train Epoch: 3 [20000/50000 (40%)]\tLosses bn: 0.360647\n",
      "Train Epoch: 3 [30000/50000 (60%)]\tLosses bn: 0.373415\n",
      "Train Epoch: 3 [40000/50000 (80%)]\tLosses bn: 0.296903\n",
      "Train Epoch: 3 [50000/50000 (100%)]\tLosses bn: 0.226192\n",
      "Test set:\n",
      "bn: Loss: 0.2668\tAccuracy: 9502.0/10000 (95%)\n",
      "\n",
      "Train Epoch: 4 [0/50000 (0%)]\tLosses bn: 0.217543\n",
      "Train Epoch: 4 [10000/50000 (20%)]\tLosses bn: 0.250910\n",
      "Train Epoch: 4 [20000/50000 (40%)]\tLosses bn: 0.320044\n",
      "Train Epoch: 4 [30000/50000 (60%)]\tLosses bn: 0.254242\n",
      "Train Epoch: 4 [40000/50000 (80%)]\tLosses bn: 0.126549\n",
      "Train Epoch: 4 [50000/50000 (100%)]\tLosses bn: 0.296223\n",
      "Test set:\n",
      "bn: Loss: 0.1931\tAccuracy: 9588.0/10000 (96%)\n",
      "\n",
      "Train Epoch: 5 [0/50000 (0%)]\tLosses bn: 0.150271\n",
      "Train Epoch: 5 [10000/50000 (20%)]\tLosses bn: 0.343828\n",
      "Train Epoch: 5 [20000/50000 (40%)]\tLosses bn: 0.157638\n",
      "Train Epoch: 5 [30000/50000 (60%)]\tLosses bn: 0.138859\n",
      "Train Epoch: 5 [40000/50000 (80%)]\tLosses bn: 0.183860\n",
      "Train Epoch: 5 [50000/50000 (100%)]\tLosses bn: 0.145149\n",
      "Test set:\n",
      "bn: Loss: 0.1532\tAccuracy: 9655.0/10000 (97%)\n",
      "\n",
      "Train Epoch: 6 [0/50000 (0%)]\tLosses bn: 0.093672\n",
      "Train Epoch: 6 [10000/50000 (20%)]\tLosses bn: 0.106577\n",
      "Train Epoch: 6 [20000/50000 (40%)]\tLosses bn: 0.095523\n",
      "Train Epoch: 6 [30000/50000 (60%)]\tLosses bn: 0.223038\n",
      "Train Epoch: 6 [40000/50000 (80%)]\tLosses bn: 0.112986\n",
      "Train Epoch: 6 [50000/50000 (100%)]\tLosses bn: 0.177592\n",
      "Test set:\n",
      "bn: Loss: 0.1266\tAccuracy: 9688.0/10000 (97%)\n",
      "\n",
      "Train Epoch: 7 [0/50000 (0%)]\tLosses bn: 0.065383\n",
      "Train Epoch: 7 [10000/50000 (20%)]\tLosses bn: 0.197771\n",
      "Train Epoch: 7 [20000/50000 (40%)]\tLosses bn: 0.098386\n",
      "Train Epoch: 7 [30000/50000 (60%)]\tLosses bn: 0.073820\n",
      "Train Epoch: 7 [40000/50000 (80%)]\tLosses bn: 0.049321\n",
      "Train Epoch: 7 [50000/50000 (100%)]\tLosses bn: 0.070756\n",
      "Test set:\n",
      "bn: Loss: 0.1071\tAccuracy: 9729.0/10000 (97%)\n",
      "\n",
      "Train Epoch: 8 [0/50000 (0%)]\tLosses bn: 0.089175\n",
      "Train Epoch: 8 [10000/50000 (20%)]\tLosses bn: 0.064316\n",
      "Train Epoch: 8 [20000/50000 (40%)]\tLosses bn: 0.074236\n",
      "Train Epoch: 8 [30000/50000 (60%)]\tLosses bn: 0.060421\n",
      "Train Epoch: 8 [40000/50000 (80%)]\tLosses bn: 0.044294\n",
      "Train Epoch: 8 [50000/50000 (100%)]\tLosses bn: 0.147050\n",
      "Test set:\n",
      "bn: Loss: 0.0950\tAccuracy: 9750.0/10000 (98%)\n",
      "\n",
      "Train Epoch: 9 [0/50000 (0%)]\tLosses bn: 0.090760\n",
      "Train Epoch: 9 [10000/50000 (20%)]\tLosses bn: 0.088988\n",
      "Train Epoch: 9 [20000/50000 (40%)]\tLosses bn: 0.083356\n",
      "Train Epoch: 9 [30000/50000 (60%)]\tLosses bn: 0.090248\n",
      "Train Epoch: 9 [40000/50000 (80%)]\tLosses bn: 0.230611\n",
      "Train Epoch: 9 [50000/50000 (100%)]\tLosses bn: 0.062128\n",
      "Test set:\n",
      "bn: Loss: 0.0863\tAccuracy: 9774.0/10000 (98%)\n",
      "\n",
      "Train Epoch: 10 [0/50000 (0%)]\tLosses bn: 0.033250\n",
      "Train Epoch: 10 [10000/50000 (20%)]\tLosses bn: 0.100973\n",
      "Train Epoch: 10 [20000/50000 (40%)]\tLosses bn: 0.078013\n",
      "Train Epoch: 10 [30000/50000 (60%)]\tLosses bn: 0.055980\n",
      "Train Epoch: 10 [40000/50000 (80%)]\tLosses bn: 0.068324\n",
      "Train Epoch: 10 [50000/50000 (100%)]\tLosses bn: 0.071361\n",
      "Test set:\n",
      "bn: Loss: 0.0790\tAccuracy: 9793.0/10000 (98%)\n",
      "\n",
      "Train Epoch: 11 [0/50000 (0%)]\tLosses bn: 0.020097\n",
      "Train Epoch: 11 [10000/50000 (20%)]\tLosses bn: 0.029984\n",
      "Train Epoch: 11 [20000/50000 (40%)]\tLosses bn: 0.031603\n",
      "Train Epoch: 11 [30000/50000 (60%)]\tLosses bn: 0.039044\n",
      "Train Epoch: 11 [40000/50000 (80%)]\tLosses bn: 0.056591\n",
      "Train Epoch: 11 [50000/50000 (100%)]\tLosses bn: 0.024247\n",
      "Test set:\n",
      "bn: Loss: 0.0717\tAccuracy: 9805.0/10000 (98%)\n",
      "\n",
      "Train Epoch: 12 [0/50000 (0%)]\tLosses bn: 0.022387\n",
      "Train Epoch: 12 [10000/50000 (20%)]\tLosses bn: 0.057020\n",
      "Train Epoch: 12 [20000/50000 (40%)]\tLosses bn: 0.071433\n",
      "Train Epoch: 12 [30000/50000 (60%)]\tLosses bn: 0.045024\n",
      "Train Epoch: 12 [40000/50000 (80%)]\tLosses bn: 0.059533\n",
      "Train Epoch: 12 [50000/50000 (100%)]\tLosses bn: 0.046780\n",
      "Test set:\n",
      "bn: Loss: 0.0685\tAccuracy: 9812.0/10000 (98%)\n",
      "\n",
      "Train Epoch: 13 [0/50000 (0%)]\tLosses bn: 0.044841\n",
      "Train Epoch: 13 [10000/50000 (20%)]\tLosses bn: 0.015502\n",
      "Train Epoch: 13 [20000/50000 (40%)]\tLosses bn: 0.073337\n",
      "Train Epoch: 13 [30000/50000 (60%)]\tLosses bn: 0.030639\n",
      "Train Epoch: 13 [40000/50000 (80%)]\tLosses bn: 0.059224\n",
      "Train Epoch: 13 [50000/50000 (100%)]\tLosses bn: 0.039357\n",
      "Test set:\n",
      "bn: Loss: 0.0654\tAccuracy: 9807.0/10000 (98%)\n",
      "\n",
      "Train Epoch: 14 [0/50000 (0%)]\tLosses bn: 0.062958\n",
      "Train Epoch: 14 [10000/50000 (20%)]\tLosses bn: 0.055493\n",
      "Train Epoch: 14 [20000/50000 (40%)]\tLosses bn: 0.076988\n",
      "Train Epoch: 14 [30000/50000 (60%)]\tLosses bn: 0.064012\n",
      "Train Epoch: 14 [40000/50000 (80%)]\tLosses bn: 0.010345\n",
      "Train Epoch: 14 [50000/50000 (100%)]\tLosses bn: 0.080594\n",
      "Test set:\n",
      "bn: Loss: 0.0605\tAccuracy: 9829.0/10000 (98%)\n",
      "\n",
      "Train Epoch: 15 [0/50000 (0%)]\tLosses bn: 0.021904\n",
      "Train Epoch: 15 [10000/50000 (20%)]\tLosses bn: 0.006119\n",
      "Train Epoch: 15 [20000/50000 (40%)]\tLosses bn: 0.038122\n",
      "Train Epoch: 15 [30000/50000 (60%)]\tLosses bn: 0.051133\n",
      "Train Epoch: 15 [40000/50000 (80%)]\tLosses bn: 0.041140\n",
      "Train Epoch: 15 [50000/50000 (100%)]\tLosses bn: 0.029040\n",
      "Test set:\n",
      "bn: Loss: 0.0583\tAccuracy: 9828.0/10000 (98%)\n",
      "\n",
      "Train Epoch: 16 [0/50000 (0%)]\tLosses bn: 0.031670\n",
      "Train Epoch: 16 [10000/50000 (20%)]\tLosses bn: 0.123587\n",
      "Train Epoch: 16 [20000/50000 (40%)]\tLosses bn: 0.048380\n",
      "Train Epoch: 16 [30000/50000 (60%)]\tLosses bn: 0.077390\n",
      "Train Epoch: 16 [40000/50000 (80%)]\tLosses bn: 0.036074\n",
      "Train Epoch: 16 [50000/50000 (100%)]\tLosses bn: 0.207916\n",
      "Test set:\n",
      "bn: Loss: 0.0585\tAccuracy: 9823.0/10000 (98%)\n",
      "\n",
      "Train Epoch: 17 [0/50000 (0%)]\tLosses bn: 0.021881\n",
      "Train Epoch: 17 [10000/50000 (20%)]\tLosses bn: 0.037876\n",
      "Train Epoch: 17 [20000/50000 (40%)]\tLosses bn: 0.077726\n",
      "Train Epoch: 17 [30000/50000 (60%)]\tLosses bn: 0.019397\n",
      "Train Epoch: 17 [40000/50000 (80%)]\tLosses bn: 0.058809\n",
      "Train Epoch: 17 [50000/50000 (100%)]\tLosses bn: 0.042630\n",
      "Test set:\n",
      "bn: Loss: 0.0572\tAccuracy: 9829.0/10000 (98%)\n",
      "\n",
      "Train Epoch: 18 [0/50000 (0%)]\tLosses bn: 0.020027\n",
      "Train Epoch: 18 [10000/50000 (20%)]\tLosses bn: 0.018728\n",
      "Train Epoch: 18 [20000/50000 (40%)]\tLosses bn: 0.015653\n",
      "Train Epoch: 18 [30000/50000 (60%)]\tLosses bn: 0.093388\n",
      "Train Epoch: 18 [40000/50000 (80%)]\tLosses bn: 0.013048\n",
      "Train Epoch: 18 [50000/50000 (100%)]\tLosses bn: 0.025220\n",
      "Test set:\n",
      "bn: Loss: 0.0535\tAccuracy: 9847.0/10000 (98%)\n",
      "\n",
      "Train Epoch: 19 [0/50000 (0%)]\tLosses bn: 0.051454\n",
      "Train Epoch: 19 [10000/50000 (20%)]\tLosses bn: 0.005560\n",
      "Train Epoch: 19 [20000/50000 (40%)]\tLosses bn: 0.070415\n",
      "Train Epoch: 19 [30000/50000 (60%)]\tLosses bn: 0.015207\n",
      "Train Epoch: 19 [40000/50000 (80%)]\tLosses bn: 0.033770\n",
      "Train Epoch: 19 [50000/50000 (100%)]\tLosses bn: 0.060728\n",
      "Test set:\n",
      "bn: Loss: 0.0507\tAccuracy: 9841.0/10000 (98%)\n",
      "\n",
      "Train Epoch: 20 [0/50000 (0%)]\tLosses bn: 0.009588\n",
      "Train Epoch: 20 [10000/50000 (20%)]\tLosses bn: 0.045973\n",
      "Train Epoch: 20 [20000/50000 (40%)]\tLosses bn: 0.028188\n",
      "Train Epoch: 20 [30000/50000 (60%)]\tLosses bn: 0.030891\n",
      "Train Epoch: 20 [40000/50000 (80%)]\tLosses bn: 0.020880\n",
      "Train Epoch: 20 [50000/50000 (100%)]\tLosses bn: 0.047954\n",
      "Test set:\n",
      "bn: Loss: 0.0495\tAccuracy: 9856.0/10000 (99%)\n",
      "\n",
      "Train Epoch: 21 [0/50000 (0%)]\tLosses bn: 0.025567\n",
      "Train Epoch: 21 [10000/50000 (20%)]\tLosses bn: 0.047374\n",
      "Train Epoch: 21 [20000/50000 (40%)]\tLosses bn: 0.034444\n",
      "Train Epoch: 21 [30000/50000 (60%)]\tLosses bn: 0.062403\n",
      "Train Epoch: 21 [40000/50000 (80%)]\tLosses bn: 0.024203\n",
      "Train Epoch: 21 [50000/50000 (100%)]\tLosses bn: 0.010779\n",
      "Test set:\n",
      "bn: Loss: 0.0494\tAccuracy: 9844.0/10000 (98%)\n",
      "\n",
      "Train Epoch: 22 [0/50000 (0%)]\tLosses bn: 0.009104\n",
      "Train Epoch: 22 [10000/50000 (20%)]\tLosses bn: 0.017144\n"
     ]
    },
    {
     "name": "stdout",
     "output_type": "stream",
     "text": [
      "Train Epoch: 22 [20000/50000 (40%)]\tLosses bn: 0.049012\n",
      "Train Epoch: 22 [30000/50000 (60%)]\tLosses bn: 0.016116\n",
      "Train Epoch: 22 [40000/50000 (80%)]\tLosses bn: 0.078235\n",
      "Train Epoch: 22 [50000/50000 (100%)]\tLosses bn: 0.035165\n",
      "Test set:\n",
      "bn: Loss: 0.0466\tAccuracy: 9864.0/10000 (99%)\n",
      "\n",
      "Train Epoch: 23 [0/50000 (0%)]\tLosses bn: 0.016651\n",
      "Train Epoch: 23 [10000/50000 (20%)]\tLosses bn: 0.014148\n",
      "Train Epoch: 23 [20000/50000 (40%)]\tLosses bn: 0.029020\n",
      "Train Epoch: 23 [30000/50000 (60%)]\tLosses bn: 0.163761\n",
      "Train Epoch: 23 [40000/50000 (80%)]\tLosses bn: 0.020841\n",
      "Train Epoch: 23 [50000/50000 (100%)]\tLosses bn: 0.041690\n",
      "Test set:\n",
      "bn: Loss: 0.0475\tAccuracy: 9857.0/10000 (99%)\n",
      "\n",
      "Train Epoch: 24 [0/50000 (0%)]\tLosses bn: 0.011714\n",
      "Train Epoch: 24 [10000/50000 (20%)]\tLosses bn: 0.014409\n",
      "Train Epoch: 24 [20000/50000 (40%)]\tLosses bn: 0.034065\n",
      "Train Epoch: 24 [30000/50000 (60%)]\tLosses bn: 0.012165\n",
      "Train Epoch: 24 [40000/50000 (80%)]\tLosses bn: 0.015163\n",
      "Train Epoch: 24 [50000/50000 (100%)]\tLosses bn: 0.015668\n",
      "Test set:\n",
      "bn: Loss: 0.0471\tAccuracy: 9858.0/10000 (99%)\n",
      "\n",
      "Train Epoch: 25 [0/50000 (0%)]\tLosses bn: 0.025431\n",
      "Train Epoch: 25 [10000/50000 (20%)]\tLosses bn: 0.012097\n",
      "Train Epoch: 25 [20000/50000 (40%)]\tLosses bn: 0.020932\n",
      "Train Epoch: 25 [30000/50000 (60%)]\tLosses bn: 0.012089\n",
      "Train Epoch: 25 [40000/50000 (80%)]\tLosses bn: 0.028714\n",
      "Train Epoch: 25 [50000/50000 (100%)]\tLosses bn: 0.015569\n",
      "Test set:\n",
      "bn: Loss: 0.0448\tAccuracy: 9868.0/10000 (99%)\n",
      "\n",
      "Train Epoch: 26 [0/50000 (0%)]\tLosses bn: 0.071111\n",
      "Train Epoch: 26 [10000/50000 (20%)]\tLosses bn: 0.006001\n",
      "Train Epoch: 26 [20000/50000 (40%)]\tLosses bn: 0.054088\n",
      "Train Epoch: 26 [30000/50000 (60%)]\tLosses bn: 0.008632\n",
      "Train Epoch: 26 [40000/50000 (80%)]\tLosses bn: 0.039658\n",
      "Train Epoch: 26 [50000/50000 (100%)]\tLosses bn: 0.048659\n",
      "Test set:\n",
      "bn: Loss: 0.0461\tAccuracy: 9857.0/10000 (99%)\n",
      "\n",
      "Train Epoch: 27 [0/50000 (0%)]\tLosses bn: 0.006774\n",
      "Train Epoch: 27 [10000/50000 (20%)]\tLosses bn: 0.103741\n",
      "Train Epoch: 27 [20000/50000 (40%)]\tLosses bn: 0.020809\n",
      "Train Epoch: 27 [30000/50000 (60%)]\tLosses bn: 0.012023\n",
      "Train Epoch: 27 [40000/50000 (80%)]\tLosses bn: 0.105624\n",
      "Train Epoch: 27 [50000/50000 (100%)]\tLosses bn: 0.016666\n",
      "Test set:\n",
      "bn: Loss: 0.0448\tAccuracy: 9861.0/10000 (99%)\n",
      "\n",
      "Train Epoch: 28 [0/50000 (0%)]\tLosses bn: 0.009982\n",
      "Train Epoch: 28 [10000/50000 (20%)]\tLosses bn: 0.015136\n",
      "Train Epoch: 28 [20000/50000 (40%)]\tLosses bn: 0.018559\n",
      "Train Epoch: 28 [30000/50000 (60%)]\tLosses bn: 0.007685\n",
      "Train Epoch: 28 [40000/50000 (80%)]\tLosses bn: 0.008176\n",
      "Train Epoch: 28 [50000/50000 (100%)]\tLosses bn: 0.034624\n",
      "Test set:\n",
      "bn: Loss: 0.0426\tAccuracy: 9873.0/10000 (99%)\n",
      "\n",
      "Train Epoch: 29 [0/50000 (0%)]\tLosses bn: 0.082537\n",
      "Train Epoch: 29 [10000/50000 (20%)]\tLosses bn: 0.102150\n",
      "Train Epoch: 29 [20000/50000 (40%)]\tLosses bn: 0.017912\n",
      "Train Epoch: 29 [30000/50000 (60%)]\tLosses bn: 0.031088\n",
      "Train Epoch: 29 [40000/50000 (80%)]\tLosses bn: 0.014320\n",
      "Train Epoch: 29 [50000/50000 (100%)]\tLosses bn: 0.027945\n",
      "Test set:\n",
      "bn: Loss: 0.0434\tAccuracy: 9865.0/10000 (99%)\n",
      "\n",
      "Train Epoch: 30 [0/50000 (0%)]\tLosses bn: 0.010220\n",
      "Train Epoch: 30 [10000/50000 (20%)]\tLosses bn: 0.015802\n",
      "Train Epoch: 30 [20000/50000 (40%)]\tLosses bn: 0.017974\n",
      "Train Epoch: 30 [30000/50000 (60%)]\tLosses bn: 0.032519\n",
      "Train Epoch: 30 [40000/50000 (80%)]\tLosses bn: 0.002206\n",
      "Train Epoch: 30 [50000/50000 (100%)]\tLosses bn: 0.007218\n",
      "Test set:\n",
      "bn: Loss: 0.0432\tAccuracy: 9872.0/10000 (99%)\n",
      "\n",
      "Train Epoch: 31 [0/50000 (0%)]\tLosses bn: 0.012230\n",
      "Train Epoch: 31 [10000/50000 (20%)]\tLosses bn: 0.010227\n",
      "Train Epoch: 31 [20000/50000 (40%)]\tLosses bn: 0.012630\n",
      "Train Epoch: 31 [30000/50000 (60%)]\tLosses bn: 0.009008\n",
      "Train Epoch: 31 [40000/50000 (80%)]\tLosses bn: 0.005549\n",
      "Train Epoch: 31 [50000/50000 (100%)]\tLosses bn: 0.049447\n",
      "Test set:\n",
      "bn: Loss: 0.0420\tAccuracy: 9874.0/10000 (99%)\n",
      "\n",
      "Train Epoch: 32 [0/50000 (0%)]\tLosses bn: 0.010732\n",
      "Train Epoch: 32 [10000/50000 (20%)]\tLosses bn: 0.018512\n",
      "Train Epoch: 32 [20000/50000 (40%)]\tLosses bn: 0.327360\n",
      "Train Epoch: 32 [30000/50000 (60%)]\tLosses bn: 0.003395\n",
      "Train Epoch: 32 [40000/50000 (80%)]\tLosses bn: 0.031570\n",
      "Train Epoch: 32 [50000/50000 (100%)]\tLosses bn: 0.028568\n",
      "Test set:\n",
      "bn: Loss: 0.0459\tAccuracy: 9853.0/10000 (99%)\n",
      "\n",
      "Train Epoch: 33 [0/50000 (0%)]\tLosses bn: 0.009263\n",
      "Train Epoch: 33 [10000/50000 (20%)]\tLosses bn: 0.030450\n",
      "Train Epoch: 33 [20000/50000 (40%)]\tLosses bn: 0.049614\n",
      "Train Epoch: 33 [30000/50000 (60%)]\tLosses bn: 0.012435\n",
      "Train Epoch: 33 [40000/50000 (80%)]\tLosses bn: 0.043041\n",
      "Train Epoch: 33 [50000/50000 (100%)]\tLosses bn: 0.009458\n",
      "Test set:\n",
      "bn: Loss: 0.0416\tAccuracy: 9870.0/10000 (99%)\n",
      "\n",
      "Train Epoch: 34 [0/50000 (0%)]\tLosses bn: 0.026765\n",
      "Train Epoch: 34 [10000/50000 (20%)]\tLosses bn: 0.014058\n",
      "Train Epoch: 34 [20000/50000 (40%)]\tLosses bn: 0.015564\n",
      "Train Epoch: 34 [30000/50000 (60%)]\tLosses bn: 0.014109\n",
      "Train Epoch: 34 [40000/50000 (80%)]\tLosses bn: 0.051851\n",
      "Train Epoch: 34 [50000/50000 (100%)]\tLosses bn: 0.011120\n",
      "Test set:\n",
      "bn: Loss: 0.0422\tAccuracy: 9869.0/10000 (99%)\n",
      "\n",
      "Train Epoch: 35 [0/50000 (0%)]\tLosses bn: 0.015194\n",
      "Train Epoch: 35 [10000/50000 (20%)]\tLosses bn: 0.007783\n",
      "Train Epoch: 35 [20000/50000 (40%)]\tLosses bn: 0.009331\n",
      "Train Epoch: 35 [30000/50000 (60%)]\tLosses bn: 0.027167\n",
      "Train Epoch: 35 [40000/50000 (80%)]\tLosses bn: 0.004807\n",
      "Train Epoch: 35 [50000/50000 (100%)]\tLosses bn: 0.028206\n",
      "Test set:\n",
      "bn: Loss: 0.0417\tAccuracy: 9867.0/10000 (99%)\n",
      "\n",
      "Train Epoch: 36 [0/50000 (0%)]\tLosses bn: 0.014215\n",
      "Train Epoch: 36 [10000/50000 (20%)]\tLosses bn: 0.017466\n",
      "Train Epoch: 36 [20000/50000 (40%)]\tLosses bn: 0.014174\n",
      "Train Epoch: 36 [30000/50000 (60%)]\tLosses bn: 0.148476\n",
      "Train Epoch: 36 [40000/50000 (80%)]\tLosses bn: 0.009158\n",
      "Train Epoch: 36 [50000/50000 (100%)]\tLosses bn: 0.010059\n",
      "Test set:\n",
      "bn: Loss: 0.0403\tAccuracy: 9871.0/10000 (99%)\n",
      "\n",
      "Train Epoch: 37 [0/50000 (0%)]\tLosses bn: 0.000630\n",
      "Train Epoch: 37 [10000/50000 (20%)]\tLosses bn: 0.026823\n",
      "Train Epoch: 37 [20000/50000 (40%)]\tLosses bn: 0.017778\n",
      "Train Epoch: 37 [30000/50000 (60%)]\tLosses bn: 0.011112\n",
      "Train Epoch: 37 [40000/50000 (80%)]\tLosses bn: 0.016010\n",
      "Train Epoch: 37 [50000/50000 (100%)]\tLosses bn: 0.013086\n",
      "Test set:\n",
      "bn: Loss: 0.0420\tAccuracy: 9866.0/10000 (99%)\n",
      "\n",
      "Train Epoch: 38 [0/50000 (0%)]\tLosses bn: 0.031547\n",
      "Train Epoch: 38 [10000/50000 (20%)]\tLosses bn: 0.032899\n",
      "Train Epoch: 38 [20000/50000 (40%)]\tLosses bn: 0.021412\n",
      "Train Epoch: 38 [30000/50000 (60%)]\tLosses bn: 0.084771\n",
      "Train Epoch: 38 [40000/50000 (80%)]\tLosses bn: 0.074362\n",
      "Train Epoch: 38 [50000/50000 (100%)]\tLosses bn: 0.007913\n",
      "Test set:\n",
      "bn: Loss: 0.0414\tAccuracy: 9872.0/10000 (99%)\n",
      "\n",
      "Train Epoch: 39 [0/50000 (0%)]\tLosses bn: 0.006606\n",
      "Train Epoch: 39 [10000/50000 (20%)]\tLosses bn: 0.041190\n",
      "Train Epoch: 39 [20000/50000 (40%)]\tLosses bn: 0.041784\n",
      "Train Epoch: 39 [30000/50000 (60%)]\tLosses bn: 0.047311\n",
      "Train Epoch: 39 [40000/50000 (80%)]\tLosses bn: 0.005961\n",
      "Train Epoch: 39 [50000/50000 (100%)]\tLosses bn: 0.026172\n",
      "Test set:\n",
      "bn: Loss: 0.0400\tAccuracy: 9879.0/10000 (99%)\n",
      "\n",
      "Train Epoch: 40 [0/50000 (0%)]\tLosses bn: 0.004203\n",
      "Train Epoch: 40 [10000/50000 (20%)]\tLosses bn: 0.005558\n",
      "Train Epoch: 40 [20000/50000 (40%)]\tLosses bn: 0.001303\n",
      "Train Epoch: 40 [30000/50000 (60%)]\tLosses bn: 0.000897\n",
      "Train Epoch: 40 [40000/50000 (80%)]\tLosses bn: 0.016789\n",
      "Train Epoch: 40 [50000/50000 (100%)]\tLosses bn: 0.021030\n",
      "Test set:\n",
      "bn: Loss: 0.0399\tAccuracy: 9868.0/10000 (99%)\n",
      "\n",
      "Train Epoch: 41 [0/50000 (0%)]\tLosses bn: 0.008881\n",
      "Train Epoch: 41 [10000/50000 (20%)]\tLosses bn: 0.017973\n",
      "Train Epoch: 41 [20000/50000 (40%)]\tLosses bn: 0.029391\n",
      "Train Epoch: 41 [30000/50000 (60%)]\tLosses bn: 0.010689\n",
      "Train Epoch: 41 [40000/50000 (80%)]\tLosses bn: 0.016277\n",
      "Train Epoch: 41 [50000/50000 (100%)]\tLosses bn: 0.001086\n",
      "Test set:\n",
      "bn: Loss: 0.0396\tAccuracy: 9876.0/10000 (99%)\n",
      "\n",
      "Train Epoch: 42 [0/50000 (0%)]\tLosses bn: 0.002407\n",
      "Train Epoch: 42 [10000/50000 (20%)]\tLosses bn: 0.005463\n",
      "Train Epoch: 42 [20000/50000 (40%)]\tLosses bn: 0.002638\n",
      "Train Epoch: 42 [30000/50000 (60%)]\tLosses bn: 0.013411\n",
      "Train Epoch: 42 [40000/50000 (80%)]\tLosses bn: 0.013061\n",
      "Train Epoch: 42 [50000/50000 (100%)]\tLosses bn: 0.051508\n",
      "Test set:\n",
      "bn: Loss: 0.0392\tAccuracy: 9875.0/10000 (99%)\n",
      "\n",
      "Train Epoch: 43 [0/50000 (0%)]\tLosses bn: 0.003802\n",
      "Train Epoch: 43 [10000/50000 (20%)]\tLosses bn: 0.019386\n",
      "Train Epoch: 43 [20000/50000 (40%)]\tLosses bn: 0.014498\n"
     ]
    },
    {
     "name": "stdout",
     "output_type": "stream",
     "text": [
      "Train Epoch: 43 [30000/50000 (60%)]\tLosses bn: 0.003327\n",
      "Train Epoch: 43 [40000/50000 (80%)]\tLosses bn: 0.003974\n",
      "Train Epoch: 43 [50000/50000 (100%)]\tLosses bn: 0.008168\n",
      "Test set:\n",
      "bn: Loss: 0.0400\tAccuracy: 9875.0/10000 (99%)\n",
      "\n",
      "Train Epoch: 44 [0/50000 (0%)]\tLosses bn: 0.006761\n",
      "Train Epoch: 44 [10000/50000 (20%)]\tLosses bn: 0.005753\n",
      "Train Epoch: 44 [20000/50000 (40%)]\tLosses bn: 0.015494\n",
      "Train Epoch: 44 [30000/50000 (60%)]\tLosses bn: 0.025555\n",
      "Train Epoch: 44 [40000/50000 (80%)]\tLosses bn: 0.032356\n",
      "Train Epoch: 44 [50000/50000 (100%)]\tLosses bn: 0.024342\n",
      "Test set:\n",
      "bn: Loss: 0.0393\tAccuracy: 9866.0/10000 (99%)\n",
      "\n",
      "Train Epoch: 45 [0/50000 (0%)]\tLosses bn: 0.016812\n",
      "Train Epoch: 45 [10000/50000 (20%)]\tLosses bn: 0.004915\n",
      "Train Epoch: 45 [20000/50000 (40%)]\tLosses bn: 0.045035\n",
      "Train Epoch: 45 [30000/50000 (60%)]\tLosses bn: 0.011507\n",
      "Train Epoch: 45 [40000/50000 (80%)]\tLosses bn: 0.003290\n",
      "Train Epoch: 45 [50000/50000 (100%)]\tLosses bn: 0.003456\n",
      "Test set:\n",
      "bn: Loss: 0.0393\tAccuracy: 9869.0/10000 (99%)\n",
      "\n",
      "Train Epoch: 46 [0/50000 (0%)]\tLosses bn: 0.045716\n",
      "Train Epoch: 46 [10000/50000 (20%)]\tLosses bn: 0.004557\n",
      "Train Epoch: 46 [20000/50000 (40%)]\tLosses bn: 0.017400\n",
      "Train Epoch: 46 [30000/50000 (60%)]\tLosses bn: 0.001362\n",
      "Train Epoch: 46 [40000/50000 (80%)]\tLosses bn: 0.002881\n",
      "Train Epoch: 46 [50000/50000 (100%)]\tLosses bn: 0.022763\n",
      "Test set:\n",
      "bn: Loss: 0.0397\tAccuracy: 9871.0/10000 (99%)\n",
      "\n",
      "Train Epoch: 47 [0/50000 (0%)]\tLosses bn: 0.004261\n",
      "Train Epoch: 47 [10000/50000 (20%)]\tLosses bn: 0.014698\n",
      "Train Epoch: 47 [20000/50000 (40%)]\tLosses bn: 0.005939\n",
      "Train Epoch: 47 [30000/50000 (60%)]\tLosses bn: 0.005980\n",
      "Train Epoch: 47 [40000/50000 (80%)]\tLosses bn: 0.002709\n",
      "Train Epoch: 47 [50000/50000 (100%)]\tLosses bn: 0.032481\n",
      "Test set:\n",
      "bn: Loss: 0.0380\tAccuracy: 9879.0/10000 (99%)\n",
      "\n",
      "Train Epoch: 48 [0/50000 (0%)]\tLosses bn: 0.016420\n",
      "Train Epoch: 48 [10000/50000 (20%)]\tLosses bn: 0.008686\n",
      "Train Epoch: 48 [20000/50000 (40%)]\tLosses bn: 0.014816\n",
      "Train Epoch: 48 [30000/50000 (60%)]\tLosses bn: 0.014936\n",
      "Train Epoch: 48 [40000/50000 (80%)]\tLosses bn: 0.004633\n",
      "Train Epoch: 48 [50000/50000 (100%)]\tLosses bn: 0.006093\n",
      "Test set:\n",
      "bn: Loss: 0.0419\tAccuracy: 9859.0/10000 (99%)\n",
      "\n",
      "Train Epoch: 49 [0/50000 (0%)]\tLosses bn: 0.002983\n",
      "Train Epoch: 49 [10000/50000 (20%)]\tLosses bn: 0.008820\n",
      "Train Epoch: 49 [20000/50000 (40%)]\tLosses bn: 0.009083\n",
      "Train Epoch: 49 [30000/50000 (60%)]\tLosses bn: 0.018635\n",
      "Train Epoch: 49 [40000/50000 (80%)]\tLosses bn: 0.006797\n",
      "Train Epoch: 49 [50000/50000 (100%)]\tLosses bn: 0.003715\n",
      "Test set:\n",
      "bn: Loss: 0.0385\tAccuracy: 9871.0/10000 (99%)\n",
      "\n",
      "Train Epoch: 50 [0/50000 (0%)]\tLosses bn: 0.006512\n",
      "Train Epoch: 50 [10000/50000 (20%)]\tLosses bn: 0.009226\n",
      "Train Epoch: 50 [20000/50000 (40%)]\tLosses bn: 0.025699\n",
      "Train Epoch: 50 [30000/50000 (60%)]\tLosses bn: 0.006968\n",
      "Train Epoch: 50 [40000/50000 (80%)]\tLosses bn: 0.033528\n",
      "Train Epoch: 50 [50000/50000 (100%)]\tLosses bn: 0.017736\n",
      "Test set:\n",
      "bn: Loss: 0.0393\tAccuracy: 9874.0/10000 (99%)\n",
      "\n"
     ]
    }
   ],
   "source": [
    "for epoch in range(1, 51):\n",
    "    for model in models.values():\n",
    "        model.train()\n",
    "    train(epoch, models, train_log)\n",
    "    for model in models.values():\n",
    "        model.eval()\n",
    "    test(models, valid_loader, test_log)"
   ]
  },
  {
   "cell_type": "code",
   "execution_count": 33,
   "metadata": {},
   "outputs": [
    {
     "data": {
      "image/png": "[encoded data removed]",
      "text/plain": [
       "<Figure size 432x288 with 1 Axes>"
      ]
     },
     "metadata": {},
     "output_type": "display_data"
    }
   ],
   "source": [
    "plot_graphs(test_log, 'loss')"
   ]
  },
  {
   "cell_type": "code",
   "execution_count": 34,
   "metadata": {},
   "outputs": [
    {
     "data": {
      "image/png": "[encoded data removed]",
      "text/plain": [
       "<Figure size 432x288 with 1 Axes>"
      ]
     },
     "metadata": {},
     "output_type": "display_data"
    }
   ],
   "source": [
    "plot_graphs(test_log, 'accuracy')"
   ]
  },
  {
   "cell_type": "code",
   "execution_count": 35,
   "metadata": {},
   "outputs": [
    {
     "data": {
      "image/png": "[encoded data removed]",
      "text/plain": [
       "<Figure size 800x400 with 50 Axes>"
      ]
     },
     "metadata": {},
     "output_type": "display_data"
    },
    {
     "name": "stdout",
     "output_type": "stream",
     "text": [
      "tensor([-6.9518,  5.2943, -6.2082, -7.3083, -1.3481, -4.4462, -7.4913, -2.7133,\n",
      "        -2.5083, -5.3472], grad_fn=<SelectBackward>)\n"
     ]
    }
   ],
   "source": [
    "data, label = next(iter(train_loader))\n",
    "plot_mnist(data.data.numpy(), (5, 10))\n",
    "output = models['bn'](data)\n",
    "output.size()\n",
    "print(output[0])\n",
    "#to_plot = output.view(-1, 1, 28, 28).clamp(0, 1).data.numpy()\n",
    "#plot_mnist(to_plot, (5, 10))"
   ]
  },
  {
   "cell_type": "markdown",
   "metadata": {},
   "source": [
    "### Подгонка картинки или Сделать оптимизацию изображения под активацию сверточных нейронов классификатора"
   ]
  },
  {
   "cell_type": "code",
   "execution_count": 36,
   "metadata": {},
   "outputs": [],
   "source": [
    "path='./MNIST_data'\n",
    "from torch.utils.data import DataLoader\n",
    "train_dataset = torchvision.datasets.MNIST(root = path, train=True, transform=mnist_transform, download=True) \n",
    "train_loader_1 = DataLoader(dataset=train_dataset, batch_size=1,shuffle=True) \n",
    "data_1_load, label_1 = next(iter(train_loader_1))"
   ]
  },
  {
   "cell_type": "code",
   "execution_count": 37,
   "metadata": {},
   "outputs": [],
   "source": [
    "# Целевой пусть будет циферка :\n",
    "target = torch.tensor([3])"
   ]
  },
  {
   "cell_type": "code",
   "execution_count": 42,
   "metadata": {},
   "outputs": [
    {
     "name": "stderr",
     "output_type": "stream",
     "text": [
      "/opt/conda/lib/python3.6/site-packages/ipykernel_launcher.py:7: UserWarning: To copy construct from a tensor, it is recommended to use sourceTensor.clone().detach() or sourceTensor.clone().detach().requires_grad_(True), rather than torch.tensor(sourceTensor).\n",
      "  import sys\n"
     ]
    },
    {
     "data": {
      "image/png": "[encoded data removed]",
      "text/plain": [
       "<Figure size 800x400 with 1 Axes>"
      ]
     },
     "metadata": {},
     "output_type": "display_data"
    },
    {
     "name": "stdout",
     "output_type": "stream",
     "text": [
      "10.350896835327148\n"
     ]
    },
    {
     "data": {
      "image/png": "[encoded data removed]",
      "text/plain": [
       "<Figure size 800x400 with 1 Axes>"
      ]
     },
     "metadata": {},
     "output_type": "display_data"
    },
    {
     "name": "stdout",
     "output_type": "stream",
     "text": [
      "5.64421272277832\n"
     ]
    },
    {
     "data": {
      "image/png": "[encoded data removed]",
      "text/plain": [
       "<Figure size 800x400 with 1 Axes>"
      ]
     },
     "metadata": {},
     "output_type": "display_data"
    },
    {
     "name": "stdout",
     "output_type": "stream",
     "text": [
      "3.0047707557678223\n"
     ]
    },
    {
     "data": {
      "image/png": "[encoded data removed]",
      "text/plain": [
       "<Figure size 800x400 with 1 Axes>"
      ]
     },
     "metadata": {},
     "output_type": "display_data"
    },
    {
     "name": "stdout",
     "output_type": "stream",
     "text": [
      "1.1094999313354492\n"
     ]
    },
    {
     "data": {
      "image/png": "[encoded data removed]",
      "text/plain": [
       "<Figure size 800x400 with 1 Axes>"
      ]
     },
     "metadata": {},
     "output_type": "display_data"
    },
    {
     "name": "stdout",
     "output_type": "stream",
     "text": [
      "0.3033146858215332\n"
     ]
    },
    {
     "data": {
      "image/png": "[encoded data removed]",
      "text/plain": [
       "<Figure size 800x400 with 1 Axes>"
      ]
     },
     "metadata": {},
     "output_type": "display_data"
    },
    {
     "name": "stdout",
     "output_type": "stream",
     "text": [
      "0.11459088325500488\n"
     ]
    },
    {
     "data": {
      "image/png": "[encoded data removed]",
      "text/plain": [
       "<Figure size 800x400 with 1 Axes>"
      ]
     },
     "metadata": {},
     "output_type": "display_data"
    },
    {
     "name": "stdout",
     "output_type": "stream",
     "text": [
      "0.03261232376098633\n"
     ]
    },
    {
     "data": {
      "image/png": "[encoded data removed]",
      "text/plain": [
       "<Figure size 800x400 with 1 Axes>"
      ]
     },
     "metadata": {},
     "output_type": "display_data"
    },
    {
     "name": "stdout",
     "output_type": "stream",
     "text": [
      "0.0108642578125\n"
     ]
    },
    {
     "data": {
      "image/png": "[encoded data removed]",
      "text/plain": [
       "<Figure size 800x400 with 1 Axes>"
      ]
     },
     "metadata": {},
     "output_type": "display_data"
    },
    {
     "name": "stdout",
     "output_type": "stream",
     "text": [
      "0.003795623779296875\n"
     ]
    },
    {
     "data": {
      "image/png": "[encoded data removed]",
      "text/plain": [
       "<Figure size 800x400 with 1 Axes>"
      ]
     },
     "metadata": {},
     "output_type": "display_data"
    },
    {
     "name": "stdout",
     "output_type": "stream",
     "text": [
      "0.0013399124145507812\n"
     ]
    },
    {
     "data": {
      "image/png": "[encoded data removed]",
      "text/plain": [
       "<Figure size 800x400 with 1 Axes>"
      ]
     },
     "metadata": {},
     "output_type": "display_data"
    },
    {
     "name": "stdout",
     "output_type": "stream",
     "text": [
      "0.0006952285766601562\n"
     ]
    },
    {
     "ename": "KeyboardInterrupt",
     "evalue": "",
     "output_type": "error",
     "traceback": [
      "\u001b[0;31m---------------------------------------------------------------------------\u001b[0m",
      "\u001b[0;31mKeyboardInterrupt\u001b[0m                         Traceback (most recent call last)",
      "\u001b[0;32m<ipython-input-42-8fd316313376>\u001b[0m in \u001b[0;36m<module>\u001b[0;34m()\u001b[0m\n\u001b[1;32m     11\u001b[0m \u001b[0;32mfor\u001b[0m \u001b[0mi\u001b[0m \u001b[0;32min\u001b[0m \u001b[0mrange\u001b[0m\u001b[0;34m(\u001b[0m\u001b[0;36m0\u001b[0m\u001b[0;34m,\u001b[0m\u001b[0;36m200000\u001b[0m\u001b[0;34m)\u001b[0m\u001b[0;34m:\u001b[0m\u001b[0;34m\u001b[0m\u001b[0m\n\u001b[1;32m     12\u001b[0m     \u001b[0mopt\u001b[0m\u001b[0;34m.\u001b[0m\u001b[0mzero_grad\u001b[0m\u001b[0;34m(\u001b[0m\u001b[0;34m)\u001b[0m\u001b[0;34m\u001b[0m\u001b[0m\n\u001b[0;32m---> 13\u001b[0;31m     \u001b[0moutput_1\u001b[0m \u001b[0;34m=\u001b[0m \u001b[0mmodel\u001b[0m\u001b[0;34m(\u001b[0m\u001b[0mdata_1\u001b[0m\u001b[0;34m)\u001b[0m\u001b[0;34m\u001b[0m\u001b[0m\n\u001b[0m\u001b[1;32m     14\u001b[0m     \u001b[0mloss_t\u001b[0m \u001b[0;34m=\u001b[0m \u001b[0mF\u001b[0m\u001b[0;34m.\u001b[0m\u001b[0mcross_entropy\u001b[0m\u001b[0;34m(\u001b[0m\u001b[0moutput_1\u001b[0m\u001b[0;34m,\u001b[0m \u001b[0mtarget\u001b[0m\u001b[0;34m)\u001b[0m\u001b[0;34m\u001b[0m\u001b[0m\n\u001b[1;32m     15\u001b[0m     \u001b[0mloss_t\u001b[0m\u001b[0;34m.\u001b[0m\u001b[0mbackward\u001b[0m\u001b[0;34m(\u001b[0m\u001b[0;34m)\u001b[0m\u001b[0;34m\u001b[0m\u001b[0m\n",
      "\u001b[0;32m/opt/conda/lib/python3.6/site-packages/torch/nn/modules/module.py\u001b[0m in \u001b[0;36m__call__\u001b[0;34m(self, *input, **kwargs)\u001b[0m\n\u001b[1;32m    487\u001b[0m             \u001b[0mresult\u001b[0m \u001b[0;34m=\u001b[0m \u001b[0mself\u001b[0m\u001b[0;34m.\u001b[0m\u001b[0m_slow_forward\u001b[0m\u001b[0;34m(\u001b[0m\u001b[0;34m*\u001b[0m\u001b[0minput\u001b[0m\u001b[0;34m,\u001b[0m \u001b[0;34m**\u001b[0m\u001b[0mkwargs\u001b[0m\u001b[0;34m)\u001b[0m\u001b[0;34m\u001b[0m\u001b[0m\n\u001b[1;32m    488\u001b[0m         \u001b[0;32melse\u001b[0m\u001b[0;34m:\u001b[0m\u001b[0;34m\u001b[0m\u001b[0m\n\u001b[0;32m--> 489\u001b[0;31m             \u001b[0mresult\u001b[0m \u001b[0;34m=\u001b[0m \u001b[0mself\u001b[0m\u001b[0;34m.\u001b[0m\u001b[0mforward\u001b[0m\u001b[0;34m(\u001b[0m\u001b[0;34m*\u001b[0m\u001b[0minput\u001b[0m\u001b[0;34m,\u001b[0m \u001b[0;34m**\u001b[0m\u001b[0mkwargs\u001b[0m\u001b[0;34m)\u001b[0m\u001b[0;34m\u001b[0m\u001b[0m\n\u001b[0m\u001b[1;32m    490\u001b[0m         \u001b[0;32mfor\u001b[0m \u001b[0mhook\u001b[0m \u001b[0;32min\u001b[0m \u001b[0mself\u001b[0m\u001b[0;34m.\u001b[0m\u001b[0m_forward_hooks\u001b[0m\u001b[0;34m.\u001b[0m\u001b[0mvalues\u001b[0m\u001b[0;34m(\u001b[0m\u001b[0;34m)\u001b[0m\u001b[0;34m:\u001b[0m\u001b[0;34m\u001b[0m\u001b[0m\n\u001b[1;32m    491\u001b[0m             \u001b[0mhook_result\u001b[0m \u001b[0;34m=\u001b[0m \u001b[0mhook\u001b[0m\u001b[0;34m(\u001b[0m\u001b[0mself\u001b[0m\u001b[0;34m,\u001b[0m \u001b[0minput\u001b[0m\u001b[0;34m,\u001b[0m \u001b[0mresult\u001b[0m\u001b[0;34m)\u001b[0m\u001b[0;34m\u001b[0m\u001b[0m\n",
      "\u001b[0;32m<ipython-input-28-05ddb8612072>\u001b[0m in \u001b[0;36mforward\u001b[0;34m(self, x)\u001b[0m\n\u001b[1;32m     22\u001b[0m         \u001b[0mx\u001b[0m \u001b[0;34m=\u001b[0m \u001b[0mself\u001b[0m\u001b[0;34m.\u001b[0m\u001b[0mconv\u001b[0m\u001b[0;34m(\u001b[0m\u001b[0mx\u001b[0m\u001b[0;34m)\u001b[0m\u001b[0;34m\u001b[0m\u001b[0m\n\u001b[1;32m     23\u001b[0m         \u001b[0mx\u001b[0m \u001b[0;34m=\u001b[0m \u001b[0mx\u001b[0m\u001b[0;34m.\u001b[0m\u001b[0mview\u001b[0m\u001b[0;34m(\u001b[0m\u001b[0;34m-\u001b[0m\u001b[0;36m1\u001b[0m\u001b[0;34m,\u001b[0m \u001b[0;36m32\u001b[0m\u001b[0;34m*\u001b[0m\u001b[0;36m7\u001b[0m\u001b[0;34m*\u001b[0m\u001b[0;36m7\u001b[0m\u001b[0;34m)\u001b[0m\u001b[0;34m\u001b[0m\u001b[0m\n\u001b[0;32m---> 24\u001b[0;31m         \u001b[0mx\u001b[0m \u001b[0;34m=\u001b[0m \u001b[0mself\u001b[0m\u001b[0;34m.\u001b[0m\u001b[0mfc\u001b[0m\u001b[0;34m(\u001b[0m\u001b[0mx\u001b[0m\u001b[0;34m)\u001b[0m\u001b[0;34m\u001b[0m\u001b[0m\n\u001b[0m\u001b[1;32m     25\u001b[0m         \u001b[0;32mreturn\u001b[0m \u001b[0mx\u001b[0m\u001b[0;34m\u001b[0m\u001b[0m\n\u001b[1;32m     26\u001b[0m \u001b[0;34m\u001b[0m\u001b[0m\n",
      "\u001b[0;32m/opt/conda/lib/python3.6/site-packages/torch/nn/modules/module.py\u001b[0m in \u001b[0;36m__call__\u001b[0;34m(self, *input, **kwargs)\u001b[0m\n\u001b[1;32m    487\u001b[0m             \u001b[0mresult\u001b[0m \u001b[0;34m=\u001b[0m \u001b[0mself\u001b[0m\u001b[0;34m.\u001b[0m\u001b[0m_slow_forward\u001b[0m\u001b[0;34m(\u001b[0m\u001b[0;34m*\u001b[0m\u001b[0minput\u001b[0m\u001b[0;34m,\u001b[0m \u001b[0;34m**\u001b[0m\u001b[0mkwargs\u001b[0m\u001b[0;34m)\u001b[0m\u001b[0;34m\u001b[0m\u001b[0m\n\u001b[1;32m    488\u001b[0m         \u001b[0;32melse\u001b[0m\u001b[0;34m:\u001b[0m\u001b[0;34m\u001b[0m\u001b[0m\n\u001b[0;32m--> 489\u001b[0;31m             \u001b[0mresult\u001b[0m \u001b[0;34m=\u001b[0m \u001b[0mself\u001b[0m\u001b[0;34m.\u001b[0m\u001b[0mforward\u001b[0m\u001b[0;34m(\u001b[0m\u001b[0;34m*\u001b[0m\u001b[0minput\u001b[0m\u001b[0;34m,\u001b[0m \u001b[0;34m**\u001b[0m\u001b[0mkwargs\u001b[0m\u001b[0;34m)\u001b[0m\u001b[0;34m\u001b[0m\u001b[0m\n\u001b[0m\u001b[1;32m    490\u001b[0m         \u001b[0;32mfor\u001b[0m \u001b[0mhook\u001b[0m \u001b[0;32min\u001b[0m \u001b[0mself\u001b[0m\u001b[0;34m.\u001b[0m\u001b[0m_forward_hooks\u001b[0m\u001b[0;34m.\u001b[0m\u001b[0mvalues\u001b[0m\u001b[0;34m(\u001b[0m\u001b[0;34m)\u001b[0m\u001b[0;34m:\u001b[0m\u001b[0;34m\u001b[0m\u001b[0m\n\u001b[1;32m    491\u001b[0m             \u001b[0mhook_result\u001b[0m \u001b[0;34m=\u001b[0m \u001b[0mhook\u001b[0m\u001b[0;34m(\u001b[0m\u001b[0mself\u001b[0m\u001b[0;34m,\u001b[0m \u001b[0minput\u001b[0m\u001b[0;34m,\u001b[0m \u001b[0mresult\u001b[0m\u001b[0;34m)\u001b[0m\u001b[0;34m\u001b[0m\u001b[0m\n",
      "\u001b[0;32m<ipython-input-27-85e660546bff>\u001b[0m in \u001b[0;36mforward\u001b[0;34m(self, x)\u001b[0m\n\u001b[1;32m     15\u001b[0m \u001b[0;34m\u001b[0m\u001b[0m\n\u001b[1;32m     16\u001b[0m     \u001b[0;32mdef\u001b[0m \u001b[0mforward\u001b[0m\u001b[0;34m(\u001b[0m\u001b[0mself\u001b[0m\u001b[0;34m,\u001b[0m \u001b[0mx\u001b[0m\u001b[0;34m)\u001b[0m\u001b[0;34m:\u001b[0m\u001b[0;34m\u001b[0m\u001b[0m\n\u001b[0;32m---> 17\u001b[0;31m         \u001b[0;32mreturn\u001b[0m \u001b[0mself\u001b[0m\u001b[0;34m.\u001b[0m\u001b[0mmodel\u001b[0m\u001b[0;34m(\u001b[0m\u001b[0mx\u001b[0m\u001b[0;34m)\u001b[0m\u001b[0;34m\u001b[0m\u001b[0m\n\u001b[0m",
      "\u001b[0;32m/opt/conda/lib/python3.6/site-packages/torch/nn/modules/module.py\u001b[0m in \u001b[0;36m__call__\u001b[0;34m(self, *input, **kwargs)\u001b[0m\n\u001b[1;32m    487\u001b[0m             \u001b[0mresult\u001b[0m \u001b[0;34m=\u001b[0m \u001b[0mself\u001b[0m\u001b[0;34m.\u001b[0m\u001b[0m_slow_forward\u001b[0m\u001b[0;34m(\u001b[0m\u001b[0;34m*\u001b[0m\u001b[0minput\u001b[0m\u001b[0;34m,\u001b[0m \u001b[0;34m**\u001b[0m\u001b[0mkwargs\u001b[0m\u001b[0;34m)\u001b[0m\u001b[0;34m\u001b[0m\u001b[0m\n\u001b[1;32m    488\u001b[0m         \u001b[0;32melse\u001b[0m\u001b[0;34m:\u001b[0m\u001b[0;34m\u001b[0m\u001b[0m\n\u001b[0;32m--> 489\u001b[0;31m             \u001b[0mresult\u001b[0m \u001b[0;34m=\u001b[0m \u001b[0mself\u001b[0m\u001b[0;34m.\u001b[0m\u001b[0mforward\u001b[0m\u001b[0;34m(\u001b[0m\u001b[0;34m*\u001b[0m\u001b[0minput\u001b[0m\u001b[0;34m,\u001b[0m \u001b[0;34m**\u001b[0m\u001b[0mkwargs\u001b[0m\u001b[0;34m)\u001b[0m\u001b[0;34m\u001b[0m\u001b[0m\n\u001b[0m\u001b[1;32m    490\u001b[0m         \u001b[0;32mfor\u001b[0m \u001b[0mhook\u001b[0m \u001b[0;32min\u001b[0m \u001b[0mself\u001b[0m\u001b[0;34m.\u001b[0m\u001b[0m_forward_hooks\u001b[0m\u001b[0;34m.\u001b[0m\u001b[0mvalues\u001b[0m\u001b[0;34m(\u001b[0m\u001b[0;34m)\u001b[0m\u001b[0;34m:\u001b[0m\u001b[0;34m\u001b[0m\u001b[0m\n\u001b[1;32m    491\u001b[0m             \u001b[0mhook_result\u001b[0m \u001b[0;34m=\u001b[0m \u001b[0mhook\u001b[0m\u001b[0;34m(\u001b[0m\u001b[0mself\u001b[0m\u001b[0;34m,\u001b[0m \u001b[0minput\u001b[0m\u001b[0;34m,\u001b[0m \u001b[0mresult\u001b[0m\u001b[0;34m)\u001b[0m\u001b[0;34m\u001b[0m\u001b[0m\n",
      "\u001b[0;32m/opt/conda/lib/python3.6/site-packages/torch/nn/modules/container.py\u001b[0m in \u001b[0;36mforward\u001b[0;34m(self, input)\u001b[0m\n\u001b[1;32m     90\u001b[0m     \u001b[0;32mdef\u001b[0m \u001b[0mforward\u001b[0m\u001b[0;34m(\u001b[0m\u001b[0mself\u001b[0m\u001b[0;34m,\u001b[0m \u001b[0minput\u001b[0m\u001b[0;34m)\u001b[0m\u001b[0;34m:\u001b[0m\u001b[0;34m\u001b[0m\u001b[0m\n\u001b[1;32m     91\u001b[0m         \u001b[0;32mfor\u001b[0m \u001b[0mmodule\u001b[0m \u001b[0;32min\u001b[0m \u001b[0mself\u001b[0m\u001b[0;34m.\u001b[0m\u001b[0m_modules\u001b[0m\u001b[0;34m.\u001b[0m\u001b[0mvalues\u001b[0m\u001b[0;34m(\u001b[0m\u001b[0;34m)\u001b[0m\u001b[0;34m:\u001b[0m\u001b[0;34m\u001b[0m\u001b[0m\n\u001b[0;32m---> 92\u001b[0;31m             \u001b[0minput\u001b[0m \u001b[0;34m=\u001b[0m \u001b[0mmodule\u001b[0m\u001b[0;34m(\u001b[0m\u001b[0minput\u001b[0m\u001b[0;34m)\u001b[0m\u001b[0;34m\u001b[0m\u001b[0m\n\u001b[0m\u001b[1;32m     93\u001b[0m         \u001b[0;32mreturn\u001b[0m \u001b[0minput\u001b[0m\u001b[0;34m\u001b[0m\u001b[0m\n\u001b[1;32m     94\u001b[0m \u001b[0;34m\u001b[0m\u001b[0m\n",
      "\u001b[0;32m/opt/conda/lib/python3.6/site-packages/torch/nn/modules/module.py\u001b[0m in \u001b[0;36m__call__\u001b[0;34m(self, *input, **kwargs)\u001b[0m\n\u001b[1;32m    487\u001b[0m             \u001b[0mresult\u001b[0m \u001b[0;34m=\u001b[0m \u001b[0mself\u001b[0m\u001b[0;34m.\u001b[0m\u001b[0m_slow_forward\u001b[0m\u001b[0;34m(\u001b[0m\u001b[0;34m*\u001b[0m\u001b[0minput\u001b[0m\u001b[0;34m,\u001b[0m \u001b[0;34m**\u001b[0m\u001b[0mkwargs\u001b[0m\u001b[0;34m)\u001b[0m\u001b[0;34m\u001b[0m\u001b[0m\n\u001b[1;32m    488\u001b[0m         \u001b[0;32melse\u001b[0m\u001b[0;34m:\u001b[0m\u001b[0;34m\u001b[0m\u001b[0m\n\u001b[0;32m--> 489\u001b[0;31m             \u001b[0mresult\u001b[0m \u001b[0;34m=\u001b[0m \u001b[0mself\u001b[0m\u001b[0;34m.\u001b[0m\u001b[0mforward\u001b[0m\u001b[0;34m(\u001b[0m\u001b[0;34m*\u001b[0m\u001b[0minput\u001b[0m\u001b[0;34m,\u001b[0m \u001b[0;34m**\u001b[0m\u001b[0mkwargs\u001b[0m\u001b[0;34m)\u001b[0m\u001b[0;34m\u001b[0m\u001b[0m\n\u001b[0m\u001b[1;32m    490\u001b[0m         \u001b[0;32mfor\u001b[0m \u001b[0mhook\u001b[0m \u001b[0;32min\u001b[0m \u001b[0mself\u001b[0m\u001b[0;34m.\u001b[0m\u001b[0m_forward_hooks\u001b[0m\u001b[0;34m.\u001b[0m\u001b[0mvalues\u001b[0m\u001b[0;34m(\u001b[0m\u001b[0;34m)\u001b[0m\u001b[0;34m:\u001b[0m\u001b[0;34m\u001b[0m\u001b[0m\n\u001b[1;32m    491\u001b[0m             \u001b[0mhook_result\u001b[0m \u001b[0;34m=\u001b[0m \u001b[0mhook\u001b[0m\u001b[0;34m(\u001b[0m\u001b[0mself\u001b[0m\u001b[0;34m,\u001b[0m \u001b[0minput\u001b[0m\u001b[0;34m,\u001b[0m \u001b[0mresult\u001b[0m\u001b[0;34m)\u001b[0m\u001b[0;34m\u001b[0m\u001b[0m\n",
      "\u001b[0;32m/opt/conda/lib/python3.6/site-packages/torch/nn/modules/linear.py\u001b[0m in \u001b[0;36mforward\u001b[0;34m(self, input)\u001b[0m\n\u001b[1;32m     65\u001b[0m     \u001b[0;34m@\u001b[0m\u001b[0mweak_script_method\u001b[0m\u001b[0;34m\u001b[0m\u001b[0m\n\u001b[1;32m     66\u001b[0m     \u001b[0;32mdef\u001b[0m \u001b[0mforward\u001b[0m\u001b[0;34m(\u001b[0m\u001b[0mself\u001b[0m\u001b[0;34m,\u001b[0m \u001b[0minput\u001b[0m\u001b[0;34m)\u001b[0m\u001b[0;34m:\u001b[0m\u001b[0;34m\u001b[0m\u001b[0m\n\u001b[0;32m---> 67\u001b[0;31m         \u001b[0;32mreturn\u001b[0m \u001b[0mF\u001b[0m\u001b[0;34m.\u001b[0m\u001b[0mlinear\u001b[0m\u001b[0;34m(\u001b[0m\u001b[0minput\u001b[0m\u001b[0;34m,\u001b[0m \u001b[0mself\u001b[0m\u001b[0;34m.\u001b[0m\u001b[0mweight\u001b[0m\u001b[0;34m,\u001b[0m \u001b[0mself\u001b[0m\u001b[0;34m.\u001b[0m\u001b[0mbias\u001b[0m\u001b[0;34m)\u001b[0m\u001b[0;34m\u001b[0m\u001b[0m\n\u001b[0m\u001b[1;32m     68\u001b[0m \u001b[0;34m\u001b[0m\u001b[0m\n\u001b[1;32m     69\u001b[0m     \u001b[0;32mdef\u001b[0m \u001b[0mextra_repr\u001b[0m\u001b[0;34m(\u001b[0m\u001b[0mself\u001b[0m\u001b[0;34m)\u001b[0m\u001b[0;34m:\u001b[0m\u001b[0;34m\u001b[0m\u001b[0m\n",
      "\u001b[0;32m/opt/conda/lib/python3.6/site-packages/torch/nn/functional.py\u001b[0m in \u001b[0;36mlinear\u001b[0;34m(input, weight, bias)\u001b[0m\n\u001b[1;32m   1350\u001b[0m     \u001b[0;32mif\u001b[0m \u001b[0minput\u001b[0m\u001b[0;34m.\u001b[0m\u001b[0mdim\u001b[0m\u001b[0;34m(\u001b[0m\u001b[0;34m)\u001b[0m \u001b[0;34m==\u001b[0m \u001b[0;36m2\u001b[0m \u001b[0;32mand\u001b[0m \u001b[0mbias\u001b[0m \u001b[0;32mis\u001b[0m \u001b[0;32mnot\u001b[0m \u001b[0;32mNone\u001b[0m\u001b[0;34m:\u001b[0m\u001b[0;34m\u001b[0m\u001b[0m\n\u001b[1;32m   1351\u001b[0m         \u001b[0;31m# fused op is marginally faster\u001b[0m\u001b[0;34m\u001b[0m\u001b[0;34m\u001b[0m\u001b[0m\n\u001b[0;32m-> 1352\u001b[0;31m         \u001b[0mret\u001b[0m \u001b[0;34m=\u001b[0m \u001b[0mtorch\u001b[0m\u001b[0;34m.\u001b[0m\u001b[0maddmm\u001b[0m\u001b[0;34m(\u001b[0m\u001b[0mtorch\u001b[0m\u001b[0;34m.\u001b[0m\u001b[0mjit\u001b[0m\u001b[0;34m.\u001b[0m\u001b[0m_unwrap_optional\u001b[0m\u001b[0;34m(\u001b[0m\u001b[0mbias\u001b[0m\u001b[0;34m)\u001b[0m\u001b[0;34m,\u001b[0m \u001b[0minput\u001b[0m\u001b[0;34m,\u001b[0m \u001b[0mweight\u001b[0m\u001b[0;34m.\u001b[0m\u001b[0mt\u001b[0m\u001b[0;34m(\u001b[0m\u001b[0;34m)\u001b[0m\u001b[0;34m)\u001b[0m\u001b[0;34m\u001b[0m\u001b[0m\n\u001b[0m\u001b[1;32m   1353\u001b[0m     \u001b[0;32melse\u001b[0m\u001b[0;34m:\u001b[0m\u001b[0;34m\u001b[0m\u001b[0m\n\u001b[1;32m   1354\u001b[0m         \u001b[0moutput\u001b[0m \u001b[0;34m=\u001b[0m \u001b[0minput\u001b[0m\u001b[0;34m.\u001b[0m\u001b[0mmatmul\u001b[0m\u001b[0;34m(\u001b[0m\u001b[0mweight\u001b[0m\u001b[0;34m.\u001b[0m\u001b[0mt\u001b[0m\u001b[0;34m(\u001b[0m\u001b[0;34m)\u001b[0m\u001b[0;34m)\u001b[0m\u001b[0;34m\u001b[0m\u001b[0m\n",
      "\u001b[0;31mKeyboardInterrupt\u001b[0m: "
     ]
    }
   ],
   "source": [
    "# Test\n",
    "# Cross entropy with OPTIM.zero_grad()\n",
    "#lr = 0.03\n",
    "output_ar = []\n",
    "loss_arr = []\n",
    "grads = []\n",
    "data_1 = torch.tensor( data_1_load , requires_grad= True )\n",
    "opt = optim.Adam([data_1])\n",
    "#data_1 = data_1_load.detach()\n",
    "#print(data_1.data)\n",
    "for i in range(0,200000):\n",
    "    opt.zero_grad()\n",
    "    output_1 = model(data_1)\n",
    "    loss_t = F.cross_entropy(output_1, target)\n",
    "    loss_t.backward()\n",
    "    opt = optim.Adam([data_1])\n",
    "    opt.step()\n",
    "    if i % 50 == 0:\n",
    "        plot_mnist(data_1.data.numpy(), (5, 10))\n",
    "        print(loss_t.data.item())\n",
    "plot_mnist(data_1.data.numpy(), (5, 10))"
   ]
  },
  {
   "cell_type": "code",
   "execution_count": 40,
   "metadata": {},
   "outputs": [],
   "source": [
    "#opt.state"
   ]
  },
  {
   "cell_type": "code",
   "execution_count": 43,
   "metadata": {},
   "outputs": [
    {
     "name": "stdout",
     "output_type": "stream",
     "text": [
      "tensor([[-16.9569,  -1.1730,  -3.0414,   7.7457,  -2.5525,  -0.7616,  -3.3143,\n",
      "          -1.2299, -21.0487, -13.9153]], grad_fn=<AddmmBackward>)\n"
     ]
    }
   ],
   "source": [
    "# Проверка, что это все таки та цифра, которую ожидали :)\n",
    "output_1 = model(data_1)\n",
    "print(output_1)"
   ]
  },
  {
   "cell_type": "code",
   "execution_count": null,
   "metadata": {},
   "outputs": [],
   "source": []
  }
 ],
 "metadata": {
  "kernelspec": {
   "display_name": "Python 3",
   "language": "python",
   "name": "python3"
  },
  "language_info": {
   "codemirror_mode": {
    "name": "ipython",
    "version": 3
   },
   "file_extension": ".py",
   "mimetype": "text/x-python",
   "name": "python",
   "nbconvert_exporter": "python",
   "pygments_lexer": "ipython3",
   "version": "3.6.3"
  }
 },
 "nbformat": 4,
 "nbformat_minor": 2
}
